{
 "cells": [
  {
   "cell_type": "markdown",
   "source": [
    "Notebook del test"
   ],
   "metadata": {
    "collapsed": false
   }
  },
  {
   "cell_type": "code",
   "execution_count": 1,
   "metadata": {
    "collapsed": true,
    "pycharm": {
     "name": "#%%\n"
    }
   },
   "outputs": [],
   "source": [
    "import pandas as pd\n",
    "import numpy as np\n",
    "from PIL import Image\n",
    "from natsort import natsorted, natsort_keygen\n",
    "import os\n",
    "from sklearn import preprocessing\n",
    "from sklearn.model_selection import train_test_split\n",
    "from sklearn.tree import DecisionTreeClassifier, plot_tree, ExtraTreeClassifier\n",
    "from sklearn.ensemble import RandomForestClassifier\n",
    "from sklearn.dummy import DummyClassifier\n",
    "from sklearn.metrics import accuracy_score, classification_report, confusion_matrix\n",
    "from sklearn.model_selection import GridSearchCV\n",
    "\n",
    "import albumentations as A\n",
    "from albumentations.pytorch import ToTensorV2\n",
    "from torch.utils.data import Dataset, DataLoader\n",
    "import torch\n",
    "from torchvision.models.resnet import model_urls\n",
    "import torchvision"
   ]
  },
  {
   "cell_type": "code",
   "execution_count": null,
   "outputs": [],
   "source": [],
   "metadata": {
    "collapsed": false,
    "pycharm": {
     "name": "#%%\n"
    }
   }
  },
  {
   "cell_type": "code",
   "execution_count": 2,
   "outputs": [],
   "source": [
    "data_path= os.path.join(r'C:\\Users\\Federico Cocchi\\UNIMORE\\3° SEMESTRE\\covid-hackathon\\TestSet', r'testClinData.xls')"
   ],
   "metadata": {
    "collapsed": false,
    "pycharm": {
     "name": "#%%\n"
    }
   }
  },
  {
   "cell_type": "code",
   "execution_count": 3,
   "outputs": [
    {
     "name": "stdout",
     "output_type": "stream",
     "text": [
      "(486, 40)\n"
     ]
    },
    {
     "data": {
      "text/plain": "   Row_number    ImageFile Hospital  Age  Sex  PositivityAtAdmission  Temp_C  \\\n0      1247.0   P_3_29.png        F   76    1                      1    36.0   \n1      1199.0  P_3_415.png        F   64    0                      1    36.0   \n2      1504.0  P_3_163.png        F   87    1                      1    37.6   \n3      1271.0  P_3_348.png        F   76    1                      1    36.0   \n4      1572.0  P_3_263.png        F   77    1                      1    36.1   \n\n   DaysFever  Cough  DifficultyInBreathing  ...  Diabetes  Dementia  BPCO  \\\n0        4.0    0.0                    1.0  ...       0.0       0.0   0.0   \n1        1.0    0.0                    0.0  ...       0.0       0.0   0.0   \n2        2.0    0.0                    0.0  ...       0.0       0.0   0.0   \n3        NaN    0.0                    1.0  ...       0.0       0.0   0.0   \n4        1.0    0.0                    1.0  ...       0.0       0.0   0.0   \n\n   Cancer  ChronicKidneyDisease  RespiratoryFailure  Obesity  Position  \\\n0     0.0                   0.0                 0.0      0.0       NaN   \n1     0.0                   0.0                 0.0      0.0       NaN   \n2     0.0                   0.0                 0.0      0.0       NaN   \n3     0.0                   0.0                 0.0      0.0       NaN   \n4     0.0                   0.0                 0.0      0.0       NaN   \n\n   Prognosis  Death  \n0        NaN    NaN  \n1        NaN    NaN  \n2        NaN    NaN  \n3        NaN    NaN  \n4        NaN    NaN  \n\n[5 rows x 40 columns]",
      "text/html": "<div>\n<style scoped>\n    .dataframe tbody tr th:only-of-type {\n        vertical-align: middle;\n    }\n\n    .dataframe tbody tr th {\n        vertical-align: top;\n    }\n\n    .dataframe thead th {\n        text-align: right;\n    }\n</style>\n<table border=\"1\" class=\"dataframe\">\n  <thead>\n    <tr style=\"text-align: right;\">\n      <th></th>\n      <th>Row_number</th>\n      <th>ImageFile</th>\n      <th>Hospital</th>\n      <th>Age</th>\n      <th>Sex</th>\n      <th>PositivityAtAdmission</th>\n      <th>Temp_C</th>\n      <th>DaysFever</th>\n      <th>Cough</th>\n      <th>DifficultyInBreathing</th>\n      <th>...</th>\n      <th>Diabetes</th>\n      <th>Dementia</th>\n      <th>BPCO</th>\n      <th>Cancer</th>\n      <th>ChronicKidneyDisease</th>\n      <th>RespiratoryFailure</th>\n      <th>Obesity</th>\n      <th>Position</th>\n      <th>Prognosis</th>\n      <th>Death</th>\n    </tr>\n  </thead>\n  <tbody>\n    <tr>\n      <th>0</th>\n      <td>1247.0</td>\n      <td>P_3_29.png</td>\n      <td>F</td>\n      <td>76</td>\n      <td>1</td>\n      <td>1</td>\n      <td>36.0</td>\n      <td>4.0</td>\n      <td>0.0</td>\n      <td>1.0</td>\n      <td>...</td>\n      <td>0.0</td>\n      <td>0.0</td>\n      <td>0.0</td>\n      <td>0.0</td>\n      <td>0.0</td>\n      <td>0.0</td>\n      <td>0.0</td>\n      <td>NaN</td>\n      <td>NaN</td>\n      <td>NaN</td>\n    </tr>\n    <tr>\n      <th>1</th>\n      <td>1199.0</td>\n      <td>P_3_415.png</td>\n      <td>F</td>\n      <td>64</td>\n      <td>0</td>\n      <td>1</td>\n      <td>36.0</td>\n      <td>1.0</td>\n      <td>0.0</td>\n      <td>0.0</td>\n      <td>...</td>\n      <td>0.0</td>\n      <td>0.0</td>\n      <td>0.0</td>\n      <td>0.0</td>\n      <td>0.0</td>\n      <td>0.0</td>\n      <td>0.0</td>\n      <td>NaN</td>\n      <td>NaN</td>\n      <td>NaN</td>\n    </tr>\n    <tr>\n      <th>2</th>\n      <td>1504.0</td>\n      <td>P_3_163.png</td>\n      <td>F</td>\n      <td>87</td>\n      <td>1</td>\n      <td>1</td>\n      <td>37.6</td>\n      <td>2.0</td>\n      <td>0.0</td>\n      <td>0.0</td>\n      <td>...</td>\n      <td>0.0</td>\n      <td>0.0</td>\n      <td>0.0</td>\n      <td>0.0</td>\n      <td>0.0</td>\n      <td>0.0</td>\n      <td>0.0</td>\n      <td>NaN</td>\n      <td>NaN</td>\n      <td>NaN</td>\n    </tr>\n    <tr>\n      <th>3</th>\n      <td>1271.0</td>\n      <td>P_3_348.png</td>\n      <td>F</td>\n      <td>76</td>\n      <td>1</td>\n      <td>1</td>\n      <td>36.0</td>\n      <td>NaN</td>\n      <td>0.0</td>\n      <td>1.0</td>\n      <td>...</td>\n      <td>0.0</td>\n      <td>0.0</td>\n      <td>0.0</td>\n      <td>0.0</td>\n      <td>0.0</td>\n      <td>0.0</td>\n      <td>0.0</td>\n      <td>NaN</td>\n      <td>NaN</td>\n      <td>NaN</td>\n    </tr>\n    <tr>\n      <th>4</th>\n      <td>1572.0</td>\n      <td>P_3_263.png</td>\n      <td>F</td>\n      <td>77</td>\n      <td>1</td>\n      <td>1</td>\n      <td>36.1</td>\n      <td>1.0</td>\n      <td>0.0</td>\n      <td>1.0</td>\n      <td>...</td>\n      <td>0.0</td>\n      <td>0.0</td>\n      <td>0.0</td>\n      <td>0.0</td>\n      <td>0.0</td>\n      <td>0.0</td>\n      <td>0.0</td>\n      <td>NaN</td>\n      <td>NaN</td>\n      <td>NaN</td>\n    </tr>\n  </tbody>\n</table>\n<p>5 rows × 40 columns</p>\n</div>"
     },
     "execution_count": 3,
     "metadata": {},
     "output_type": "execute_result"
    }
   ],
   "source": [
    "df_test= pd.read_excel(data_path)\n",
    "print(df_test.shape)\n",
    "df_test.head(5)"
   ],
   "metadata": {
    "collapsed": false,
    "pycharm": {
     "name": "#%%\n"
    }
   }
  },
  {
   "cell_type": "code",
   "execution_count": 4,
   "outputs": [
    {
     "data": {
      "text/plain": "   Row_number  ImageFile Hospital  Age  Sex  PositivityAtAdmission  Temp_C  \\\n0      1287.0  P_3_1.png        F   54    0                      1    36.4   \n1      1118.0  P_3_2.png        F   48    0                      1     NaN   \n2      1342.0  P_3_3.png        F   88    1                      1    36.5   \n3      1552.0  P_3_4.png        F   67    0                      1    38.9   \n4      1281.0  P_3_5.png        F   55    0                      1    37.0   \n\n   DaysFever  Cough  DifficultyInBreathing  ...  Diabetes  Dementia  BPCO  \\\n0        NaN    0.0                    1.0  ...       NaN       NaN   NaN   \n1        3.0    0.0                    0.0  ...       0.0       0.0   0.0   \n2        1.0    0.0                    0.0  ...       0.0       0.0   0.0   \n3        2.0    0.0                    0.0  ...       0.0       1.0   0.0   \n4        2.0    0.0                    0.0  ...       0.0       0.0   0.0   \n\n   Cancer  ChronicKidneyDisease  RespiratoryFailure  Obesity  Position  \\\n0     NaN                   NaN                 NaN      NaN       NaN   \n1     0.0                   0.0                 0.0      0.0       NaN   \n2     0.0                   0.0                 0.0      0.0       NaN   \n3     0.0                   0.0                 0.0      0.0       NaN   \n4     0.0                   0.0                 0.0      0.0       NaN   \n\n   Prognosis  Death  \n0        NaN    NaN  \n1        NaN    NaN  \n2        NaN    NaN  \n3        NaN    NaN  \n4        NaN    NaN  \n\n[5 rows x 40 columns]",
      "text/html": "<div>\n<style scoped>\n    .dataframe tbody tr th:only-of-type {\n        vertical-align: middle;\n    }\n\n    .dataframe tbody tr th {\n        vertical-align: top;\n    }\n\n    .dataframe thead th {\n        text-align: right;\n    }\n</style>\n<table border=\"1\" class=\"dataframe\">\n  <thead>\n    <tr style=\"text-align: right;\">\n      <th></th>\n      <th>Row_number</th>\n      <th>ImageFile</th>\n      <th>Hospital</th>\n      <th>Age</th>\n      <th>Sex</th>\n      <th>PositivityAtAdmission</th>\n      <th>Temp_C</th>\n      <th>DaysFever</th>\n      <th>Cough</th>\n      <th>DifficultyInBreathing</th>\n      <th>...</th>\n      <th>Diabetes</th>\n      <th>Dementia</th>\n      <th>BPCO</th>\n      <th>Cancer</th>\n      <th>ChronicKidneyDisease</th>\n      <th>RespiratoryFailure</th>\n      <th>Obesity</th>\n      <th>Position</th>\n      <th>Prognosis</th>\n      <th>Death</th>\n    </tr>\n  </thead>\n  <tbody>\n    <tr>\n      <th>0</th>\n      <td>1287.0</td>\n      <td>P_3_1.png</td>\n      <td>F</td>\n      <td>54</td>\n      <td>0</td>\n      <td>1</td>\n      <td>36.4</td>\n      <td>NaN</td>\n      <td>0.0</td>\n      <td>1.0</td>\n      <td>...</td>\n      <td>NaN</td>\n      <td>NaN</td>\n      <td>NaN</td>\n      <td>NaN</td>\n      <td>NaN</td>\n      <td>NaN</td>\n      <td>NaN</td>\n      <td>NaN</td>\n      <td>NaN</td>\n      <td>NaN</td>\n    </tr>\n    <tr>\n      <th>1</th>\n      <td>1118.0</td>\n      <td>P_3_2.png</td>\n      <td>F</td>\n      <td>48</td>\n      <td>0</td>\n      <td>1</td>\n      <td>NaN</td>\n      <td>3.0</td>\n      <td>0.0</td>\n      <td>0.0</td>\n      <td>...</td>\n      <td>0.0</td>\n      <td>0.0</td>\n      <td>0.0</td>\n      <td>0.0</td>\n      <td>0.0</td>\n      <td>0.0</td>\n      <td>0.0</td>\n      <td>NaN</td>\n      <td>NaN</td>\n      <td>NaN</td>\n    </tr>\n    <tr>\n      <th>2</th>\n      <td>1342.0</td>\n      <td>P_3_3.png</td>\n      <td>F</td>\n      <td>88</td>\n      <td>1</td>\n      <td>1</td>\n      <td>36.5</td>\n      <td>1.0</td>\n      <td>0.0</td>\n      <td>0.0</td>\n      <td>...</td>\n      <td>0.0</td>\n      <td>0.0</td>\n      <td>0.0</td>\n      <td>0.0</td>\n      <td>0.0</td>\n      <td>0.0</td>\n      <td>0.0</td>\n      <td>NaN</td>\n      <td>NaN</td>\n      <td>NaN</td>\n    </tr>\n    <tr>\n      <th>3</th>\n      <td>1552.0</td>\n      <td>P_3_4.png</td>\n      <td>F</td>\n      <td>67</td>\n      <td>0</td>\n      <td>1</td>\n      <td>38.9</td>\n      <td>2.0</td>\n      <td>0.0</td>\n      <td>0.0</td>\n      <td>...</td>\n      <td>0.0</td>\n      <td>1.0</td>\n      <td>0.0</td>\n      <td>0.0</td>\n      <td>0.0</td>\n      <td>0.0</td>\n      <td>0.0</td>\n      <td>NaN</td>\n      <td>NaN</td>\n      <td>NaN</td>\n    </tr>\n    <tr>\n      <th>4</th>\n      <td>1281.0</td>\n      <td>P_3_5.png</td>\n      <td>F</td>\n      <td>55</td>\n      <td>0</td>\n      <td>1</td>\n      <td>37.0</td>\n      <td>2.0</td>\n      <td>0.0</td>\n      <td>0.0</td>\n      <td>...</td>\n      <td>0.0</td>\n      <td>0.0</td>\n      <td>0.0</td>\n      <td>0.0</td>\n      <td>0.0</td>\n      <td>0.0</td>\n      <td>0.0</td>\n      <td>NaN</td>\n      <td>NaN</td>\n      <td>NaN</td>\n    </tr>\n  </tbody>\n</table>\n<p>5 rows × 40 columns</p>\n</div>"
     },
     "execution_count": 4,
     "metadata": {},
     "output_type": "execute_result"
    }
   ],
   "source": [
    "df_test_order= df_test.sort_values(by=['ImageFile'], key= natsort_keygen())\n",
    "df_test_order.reset_index(inplace=True, drop=True)\n",
    "df_test_order.head(5)"
   ],
   "metadata": {
    "collapsed": false,
    "pycharm": {
     "name": "#%%\n"
    }
   }
  },
  {
   "cell_type": "markdown",
   "source": [
    "ordinato i dati seguendo il nome dell'immagine"
   ],
   "metadata": {
    "collapsed": false
   }
  },
  {
   "cell_type": "code",
   "execution_count": 5,
   "outputs": [],
   "source": [
    "df_test_order.to_excel('Test_order.xlsx')"
   ],
   "metadata": {
    "collapsed": false,
    "pycharm": {
     "name": "#%%\n"
    }
   }
  },
  {
   "cell_type": "code",
   "execution_count": null,
   "outputs": [],
   "source": [],
   "metadata": {
    "collapsed": false,
    "pycharm": {
     "name": "#%%\n"
    }
   }
  },
  {
   "cell_type": "code",
   "execution_count": 6,
   "outputs": [],
   "source": [
    "transf_loader = A.Compose([\n",
    "    A.Resize(224, 224),\n",
    "    ToTensorV2(),\n",
    "    # transforms.Normalize([0.5], [0.5])\n",
    "])\n",
    "\n",
    "def process_im(img, th=150):\n",
    "    if type(img[0, 0]) != np.uint8:\n",
    "        img = np.array((img * 255 / np.max(img)), dtype=np.uint8)\n",
    "\n",
    "    if np.mean(img) <= th:\n",
    "        img = img * -1 + 255\n",
    "\n",
    "    return img\n",
    "\n",
    "class custom_dataset_test(Dataset):\n",
    "    def __init__(self, root_dir, transform=transf_loader, excel_file=None):\n",
    "        self.dataframe = pd.read_excel(excel_file)\n",
    "        self.root_dir = root_dir\n",
    "        self.transform = transform\n",
    "\n",
    "    def __len__(self):\n",
    "        return self.dataframe.shape[0]\n",
    "\n",
    "    def __getitem__(self, index):\n",
    "        name_image = self.dataframe['ImageFile'][index]\n",
    "        img_name = os.path.join(self.root_dir, name_image)\n",
    "\n",
    "        img = np.array(Image.open(img_name))  # data augmentation\n",
    "        img = process_im(img)\n",
    "        img = self.transform(image=img)['image']\n",
    "        return img, name_image"
   ],
   "metadata": {
    "collapsed": false,
    "pycharm": {
     "name": "#%%\n"
    }
   }
  },
  {
   "cell_type": "code",
   "execution_count": 7,
   "outputs": [
    {
     "name": "stdout",
     "output_type": "stream",
     "text": [
      "486\n"
     ]
    }
   ],
   "source": [
    "dataset_test = custom_dataset_test(excel_file=r'Test_order.xlsx',\n",
    "                         root_dir=r'C:\\Users\\Federico Cocchi\\UNIMORE\\3° SEMESTRE\\covid-hackathon\\TestSet\\TestSet',\n",
    "                         transform=transf_loader)\n",
    "print(len(dataset_test))"
   ],
   "metadata": {
    "collapsed": false,
    "pycharm": {
     "name": "#%%\n"
    }
   }
  },
  {
   "cell_type": "code",
   "execution_count": 8,
   "outputs": [],
   "source": [
    "test_loader = DataLoader(dataset_test, batch_size=32, shuffle=False)"
   ],
   "metadata": {
    "collapsed": false,
    "pycharm": {
     "name": "#%%\n"
    }
   }
  },
  {
   "cell_type": "markdown",
   "source": [
    "Load the model"
   ],
   "metadata": {
    "collapsed": false
   }
  },
  {
   "cell_type": "code",
   "execution_count": 9,
   "outputs": [
    {
     "name": "stdout",
     "output_type": "stream",
     "text": [
      "2048\n"
     ]
    },
    {
     "data": {
      "text/plain": "ResNet(\n  (conv1): Conv2d(1, 64, kernel_size=(7, 7), stride=(2, 2), padding=(3, 3), bias=False)\n  (bn1): BatchNorm2d(64, eps=1e-05, momentum=0.1, affine=True, track_running_stats=True)\n  (relu): ReLU(inplace=True)\n  (maxpool): MaxPool2d(kernel_size=3, stride=2, padding=1, dilation=1, ceil_mode=False)\n  (layer1): Sequential(\n    (0): Bottleneck(\n      (conv1): Conv2d(64, 64, kernel_size=(1, 1), stride=(1, 1), bias=False)\n      (bn1): BatchNorm2d(64, eps=1e-05, momentum=0.1, affine=True, track_running_stats=True)\n      (conv2): Conv2d(64, 64, kernel_size=(3, 3), stride=(1, 1), padding=(1, 1), bias=False)\n      (bn2): BatchNorm2d(64, eps=1e-05, momentum=0.1, affine=True, track_running_stats=True)\n      (conv3): Conv2d(64, 256, kernel_size=(1, 1), stride=(1, 1), bias=False)\n      (bn3): BatchNorm2d(256, eps=1e-05, momentum=0.1, affine=True, track_running_stats=True)\n      (relu): ReLU(inplace=True)\n      (downsample): Sequential(\n        (0): Conv2d(64, 256, kernel_size=(1, 1), stride=(1, 1), bias=False)\n        (1): BatchNorm2d(256, eps=1e-05, momentum=0.1, affine=True, track_running_stats=True)\n      )\n    )\n    (1): Bottleneck(\n      (conv1): Conv2d(256, 64, kernel_size=(1, 1), stride=(1, 1), bias=False)\n      (bn1): BatchNorm2d(64, eps=1e-05, momentum=0.1, affine=True, track_running_stats=True)\n      (conv2): Conv2d(64, 64, kernel_size=(3, 3), stride=(1, 1), padding=(1, 1), bias=False)\n      (bn2): BatchNorm2d(64, eps=1e-05, momentum=0.1, affine=True, track_running_stats=True)\n      (conv3): Conv2d(64, 256, kernel_size=(1, 1), stride=(1, 1), bias=False)\n      (bn3): BatchNorm2d(256, eps=1e-05, momentum=0.1, affine=True, track_running_stats=True)\n      (relu): ReLU(inplace=True)\n    )\n    (2): Bottleneck(\n      (conv1): Conv2d(256, 64, kernel_size=(1, 1), stride=(1, 1), bias=False)\n      (bn1): BatchNorm2d(64, eps=1e-05, momentum=0.1, affine=True, track_running_stats=True)\n      (conv2): Conv2d(64, 64, kernel_size=(3, 3), stride=(1, 1), padding=(1, 1), bias=False)\n      (bn2): BatchNorm2d(64, eps=1e-05, momentum=0.1, affine=True, track_running_stats=True)\n      (conv3): Conv2d(64, 256, kernel_size=(1, 1), stride=(1, 1), bias=False)\n      (bn3): BatchNorm2d(256, eps=1e-05, momentum=0.1, affine=True, track_running_stats=True)\n      (relu): ReLU(inplace=True)\n    )\n  )\n  (layer2): Sequential(\n    (0): Bottleneck(\n      (conv1): Conv2d(256, 128, kernel_size=(1, 1), stride=(1, 1), bias=False)\n      (bn1): BatchNorm2d(128, eps=1e-05, momentum=0.1, affine=True, track_running_stats=True)\n      (conv2): Conv2d(128, 128, kernel_size=(3, 3), stride=(2, 2), padding=(1, 1), bias=False)\n      (bn2): BatchNorm2d(128, eps=1e-05, momentum=0.1, affine=True, track_running_stats=True)\n      (conv3): Conv2d(128, 512, kernel_size=(1, 1), stride=(1, 1), bias=False)\n      (bn3): BatchNorm2d(512, eps=1e-05, momentum=0.1, affine=True, track_running_stats=True)\n      (relu): ReLU(inplace=True)\n      (downsample): Sequential(\n        (0): Conv2d(256, 512, kernel_size=(1, 1), stride=(2, 2), bias=False)\n        (1): BatchNorm2d(512, eps=1e-05, momentum=0.1, affine=True, track_running_stats=True)\n      )\n    )\n    (1): Bottleneck(\n      (conv1): Conv2d(512, 128, kernel_size=(1, 1), stride=(1, 1), bias=False)\n      (bn1): BatchNorm2d(128, eps=1e-05, momentum=0.1, affine=True, track_running_stats=True)\n      (conv2): Conv2d(128, 128, kernel_size=(3, 3), stride=(1, 1), padding=(1, 1), bias=False)\n      (bn2): BatchNorm2d(128, eps=1e-05, momentum=0.1, affine=True, track_running_stats=True)\n      (conv3): Conv2d(128, 512, kernel_size=(1, 1), stride=(1, 1), bias=False)\n      (bn3): BatchNorm2d(512, eps=1e-05, momentum=0.1, affine=True, track_running_stats=True)\n      (relu): ReLU(inplace=True)\n    )\n    (2): Bottleneck(\n      (conv1): Conv2d(512, 128, kernel_size=(1, 1), stride=(1, 1), bias=False)\n      (bn1): BatchNorm2d(128, eps=1e-05, momentum=0.1, affine=True, track_running_stats=True)\n      (conv2): Conv2d(128, 128, kernel_size=(3, 3), stride=(1, 1), padding=(1, 1), bias=False)\n      (bn2): BatchNorm2d(128, eps=1e-05, momentum=0.1, affine=True, track_running_stats=True)\n      (conv3): Conv2d(128, 512, kernel_size=(1, 1), stride=(1, 1), bias=False)\n      (bn3): BatchNorm2d(512, eps=1e-05, momentum=0.1, affine=True, track_running_stats=True)\n      (relu): ReLU(inplace=True)\n    )\n    (3): Bottleneck(\n      (conv1): Conv2d(512, 128, kernel_size=(1, 1), stride=(1, 1), bias=False)\n      (bn1): BatchNorm2d(128, eps=1e-05, momentum=0.1, affine=True, track_running_stats=True)\n      (conv2): Conv2d(128, 128, kernel_size=(3, 3), stride=(1, 1), padding=(1, 1), bias=False)\n      (bn2): BatchNorm2d(128, eps=1e-05, momentum=0.1, affine=True, track_running_stats=True)\n      (conv3): Conv2d(128, 512, kernel_size=(1, 1), stride=(1, 1), bias=False)\n      (bn3): BatchNorm2d(512, eps=1e-05, momentum=0.1, affine=True, track_running_stats=True)\n      (relu): ReLU(inplace=True)\n    )\n  )\n  (layer3): Sequential(\n    (0): Bottleneck(\n      (conv1): Conv2d(512, 256, kernel_size=(1, 1), stride=(1, 1), bias=False)\n      (bn1): BatchNorm2d(256, eps=1e-05, momentum=0.1, affine=True, track_running_stats=True)\n      (conv2): Conv2d(256, 256, kernel_size=(3, 3), stride=(2, 2), padding=(1, 1), bias=False)\n      (bn2): BatchNorm2d(256, eps=1e-05, momentum=0.1, affine=True, track_running_stats=True)\n      (conv3): Conv2d(256, 1024, kernel_size=(1, 1), stride=(1, 1), bias=False)\n      (bn3): BatchNorm2d(1024, eps=1e-05, momentum=0.1, affine=True, track_running_stats=True)\n      (relu): ReLU(inplace=True)\n      (downsample): Sequential(\n        (0): Conv2d(512, 1024, kernel_size=(1, 1), stride=(2, 2), bias=False)\n        (1): BatchNorm2d(1024, eps=1e-05, momentum=0.1, affine=True, track_running_stats=True)\n      )\n    )\n    (1): Bottleneck(\n      (conv1): Conv2d(1024, 256, kernel_size=(1, 1), stride=(1, 1), bias=False)\n      (bn1): BatchNorm2d(256, eps=1e-05, momentum=0.1, affine=True, track_running_stats=True)\n      (conv2): Conv2d(256, 256, kernel_size=(3, 3), stride=(1, 1), padding=(1, 1), bias=False)\n      (bn2): BatchNorm2d(256, eps=1e-05, momentum=0.1, affine=True, track_running_stats=True)\n      (conv3): Conv2d(256, 1024, kernel_size=(1, 1), stride=(1, 1), bias=False)\n      (bn3): BatchNorm2d(1024, eps=1e-05, momentum=0.1, affine=True, track_running_stats=True)\n      (relu): ReLU(inplace=True)\n    )\n    (2): Bottleneck(\n      (conv1): Conv2d(1024, 256, kernel_size=(1, 1), stride=(1, 1), bias=False)\n      (bn1): BatchNorm2d(256, eps=1e-05, momentum=0.1, affine=True, track_running_stats=True)\n      (conv2): Conv2d(256, 256, kernel_size=(3, 3), stride=(1, 1), padding=(1, 1), bias=False)\n      (bn2): BatchNorm2d(256, eps=1e-05, momentum=0.1, affine=True, track_running_stats=True)\n      (conv3): Conv2d(256, 1024, kernel_size=(1, 1), stride=(1, 1), bias=False)\n      (bn3): BatchNorm2d(1024, eps=1e-05, momentum=0.1, affine=True, track_running_stats=True)\n      (relu): ReLU(inplace=True)\n    )\n    (3): Bottleneck(\n      (conv1): Conv2d(1024, 256, kernel_size=(1, 1), stride=(1, 1), bias=False)\n      (bn1): BatchNorm2d(256, eps=1e-05, momentum=0.1, affine=True, track_running_stats=True)\n      (conv2): Conv2d(256, 256, kernel_size=(3, 3), stride=(1, 1), padding=(1, 1), bias=False)\n      (bn2): BatchNorm2d(256, eps=1e-05, momentum=0.1, affine=True, track_running_stats=True)\n      (conv3): Conv2d(256, 1024, kernel_size=(1, 1), stride=(1, 1), bias=False)\n      (bn3): BatchNorm2d(1024, eps=1e-05, momentum=0.1, affine=True, track_running_stats=True)\n      (relu): ReLU(inplace=True)\n    )\n    (4): Bottleneck(\n      (conv1): Conv2d(1024, 256, kernel_size=(1, 1), stride=(1, 1), bias=False)\n      (bn1): BatchNorm2d(256, eps=1e-05, momentum=0.1, affine=True, track_running_stats=True)\n      (conv2): Conv2d(256, 256, kernel_size=(3, 3), stride=(1, 1), padding=(1, 1), bias=False)\n      (bn2): BatchNorm2d(256, eps=1e-05, momentum=0.1, affine=True, track_running_stats=True)\n      (conv3): Conv2d(256, 1024, kernel_size=(1, 1), stride=(1, 1), bias=False)\n      (bn3): BatchNorm2d(1024, eps=1e-05, momentum=0.1, affine=True, track_running_stats=True)\n      (relu): ReLU(inplace=True)\n    )\n    (5): Bottleneck(\n      (conv1): Conv2d(1024, 256, kernel_size=(1, 1), stride=(1, 1), bias=False)\n      (bn1): BatchNorm2d(256, eps=1e-05, momentum=0.1, affine=True, track_running_stats=True)\n      (conv2): Conv2d(256, 256, kernel_size=(3, 3), stride=(1, 1), padding=(1, 1), bias=False)\n      (bn2): BatchNorm2d(256, eps=1e-05, momentum=0.1, affine=True, track_running_stats=True)\n      (conv3): Conv2d(256, 1024, kernel_size=(1, 1), stride=(1, 1), bias=False)\n      (bn3): BatchNorm2d(1024, eps=1e-05, momentum=0.1, affine=True, track_running_stats=True)\n      (relu): ReLU(inplace=True)\n    )\n    (6): Bottleneck(\n      (conv1): Conv2d(1024, 256, kernel_size=(1, 1), stride=(1, 1), bias=False)\n      (bn1): BatchNorm2d(256, eps=1e-05, momentum=0.1, affine=True, track_running_stats=True)\n      (conv2): Conv2d(256, 256, kernel_size=(3, 3), stride=(1, 1), padding=(1, 1), bias=False)\n      (bn2): BatchNorm2d(256, eps=1e-05, momentum=0.1, affine=True, track_running_stats=True)\n      (conv3): Conv2d(256, 1024, kernel_size=(1, 1), stride=(1, 1), bias=False)\n      (bn3): BatchNorm2d(1024, eps=1e-05, momentum=0.1, affine=True, track_running_stats=True)\n      (relu): ReLU(inplace=True)\n    )\n    (7): Bottleneck(\n      (conv1): Conv2d(1024, 256, kernel_size=(1, 1), stride=(1, 1), bias=False)\n      (bn1): BatchNorm2d(256, eps=1e-05, momentum=0.1, affine=True, track_running_stats=True)\n      (conv2): Conv2d(256, 256, kernel_size=(3, 3), stride=(1, 1), padding=(1, 1), bias=False)\n      (bn2): BatchNorm2d(256, eps=1e-05, momentum=0.1, affine=True, track_running_stats=True)\n      (conv3): Conv2d(256, 1024, kernel_size=(1, 1), stride=(1, 1), bias=False)\n      (bn3): BatchNorm2d(1024, eps=1e-05, momentum=0.1, affine=True, track_running_stats=True)\n      (relu): ReLU(inplace=True)\n    )\n    (8): Bottleneck(\n      (conv1): Conv2d(1024, 256, kernel_size=(1, 1), stride=(1, 1), bias=False)\n      (bn1): BatchNorm2d(256, eps=1e-05, momentum=0.1, affine=True, track_running_stats=True)\n      (conv2): Conv2d(256, 256, kernel_size=(3, 3), stride=(1, 1), padding=(1, 1), bias=False)\n      (bn2): BatchNorm2d(256, eps=1e-05, momentum=0.1, affine=True, track_running_stats=True)\n      (conv3): Conv2d(256, 1024, kernel_size=(1, 1), stride=(1, 1), bias=False)\n      (bn3): BatchNorm2d(1024, eps=1e-05, momentum=0.1, affine=True, track_running_stats=True)\n      (relu): ReLU(inplace=True)\n    )\n    (9): Bottleneck(\n      (conv1): Conv2d(1024, 256, kernel_size=(1, 1), stride=(1, 1), bias=False)\n      (bn1): BatchNorm2d(256, eps=1e-05, momentum=0.1, affine=True, track_running_stats=True)\n      (conv2): Conv2d(256, 256, kernel_size=(3, 3), stride=(1, 1), padding=(1, 1), bias=False)\n      (bn2): BatchNorm2d(256, eps=1e-05, momentum=0.1, affine=True, track_running_stats=True)\n      (conv3): Conv2d(256, 1024, kernel_size=(1, 1), stride=(1, 1), bias=False)\n      (bn3): BatchNorm2d(1024, eps=1e-05, momentum=0.1, affine=True, track_running_stats=True)\n      (relu): ReLU(inplace=True)\n    )\n    (10): Bottleneck(\n      (conv1): Conv2d(1024, 256, kernel_size=(1, 1), stride=(1, 1), bias=False)\n      (bn1): BatchNorm2d(256, eps=1e-05, momentum=0.1, affine=True, track_running_stats=True)\n      (conv2): Conv2d(256, 256, kernel_size=(3, 3), stride=(1, 1), padding=(1, 1), bias=False)\n      (bn2): BatchNorm2d(256, eps=1e-05, momentum=0.1, affine=True, track_running_stats=True)\n      (conv3): Conv2d(256, 1024, kernel_size=(1, 1), stride=(1, 1), bias=False)\n      (bn3): BatchNorm2d(1024, eps=1e-05, momentum=0.1, affine=True, track_running_stats=True)\n      (relu): ReLU(inplace=True)\n    )\n    (11): Bottleneck(\n      (conv1): Conv2d(1024, 256, kernel_size=(1, 1), stride=(1, 1), bias=False)\n      (bn1): BatchNorm2d(256, eps=1e-05, momentum=0.1, affine=True, track_running_stats=True)\n      (conv2): Conv2d(256, 256, kernel_size=(3, 3), stride=(1, 1), padding=(1, 1), bias=False)\n      (bn2): BatchNorm2d(256, eps=1e-05, momentum=0.1, affine=True, track_running_stats=True)\n      (conv3): Conv2d(256, 1024, kernel_size=(1, 1), stride=(1, 1), bias=False)\n      (bn3): BatchNorm2d(1024, eps=1e-05, momentum=0.1, affine=True, track_running_stats=True)\n      (relu): ReLU(inplace=True)\n    )\n    (12): Bottleneck(\n      (conv1): Conv2d(1024, 256, kernel_size=(1, 1), stride=(1, 1), bias=False)\n      (bn1): BatchNorm2d(256, eps=1e-05, momentum=0.1, affine=True, track_running_stats=True)\n      (conv2): Conv2d(256, 256, kernel_size=(3, 3), stride=(1, 1), padding=(1, 1), bias=False)\n      (bn2): BatchNorm2d(256, eps=1e-05, momentum=0.1, affine=True, track_running_stats=True)\n      (conv3): Conv2d(256, 1024, kernel_size=(1, 1), stride=(1, 1), bias=False)\n      (bn3): BatchNorm2d(1024, eps=1e-05, momentum=0.1, affine=True, track_running_stats=True)\n      (relu): ReLU(inplace=True)\n    )\n    (13): Bottleneck(\n      (conv1): Conv2d(1024, 256, kernel_size=(1, 1), stride=(1, 1), bias=False)\n      (bn1): BatchNorm2d(256, eps=1e-05, momentum=0.1, affine=True, track_running_stats=True)\n      (conv2): Conv2d(256, 256, kernel_size=(3, 3), stride=(1, 1), padding=(1, 1), bias=False)\n      (bn2): BatchNorm2d(256, eps=1e-05, momentum=0.1, affine=True, track_running_stats=True)\n      (conv3): Conv2d(256, 1024, kernel_size=(1, 1), stride=(1, 1), bias=False)\n      (bn3): BatchNorm2d(1024, eps=1e-05, momentum=0.1, affine=True, track_running_stats=True)\n      (relu): ReLU(inplace=True)\n    )\n    (14): Bottleneck(\n      (conv1): Conv2d(1024, 256, kernel_size=(1, 1), stride=(1, 1), bias=False)\n      (bn1): BatchNorm2d(256, eps=1e-05, momentum=0.1, affine=True, track_running_stats=True)\n      (conv2): Conv2d(256, 256, kernel_size=(3, 3), stride=(1, 1), padding=(1, 1), bias=False)\n      (bn2): BatchNorm2d(256, eps=1e-05, momentum=0.1, affine=True, track_running_stats=True)\n      (conv3): Conv2d(256, 1024, kernel_size=(1, 1), stride=(1, 1), bias=False)\n      (bn3): BatchNorm2d(1024, eps=1e-05, momentum=0.1, affine=True, track_running_stats=True)\n      (relu): ReLU(inplace=True)\n    )\n    (15): Bottleneck(\n      (conv1): Conv2d(1024, 256, kernel_size=(1, 1), stride=(1, 1), bias=False)\n      (bn1): BatchNorm2d(256, eps=1e-05, momentum=0.1, affine=True, track_running_stats=True)\n      (conv2): Conv2d(256, 256, kernel_size=(3, 3), stride=(1, 1), padding=(1, 1), bias=False)\n      (bn2): BatchNorm2d(256, eps=1e-05, momentum=0.1, affine=True, track_running_stats=True)\n      (conv3): Conv2d(256, 1024, kernel_size=(1, 1), stride=(1, 1), bias=False)\n      (bn3): BatchNorm2d(1024, eps=1e-05, momentum=0.1, affine=True, track_running_stats=True)\n      (relu): ReLU(inplace=True)\n    )\n    (16): Bottleneck(\n      (conv1): Conv2d(1024, 256, kernel_size=(1, 1), stride=(1, 1), bias=False)\n      (bn1): BatchNorm2d(256, eps=1e-05, momentum=0.1, affine=True, track_running_stats=True)\n      (conv2): Conv2d(256, 256, kernel_size=(3, 3), stride=(1, 1), padding=(1, 1), bias=False)\n      (bn2): BatchNorm2d(256, eps=1e-05, momentum=0.1, affine=True, track_running_stats=True)\n      (conv3): Conv2d(256, 1024, kernel_size=(1, 1), stride=(1, 1), bias=False)\n      (bn3): BatchNorm2d(1024, eps=1e-05, momentum=0.1, affine=True, track_running_stats=True)\n      (relu): ReLU(inplace=True)\n    )\n    (17): Bottleneck(\n      (conv1): Conv2d(1024, 256, kernel_size=(1, 1), stride=(1, 1), bias=False)\n      (bn1): BatchNorm2d(256, eps=1e-05, momentum=0.1, affine=True, track_running_stats=True)\n      (conv2): Conv2d(256, 256, kernel_size=(3, 3), stride=(1, 1), padding=(1, 1), bias=False)\n      (bn2): BatchNorm2d(256, eps=1e-05, momentum=0.1, affine=True, track_running_stats=True)\n      (conv3): Conv2d(256, 1024, kernel_size=(1, 1), stride=(1, 1), bias=False)\n      (bn3): BatchNorm2d(1024, eps=1e-05, momentum=0.1, affine=True, track_running_stats=True)\n      (relu): ReLU(inplace=True)\n    )\n    (18): Bottleneck(\n      (conv1): Conv2d(1024, 256, kernel_size=(1, 1), stride=(1, 1), bias=False)\n      (bn1): BatchNorm2d(256, eps=1e-05, momentum=0.1, affine=True, track_running_stats=True)\n      (conv2): Conv2d(256, 256, kernel_size=(3, 3), stride=(1, 1), padding=(1, 1), bias=False)\n      (bn2): BatchNorm2d(256, eps=1e-05, momentum=0.1, affine=True, track_running_stats=True)\n      (conv3): Conv2d(256, 1024, kernel_size=(1, 1), stride=(1, 1), bias=False)\n      (bn3): BatchNorm2d(1024, eps=1e-05, momentum=0.1, affine=True, track_running_stats=True)\n      (relu): ReLU(inplace=True)\n    )\n    (19): Bottleneck(\n      (conv1): Conv2d(1024, 256, kernel_size=(1, 1), stride=(1, 1), bias=False)\n      (bn1): BatchNorm2d(256, eps=1e-05, momentum=0.1, affine=True, track_running_stats=True)\n      (conv2): Conv2d(256, 256, kernel_size=(3, 3), stride=(1, 1), padding=(1, 1), bias=False)\n      (bn2): BatchNorm2d(256, eps=1e-05, momentum=0.1, affine=True, track_running_stats=True)\n      (conv3): Conv2d(256, 1024, kernel_size=(1, 1), stride=(1, 1), bias=False)\n      (bn3): BatchNorm2d(1024, eps=1e-05, momentum=0.1, affine=True, track_running_stats=True)\n      (relu): ReLU(inplace=True)\n    )\n    (20): Bottleneck(\n      (conv1): Conv2d(1024, 256, kernel_size=(1, 1), stride=(1, 1), bias=False)\n      (bn1): BatchNorm2d(256, eps=1e-05, momentum=0.1, affine=True, track_running_stats=True)\n      (conv2): Conv2d(256, 256, kernel_size=(3, 3), stride=(1, 1), padding=(1, 1), bias=False)\n      (bn2): BatchNorm2d(256, eps=1e-05, momentum=0.1, affine=True, track_running_stats=True)\n      (conv3): Conv2d(256, 1024, kernel_size=(1, 1), stride=(1, 1), bias=False)\n      (bn3): BatchNorm2d(1024, eps=1e-05, momentum=0.1, affine=True, track_running_stats=True)\n      (relu): ReLU(inplace=True)\n    )\n    (21): Bottleneck(\n      (conv1): Conv2d(1024, 256, kernel_size=(1, 1), stride=(1, 1), bias=False)\n      (bn1): BatchNorm2d(256, eps=1e-05, momentum=0.1, affine=True, track_running_stats=True)\n      (conv2): Conv2d(256, 256, kernel_size=(3, 3), stride=(1, 1), padding=(1, 1), bias=False)\n      (bn2): BatchNorm2d(256, eps=1e-05, momentum=0.1, affine=True, track_running_stats=True)\n      (conv3): Conv2d(256, 1024, kernel_size=(1, 1), stride=(1, 1), bias=False)\n      (bn3): BatchNorm2d(1024, eps=1e-05, momentum=0.1, affine=True, track_running_stats=True)\n      (relu): ReLU(inplace=True)\n    )\n    (22): Bottleneck(\n      (conv1): Conv2d(1024, 256, kernel_size=(1, 1), stride=(1, 1), bias=False)\n      (bn1): BatchNorm2d(256, eps=1e-05, momentum=0.1, affine=True, track_running_stats=True)\n      (conv2): Conv2d(256, 256, kernel_size=(3, 3), stride=(1, 1), padding=(1, 1), bias=False)\n      (bn2): BatchNorm2d(256, eps=1e-05, momentum=0.1, affine=True, track_running_stats=True)\n      (conv3): Conv2d(256, 1024, kernel_size=(1, 1), stride=(1, 1), bias=False)\n      (bn3): BatchNorm2d(1024, eps=1e-05, momentum=0.1, affine=True, track_running_stats=True)\n      (relu): ReLU(inplace=True)\n    )\n  )\n  (layer4): Sequential(\n    (0): Bottleneck(\n      (conv1): Conv2d(1024, 512, kernel_size=(1, 1), stride=(1, 1), bias=False)\n      (bn1): BatchNorm2d(512, eps=1e-05, momentum=0.1, affine=True, track_running_stats=True)\n      (conv2): Conv2d(512, 512, kernel_size=(3, 3), stride=(2, 2), padding=(1, 1), bias=False)\n      (bn2): BatchNorm2d(512, eps=1e-05, momentum=0.1, affine=True, track_running_stats=True)\n      (conv3): Conv2d(512, 2048, kernel_size=(1, 1), stride=(1, 1), bias=False)\n      (bn3): BatchNorm2d(2048, eps=1e-05, momentum=0.1, affine=True, track_running_stats=True)\n      (relu): ReLU(inplace=True)\n      (downsample): Sequential(\n        (0): Conv2d(1024, 2048, kernel_size=(1, 1), stride=(2, 2), bias=False)\n        (1): BatchNorm2d(2048, eps=1e-05, momentum=0.1, affine=True, track_running_stats=True)\n      )\n    )\n    (1): Bottleneck(\n      (conv1): Conv2d(2048, 512, kernel_size=(1, 1), stride=(1, 1), bias=False)\n      (bn1): BatchNorm2d(512, eps=1e-05, momentum=0.1, affine=True, track_running_stats=True)\n      (conv2): Conv2d(512, 512, kernel_size=(3, 3), stride=(1, 1), padding=(1, 1), bias=False)\n      (bn2): BatchNorm2d(512, eps=1e-05, momentum=0.1, affine=True, track_running_stats=True)\n      (conv3): Conv2d(512, 2048, kernel_size=(1, 1), stride=(1, 1), bias=False)\n      (bn3): BatchNorm2d(2048, eps=1e-05, momentum=0.1, affine=True, track_running_stats=True)\n      (relu): ReLU(inplace=True)\n    )\n    (2): Bottleneck(\n      (conv1): Conv2d(2048, 512, kernel_size=(1, 1), stride=(1, 1), bias=False)\n      (bn1): BatchNorm2d(512, eps=1e-05, momentum=0.1, affine=True, track_running_stats=True)\n      (conv2): Conv2d(512, 512, kernel_size=(3, 3), stride=(1, 1), padding=(1, 1), bias=False)\n      (bn2): BatchNorm2d(512, eps=1e-05, momentum=0.1, affine=True, track_running_stats=True)\n      (conv3): Conv2d(512, 2048, kernel_size=(1, 1), stride=(1, 1), bias=False)\n      (bn3): BatchNorm2d(2048, eps=1e-05, momentum=0.1, affine=True, track_running_stats=True)\n      (relu): ReLU(inplace=True)\n    )\n  )\n  (avgpool): AdaptiveAvgPool2d(output_size=(1, 1))\n  (fc): Linear(in_features=2048, out_features=1, bias=True)\n)"
     },
     "execution_count": 9,
     "metadata": {},
     "output_type": "execute_result"
    }
   ],
   "source": [
    "model_urls['resnet101'] = model_urls['resnet101'].replace('https://', 'http://')\n",
    "model = torchvision.models.resnet101(pretrained=True)\n",
    "model.conv1 = torch.nn.Conv2d(1, 64, kernel_size=(7, 7), stride=(2, 2), padding=(3, 3),\n",
    "                              bias=False)  # 1 channel in input image\n",
    "num = model.fc.in_features  # 512\n",
    "model.fc = torch.nn.Linear(num, 1)\n",
    "\n",
    "print(num)\n",
    "# summary(model, (1,224,224))\n",
    "\n",
    "device = 'cuda' if torch.cuda.is_available() else 'cpu'\n",
    "model.to(device)"
   ],
   "metadata": {
    "collapsed": false,
    "pycharm": {
     "name": "#%%\n"
    }
   }
  },
  {
   "cell_type": "markdown",
   "source": [
    "Load the weights"
   ],
   "metadata": {
    "collapsed": false
   }
  },
  {
   "cell_type": "code",
   "execution_count": 10,
   "outputs": [
    {
     "data": {
      "text/plain": "<All keys matched successfully>"
     },
     "execution_count": 10,
     "metadata": {},
     "output_type": "execute_result"
    }
   ],
   "source": [
    "model.load_state_dict(torch.load('model.pth', map_location= device))"
   ],
   "metadata": {
    "collapsed": false,
    "pycharm": {
     "name": "#%%\n"
    }
   }
  },
  {
   "cell_type": "markdown",
   "source": [
    "Test"
   ],
   "metadata": {
    "collapsed": false
   }
  },
  {
   "cell_type": "code",
   "execution_count": 11,
   "outputs": [],
   "source": [
    "correct = 0\n",
    "total = 0\n",
    "y_true= []\n",
    "y_pred= []\n",
    "image_names= []\n",
    "\n",
    "with torch.no_grad():\n",
    "    model.eval()\n",
    "    for data in test_loader:\n",
    "        images, names = data\n",
    "        outputs = model(images.float())\n",
    "\n",
    "        # provato ad applicare anche il softmax --> stesso risultato\n",
    "        predicted_soft= torch.where(torch.sigmoid(outputs)>0.5, 1, 0)\n",
    "        predicted = torch.where(outputs>0.5, 1, 0)\n",
    "\n",
    "        total += predicted.squeeze().size(0)\n",
    "\n",
    "        for i in range(predicted.squeeze().size(0)):\n",
    "            y_pred.append(predicted.squeeze()[i].item())\n",
    "            image_names.append(names[i])"
   ],
   "metadata": {
    "collapsed": false,
    "pycharm": {
     "name": "#%%\n"
    }
   }
  },
  {
   "cell_type": "code",
   "execution_count": 12,
   "outputs": [
    {
     "data": {
      "text/plain": "  image_name  pred_class\n0  P_3_1.png           1\n1  P_3_2.png           1\n2  P_3_3.png           1\n3  P_3_4.png           0\n4  P_3_5.png           0",
      "text/html": "<div>\n<style scoped>\n    .dataframe tbody tr th:only-of-type {\n        vertical-align: middle;\n    }\n\n    .dataframe tbody tr th {\n        vertical-align: top;\n    }\n\n    .dataframe thead th {\n        text-align: right;\n    }\n</style>\n<table border=\"1\" class=\"dataframe\">\n  <thead>\n    <tr style=\"text-align: right;\">\n      <th></th>\n      <th>image_name</th>\n      <th>pred_class</th>\n    </tr>\n  </thead>\n  <tbody>\n    <tr>\n      <th>0</th>\n      <td>P_3_1.png</td>\n      <td>1</td>\n    </tr>\n    <tr>\n      <th>1</th>\n      <td>P_3_2.png</td>\n      <td>1</td>\n    </tr>\n    <tr>\n      <th>2</th>\n      <td>P_3_3.png</td>\n      <td>1</td>\n    </tr>\n    <tr>\n      <th>3</th>\n      <td>P_3_4.png</td>\n      <td>0</td>\n    </tr>\n    <tr>\n      <th>4</th>\n      <td>P_3_5.png</td>\n      <td>0</td>\n    </tr>\n  </tbody>\n</table>\n</div>"
     },
     "execution_count": 12,
     "metadata": {},
     "output_type": "execute_result"
    }
   ],
   "source": [
    "df_test_mom = pd.DataFrame(list(zip(image_names, y_pred)), columns=['image_name', 'pred_class'])\n",
    "df_test_mom.head(5)"
   ],
   "metadata": {
    "collapsed": false,
    "pycharm": {
     "name": "#%%\n"
    }
   }
  },
  {
   "cell_type": "code",
   "execution_count": 14,
   "outputs": [
    {
     "data": {
      "text/plain": "(486, 2)"
     },
     "execution_count": 14,
     "metadata": {},
     "output_type": "execute_result"
    }
   ],
   "source": [
    "df_test_mom.shape"
   ],
   "metadata": {
    "collapsed": false,
    "pycharm": {
     "name": "#%%\n"
    }
   }
  },
  {
   "cell_type": "code",
   "execution_count": 16,
   "outputs": [
    {
     "data": {
      "text/plain": "   Row_number  ImageFile Hospital  Age  Sex  PositivityAtAdmission  Temp_C  \\\n0      1287.0  P_3_1.png        F   54    0                      1    36.4   \n1      1118.0  P_3_2.png        F   48    0                      1     NaN   \n2      1342.0  P_3_3.png        F   88    1                      1    36.5   \n3      1552.0  P_3_4.png        F   67    0                      1    38.9   \n4      1281.0  P_3_5.png        F   55    0                      1    37.0   \n\n   DaysFever  Cough  DifficultyInBreathing  ...  Dementia  BPCO  Cancer  \\\n0        NaN    0.0                    1.0  ...       NaN   NaN     NaN   \n1        3.0    0.0                    0.0  ...       0.0   0.0     0.0   \n2        1.0    0.0                    0.0  ...       0.0   0.0     0.0   \n3        2.0    0.0                    0.0  ...       1.0   0.0     0.0   \n4        2.0    0.0                    0.0  ...       0.0   0.0     0.0   \n\n   ChronicKidneyDisease  RespiratoryFailure  Obesity  Position  Prognosis  \\\n0                   NaN                 NaN      NaN       NaN        NaN   \n1                   0.0                 0.0      0.0       NaN        NaN   \n2                   0.0                 0.0      0.0       NaN        NaN   \n3                   0.0                 0.0      0.0       NaN        NaN   \n4                   0.0                 0.0      0.0       NaN        NaN   \n\n   Death  pred_class  \n0    NaN           1  \n1    NaN           1  \n2    NaN           1  \n3    NaN           0  \n4    NaN           0  \n\n[5 rows x 41 columns]",
      "text/html": "<div>\n<style scoped>\n    .dataframe tbody tr th:only-of-type {\n        vertical-align: middle;\n    }\n\n    .dataframe tbody tr th {\n        vertical-align: top;\n    }\n\n    .dataframe thead th {\n        text-align: right;\n    }\n</style>\n<table border=\"1\" class=\"dataframe\">\n  <thead>\n    <tr style=\"text-align: right;\">\n      <th></th>\n      <th>Row_number</th>\n      <th>ImageFile</th>\n      <th>Hospital</th>\n      <th>Age</th>\n      <th>Sex</th>\n      <th>PositivityAtAdmission</th>\n      <th>Temp_C</th>\n      <th>DaysFever</th>\n      <th>Cough</th>\n      <th>DifficultyInBreathing</th>\n      <th>...</th>\n      <th>Dementia</th>\n      <th>BPCO</th>\n      <th>Cancer</th>\n      <th>ChronicKidneyDisease</th>\n      <th>RespiratoryFailure</th>\n      <th>Obesity</th>\n      <th>Position</th>\n      <th>Prognosis</th>\n      <th>Death</th>\n      <th>pred_class</th>\n    </tr>\n  </thead>\n  <tbody>\n    <tr>\n      <th>0</th>\n      <td>1287.0</td>\n      <td>P_3_1.png</td>\n      <td>F</td>\n      <td>54</td>\n      <td>0</td>\n      <td>1</td>\n      <td>36.4</td>\n      <td>NaN</td>\n      <td>0.0</td>\n      <td>1.0</td>\n      <td>...</td>\n      <td>NaN</td>\n      <td>NaN</td>\n      <td>NaN</td>\n      <td>NaN</td>\n      <td>NaN</td>\n      <td>NaN</td>\n      <td>NaN</td>\n      <td>NaN</td>\n      <td>NaN</td>\n      <td>1</td>\n    </tr>\n    <tr>\n      <th>1</th>\n      <td>1118.0</td>\n      <td>P_3_2.png</td>\n      <td>F</td>\n      <td>48</td>\n      <td>0</td>\n      <td>1</td>\n      <td>NaN</td>\n      <td>3.0</td>\n      <td>0.0</td>\n      <td>0.0</td>\n      <td>...</td>\n      <td>0.0</td>\n      <td>0.0</td>\n      <td>0.0</td>\n      <td>0.0</td>\n      <td>0.0</td>\n      <td>0.0</td>\n      <td>NaN</td>\n      <td>NaN</td>\n      <td>NaN</td>\n      <td>1</td>\n    </tr>\n    <tr>\n      <th>2</th>\n      <td>1342.0</td>\n      <td>P_3_3.png</td>\n      <td>F</td>\n      <td>88</td>\n      <td>1</td>\n      <td>1</td>\n      <td>36.5</td>\n      <td>1.0</td>\n      <td>0.0</td>\n      <td>0.0</td>\n      <td>...</td>\n      <td>0.0</td>\n      <td>0.0</td>\n      <td>0.0</td>\n      <td>0.0</td>\n      <td>0.0</td>\n      <td>0.0</td>\n      <td>NaN</td>\n      <td>NaN</td>\n      <td>NaN</td>\n      <td>1</td>\n    </tr>\n    <tr>\n      <th>3</th>\n      <td>1552.0</td>\n      <td>P_3_4.png</td>\n      <td>F</td>\n      <td>67</td>\n      <td>0</td>\n      <td>1</td>\n      <td>38.9</td>\n      <td>2.0</td>\n      <td>0.0</td>\n      <td>0.0</td>\n      <td>...</td>\n      <td>1.0</td>\n      <td>0.0</td>\n      <td>0.0</td>\n      <td>0.0</td>\n      <td>0.0</td>\n      <td>0.0</td>\n      <td>NaN</td>\n      <td>NaN</td>\n      <td>NaN</td>\n      <td>0</td>\n    </tr>\n    <tr>\n      <th>4</th>\n      <td>1281.0</td>\n      <td>P_3_5.png</td>\n      <td>F</td>\n      <td>55</td>\n      <td>0</td>\n      <td>1</td>\n      <td>37.0</td>\n      <td>2.0</td>\n      <td>0.0</td>\n      <td>0.0</td>\n      <td>...</td>\n      <td>0.0</td>\n      <td>0.0</td>\n      <td>0.0</td>\n      <td>0.0</td>\n      <td>0.0</td>\n      <td>0.0</td>\n      <td>NaN</td>\n      <td>NaN</td>\n      <td>NaN</td>\n      <td>0</td>\n    </tr>\n  </tbody>\n</table>\n<p>5 rows × 41 columns</p>\n</div>"
     },
     "execution_count": 16,
     "metadata": {},
     "output_type": "execute_result"
    }
   ],
   "source": [
    "df_test_order.head(5)"
   ],
   "metadata": {
    "collapsed": false,
    "pycharm": {
     "name": "#%%\n"
    }
   }
  },
  {
   "cell_type": "code",
   "execution_count": 15,
   "outputs": [],
   "source": [
    "df_test_order['pred_class']= df_test_mom.pred_class"
   ],
   "metadata": {
    "collapsed": false,
    "pycharm": {
     "name": "#%%\n"
    }
   }
  },
  {
   "cell_type": "code",
   "execution_count": 17,
   "outputs": [],
   "source": [
    "df_test_order.to_excel('Test_order_imagEval.xlsx')"
   ],
   "metadata": {
    "collapsed": false,
    "pycharm": {
     "name": "#%%\n"
    }
   }
  },
  {
   "cell_type": "code",
   "execution_count": null,
   "outputs": [],
   "source": [],
   "metadata": {
    "collapsed": false,
    "pycharm": {
     "name": "#%%\n"
    }
   }
  },
  {
   "cell_type": "code",
   "execution_count": null,
   "outputs": [],
   "source": [],
   "metadata": {
    "collapsed": false,
    "pycharm": {
     "name": "#%%\n"
    }
   }
  },
  {
   "cell_type": "markdown",
   "source": [
    "## Load the csv"
   ],
   "metadata": {
    "collapsed": false
   }
  },
  {
   "cell_type": "code",
   "execution_count": 39,
   "outputs": [
    {
     "name": "stdout",
     "output_type": "stream",
     "text": [
      "(486, 41)\n"
     ]
    },
    {
     "data": {
      "text/plain": "   Row_number  ImageFile Hospital  Age  Sex  PositivityAtAdmission  Temp_C  \\\n0      1287.0  P_3_1.png        F   54    0                      1    36.4   \n1      1118.0  P_3_2.png        F   48    0                      1     NaN   \n2      1342.0  P_3_3.png        F   88    1                      1    36.5   \n3      1552.0  P_3_4.png        F   67    0                      1    38.9   \n4      1281.0  P_3_5.png        F   55    0                      1    37.0   \n\n   DaysFever  Cough  DifficultyInBreathing  ...  Dementia  BPCO  Cancer  \\\n0        NaN    0.0                    1.0  ...       NaN   NaN     NaN   \n1        3.0    0.0                    0.0  ...       0.0   0.0     0.0   \n2        1.0    0.0                    0.0  ...       0.0   0.0     0.0   \n3        2.0    0.0                    0.0  ...       1.0   0.0     0.0   \n4        2.0    0.0                    0.0  ...       0.0   0.0     0.0   \n\n   ChronicKidneyDisease  RespiratoryFailure  Obesity  Position  Prognosis  \\\n0                   NaN                 NaN      NaN       NaN        NaN   \n1                   0.0                 0.0      0.0       NaN        NaN   \n2                   0.0                 0.0      0.0       NaN        NaN   \n3                   0.0                 0.0      0.0       NaN        NaN   \n4                   0.0                 0.0      0.0       NaN        NaN   \n\n   Death  pred_class  \n0    NaN           1  \n1    NaN           1  \n2    NaN           1  \n3    NaN           0  \n4    NaN           0  \n\n[5 rows x 41 columns]",
      "text/html": "<div>\n<style scoped>\n    .dataframe tbody tr th:only-of-type {\n        vertical-align: middle;\n    }\n\n    .dataframe tbody tr th {\n        vertical-align: top;\n    }\n\n    .dataframe thead th {\n        text-align: right;\n    }\n</style>\n<table border=\"1\" class=\"dataframe\">\n  <thead>\n    <tr style=\"text-align: right;\">\n      <th></th>\n      <th>Row_number</th>\n      <th>ImageFile</th>\n      <th>Hospital</th>\n      <th>Age</th>\n      <th>Sex</th>\n      <th>PositivityAtAdmission</th>\n      <th>Temp_C</th>\n      <th>DaysFever</th>\n      <th>Cough</th>\n      <th>DifficultyInBreathing</th>\n      <th>...</th>\n      <th>Dementia</th>\n      <th>BPCO</th>\n      <th>Cancer</th>\n      <th>ChronicKidneyDisease</th>\n      <th>RespiratoryFailure</th>\n      <th>Obesity</th>\n      <th>Position</th>\n      <th>Prognosis</th>\n      <th>Death</th>\n      <th>pred_class</th>\n    </tr>\n  </thead>\n  <tbody>\n    <tr>\n      <th>0</th>\n      <td>1287.0</td>\n      <td>P_3_1.png</td>\n      <td>F</td>\n      <td>54</td>\n      <td>0</td>\n      <td>1</td>\n      <td>36.4</td>\n      <td>NaN</td>\n      <td>0.0</td>\n      <td>1.0</td>\n      <td>...</td>\n      <td>NaN</td>\n      <td>NaN</td>\n      <td>NaN</td>\n      <td>NaN</td>\n      <td>NaN</td>\n      <td>NaN</td>\n      <td>NaN</td>\n      <td>NaN</td>\n      <td>NaN</td>\n      <td>1</td>\n    </tr>\n    <tr>\n      <th>1</th>\n      <td>1118.0</td>\n      <td>P_3_2.png</td>\n      <td>F</td>\n      <td>48</td>\n      <td>0</td>\n      <td>1</td>\n      <td>NaN</td>\n      <td>3.0</td>\n      <td>0.0</td>\n      <td>0.0</td>\n      <td>...</td>\n      <td>0.0</td>\n      <td>0.0</td>\n      <td>0.0</td>\n      <td>0.0</td>\n      <td>0.0</td>\n      <td>0.0</td>\n      <td>NaN</td>\n      <td>NaN</td>\n      <td>NaN</td>\n      <td>1</td>\n    </tr>\n    <tr>\n      <th>2</th>\n      <td>1342.0</td>\n      <td>P_3_3.png</td>\n      <td>F</td>\n      <td>88</td>\n      <td>1</td>\n      <td>1</td>\n      <td>36.5</td>\n      <td>1.0</td>\n      <td>0.0</td>\n      <td>0.0</td>\n      <td>...</td>\n      <td>0.0</td>\n      <td>0.0</td>\n      <td>0.0</td>\n      <td>0.0</td>\n      <td>0.0</td>\n      <td>0.0</td>\n      <td>NaN</td>\n      <td>NaN</td>\n      <td>NaN</td>\n      <td>1</td>\n    </tr>\n    <tr>\n      <th>3</th>\n      <td>1552.0</td>\n      <td>P_3_4.png</td>\n      <td>F</td>\n      <td>67</td>\n      <td>0</td>\n      <td>1</td>\n      <td>38.9</td>\n      <td>2.0</td>\n      <td>0.0</td>\n      <td>0.0</td>\n      <td>...</td>\n      <td>1.0</td>\n      <td>0.0</td>\n      <td>0.0</td>\n      <td>0.0</td>\n      <td>0.0</td>\n      <td>0.0</td>\n      <td>NaN</td>\n      <td>NaN</td>\n      <td>NaN</td>\n      <td>0</td>\n    </tr>\n    <tr>\n      <th>4</th>\n      <td>1281.0</td>\n      <td>P_3_5.png</td>\n      <td>F</td>\n      <td>55</td>\n      <td>0</td>\n      <td>1</td>\n      <td>37.0</td>\n      <td>2.0</td>\n      <td>0.0</td>\n      <td>0.0</td>\n      <td>...</td>\n      <td>0.0</td>\n      <td>0.0</td>\n      <td>0.0</td>\n      <td>0.0</td>\n      <td>0.0</td>\n      <td>0.0</td>\n      <td>NaN</td>\n      <td>NaN</td>\n      <td>NaN</td>\n      <td>0</td>\n    </tr>\n  </tbody>\n</table>\n<p>5 rows × 41 columns</p>\n</div>"
     },
     "execution_count": 39,
     "metadata": {},
     "output_type": "execute_result"
    }
   ],
   "source": [
    "df_test_order= pd.read_excel(r'Test_order_imagEval.xlsx', index_col=0)\n",
    "print(df_test_order.shape)\n",
    "df_test_order.head(5)"
   ],
   "metadata": {
    "collapsed": false,
    "pycharm": {
     "name": "#%%\n"
    }
   }
  },
  {
   "cell_type": "code",
   "execution_count": 40,
   "outputs": [
    {
     "name": "stdout",
     "output_type": "stream",
     "text": [
      "(1103, 41)\n"
     ]
    },
    {
     "data": {
      "text/plain": "   Row_number  ImageFile Hospital   Age  Sex  PositivityAtAdmission  Temp_C  \\\n0           1    P_1.png        A  38.0    0                    1.0    36.0   \n1         900  P_1_1.png        F  96.0    0                    1.0    36.0   \n2         901  P_1_2.png        F  62.0    1                    1.0     NaN   \n3         902  P_1_3.png        F  57.0    1                    1.0    39.0   \n4         903  P_1_4.png        F  41.0    1                    1.0     NaN   \n\n   DaysFever  Cough  DifficultyInBreathing  ...  Dementia  BPCO  Cancer  \\\n0        4.0    1.0                    0.0  ...       0.0   0.0     0.0   \n1        1.0    0.0                    0.0  ...       1.0   0.0     0.0   \n2        4.0    1.0                    0.0  ...       0.0   0.0     0.0   \n3        2.0    0.0                    0.0  ...       0.0   0.0     0.0   \n4        NaN    0.0                    0.0  ...       0.0   0.0     0.0   \n\n   ChronicKidneyDisease  RespiratoryFailure  Obesity  Position  Prognosis  \\\n0                   0.0                 0.0      0.0       1.0       MILD   \n1                   0.0                 0.0      NaN       1.0       MILD   \n2                   1.0                 0.0      NaN       1.0       MILD   \n3                   1.0                 0.0      NaN       1.0     SEVERE   \n4                   0.0                 0.0      NaN       1.0     SEVERE   \n\n   Death  pred_class  \n0      0           0  \n1      0           0  \n2      0           0  \n3      0           1  \n4      0           1  \n\n[5 rows x 41 columns]",
      "text/html": "<div>\n<style scoped>\n    .dataframe tbody tr th:only-of-type {\n        vertical-align: middle;\n    }\n\n    .dataframe tbody tr th {\n        vertical-align: top;\n    }\n\n    .dataframe thead th {\n        text-align: right;\n    }\n</style>\n<table border=\"1\" class=\"dataframe\">\n  <thead>\n    <tr style=\"text-align: right;\">\n      <th></th>\n      <th>Row_number</th>\n      <th>ImageFile</th>\n      <th>Hospital</th>\n      <th>Age</th>\n      <th>Sex</th>\n      <th>PositivityAtAdmission</th>\n      <th>Temp_C</th>\n      <th>DaysFever</th>\n      <th>Cough</th>\n      <th>DifficultyInBreathing</th>\n      <th>...</th>\n      <th>Dementia</th>\n      <th>BPCO</th>\n      <th>Cancer</th>\n      <th>ChronicKidneyDisease</th>\n      <th>RespiratoryFailure</th>\n      <th>Obesity</th>\n      <th>Position</th>\n      <th>Prognosis</th>\n      <th>Death</th>\n      <th>pred_class</th>\n    </tr>\n  </thead>\n  <tbody>\n    <tr>\n      <th>0</th>\n      <td>1</td>\n      <td>P_1.png</td>\n      <td>A</td>\n      <td>38.0</td>\n      <td>0</td>\n      <td>1.0</td>\n      <td>36.0</td>\n      <td>4.0</td>\n      <td>1.0</td>\n      <td>0.0</td>\n      <td>...</td>\n      <td>0.0</td>\n      <td>0.0</td>\n      <td>0.0</td>\n      <td>0.0</td>\n      <td>0.0</td>\n      <td>0.0</td>\n      <td>1.0</td>\n      <td>MILD</td>\n      <td>0</td>\n      <td>0</td>\n    </tr>\n    <tr>\n      <th>1</th>\n      <td>900</td>\n      <td>P_1_1.png</td>\n      <td>F</td>\n      <td>96.0</td>\n      <td>0</td>\n      <td>1.0</td>\n      <td>36.0</td>\n      <td>1.0</td>\n      <td>0.0</td>\n      <td>0.0</td>\n      <td>...</td>\n      <td>1.0</td>\n      <td>0.0</td>\n      <td>0.0</td>\n      <td>0.0</td>\n      <td>0.0</td>\n      <td>NaN</td>\n      <td>1.0</td>\n      <td>MILD</td>\n      <td>0</td>\n      <td>0</td>\n    </tr>\n    <tr>\n      <th>2</th>\n      <td>901</td>\n      <td>P_1_2.png</td>\n      <td>F</td>\n      <td>62.0</td>\n      <td>1</td>\n      <td>1.0</td>\n      <td>NaN</td>\n      <td>4.0</td>\n      <td>1.0</td>\n      <td>0.0</td>\n      <td>...</td>\n      <td>0.0</td>\n      <td>0.0</td>\n      <td>0.0</td>\n      <td>1.0</td>\n      <td>0.0</td>\n      <td>NaN</td>\n      <td>1.0</td>\n      <td>MILD</td>\n      <td>0</td>\n      <td>0</td>\n    </tr>\n    <tr>\n      <th>3</th>\n      <td>902</td>\n      <td>P_1_3.png</td>\n      <td>F</td>\n      <td>57.0</td>\n      <td>1</td>\n      <td>1.0</td>\n      <td>39.0</td>\n      <td>2.0</td>\n      <td>0.0</td>\n      <td>0.0</td>\n      <td>...</td>\n      <td>0.0</td>\n      <td>0.0</td>\n      <td>0.0</td>\n      <td>1.0</td>\n      <td>0.0</td>\n      <td>NaN</td>\n      <td>1.0</td>\n      <td>SEVERE</td>\n      <td>0</td>\n      <td>1</td>\n    </tr>\n    <tr>\n      <th>4</th>\n      <td>903</td>\n      <td>P_1_4.png</td>\n      <td>F</td>\n      <td>41.0</td>\n      <td>1</td>\n      <td>1.0</td>\n      <td>NaN</td>\n      <td>NaN</td>\n      <td>0.0</td>\n      <td>0.0</td>\n      <td>...</td>\n      <td>0.0</td>\n      <td>0.0</td>\n      <td>0.0</td>\n      <td>0.0</td>\n      <td>0.0</td>\n      <td>NaN</td>\n      <td>1.0</td>\n      <td>SEVERE</td>\n      <td>0</td>\n      <td>1</td>\n    </tr>\n  </tbody>\n</table>\n<p>5 rows × 41 columns</p>\n</div>"
     },
     "execution_count": 40,
     "metadata": {},
     "output_type": "execute_result"
    }
   ],
   "source": [
    "df_train_order= pd.read_excel(r'Train_order_imagEval.xlsx', index_col=0)\n",
    "print(df_train_order.shape)\n",
    "df_train_order.head(5)"
   ],
   "metadata": {
    "collapsed": false,
    "pycharm": {
     "name": "#%%\n"
    }
   }
  },
  {
   "cell_type": "code",
   "execution_count": 41,
   "outputs": [],
   "source": [
    "ser_img_name= df_test_order.ImageFile"
   ],
   "metadata": {
    "collapsed": false,
    "pycharm": {
     "name": "#%%\n"
    }
   }
  },
  {
   "cell_type": "markdown",
   "source": [
    "### continue wit the data"
   ],
   "metadata": {
    "collapsed": false
   }
  },
  {
   "cell_type": "code",
   "execution_count": 42,
   "outputs": [
    {
     "data": {
      "text/plain": "array(['MILD', 'SEVERE'], dtype=object)"
     },
     "execution_count": 42,
     "metadata": {},
     "output_type": "execute_result"
    }
   ],
   "source": [
    "le = preprocessing.LabelEncoder()\n",
    "y_train=le.fit_transform(df_train_order.Prognosis)\n",
    "le.classes_"
   ],
   "metadata": {
    "collapsed": false,
    "pycharm": {
     "name": "#%%\n"
    }
   }
  },
  {
   "cell_type": "code",
   "execution_count": 43,
   "outputs": [
    {
     "data": {
      "text/plain": "(1103,)"
     },
     "execution_count": 43,
     "metadata": {},
     "output_type": "execute_result"
    }
   ],
   "source": [
    "y_train.shape"
   ],
   "metadata": {
    "collapsed": false,
    "pycharm": {
     "name": "#%%\n"
    }
   }
  },
  {
   "cell_type": "code",
   "execution_count": null,
   "outputs": [],
   "source": [],
   "metadata": {
    "collapsed": false,
    "pycharm": {
     "name": "#%%\n"
    }
   }
  },
  {
   "cell_type": "code",
   "execution_count": 44,
   "outputs": [],
   "source": [
    "df_train_order.drop(['Row_number', 'Death', 'Prognosis', 'ImageFile', 'Hospital'], axis=1 , inplace=True)"
   ],
   "metadata": {
    "collapsed": false,
    "pycharm": {
     "name": "#%%\n"
    }
   }
  },
  {
   "cell_type": "code",
   "execution_count": 45,
   "outputs": [
    {
     "name": "stdout",
     "output_type": "stream",
     "text": [
      "{'Age': 64.60143328786812, 'Sex': 0.34632819582955576, 'PositivityAtAdmission': 0.9577067669172933, 'Temp_C': 37.55185577942736, 'DaysFever': 2.7229336437718277, 'Cough': 0.5227686703096539, 'DifficultyInBreathing': 0.5050045495905369, 'WBC': 7.100423848363599, 'RBC': 4.5722008041627245, 'CRP': 33.48366383380547, 'Fibrinogen': 602.5183823529412, 'Glucose': 124.8172757475083, 'PCT': 55.79216517857144, 'LDH': 362.63046153846153, 'INR': 1.3737686998504013, 'D_dimer': 2532.160158227848, 'Ox_percentage': 92.63477672530448, 'PaO2': 72.32052821128451, 'SaO2': 92.44488372093024, 'PaCO2': 33.402253694581276, 'pH': 7.457315721649485, 'CardiovascularDisease': 0.29979253112033194, 'IschemicHeartDisease': 0.13872135102533173, 'AtrialFibrillation': 0.08220603537981269, 'HeartFailure': 0.020833333333333332, 'Ictus': 0.035416666666666666, 'HighBloodPressure': 0.458592132505176, 'Diabetes': 0.15527950310559005, 'Dementia': 0.04569055036344756, 'BPCO': 0.06935817805383022, 'Cancer': 0.07349896480331262, 'ChronicKidneyDisease': 0.06625258799171843, 'RespiratoryFailure': 0.01699029126213592, 'Obesity': 0.11029411764705882, 'Position': 0.8046795523906409, 'pred_class': 0.5067996373526745}\n"
     ]
    }
   ],
   "source": [
    "mean_value= []\n",
    "for i in range(df_train_order.shape[1]):\n",
    "    mean= df_train_order.iloc[:,i].mean() # HERE\n",
    "    mean_value.append(mean)\n",
    "\n",
    "values= {}\n",
    "\n",
    "for counter, value in enumerate(df_train_order.keys()):\n",
    "    values[value] = mean_value[counter]\n",
    "print(values)"
   ],
   "metadata": {
    "collapsed": false,
    "pycharm": {
     "name": "#%%\n"
    }
   }
  },
  {
   "cell_type": "code",
   "execution_count": 46,
   "outputs": [],
   "source": [
    "df_train_order= df_train_order.fillna(value=values)"
   ],
   "metadata": {
    "collapsed": false,
    "pycharm": {
     "name": "#%%\n"
    }
   }
  },
  {
   "cell_type": "code",
   "execution_count": 47,
   "outputs": [
    {
     "name": "stdout",
     "output_type": "stream",
     "text": [
      "<class 'pandas.core.frame.DataFrame'>\n",
      "Int64Index: 1103 entries, 0 to 1102\n",
      "Data columns (total 36 columns):\n",
      " #   Column                 Non-Null Count  Dtype  \n",
      "---  ------                 --------------  -----  \n",
      " 0   Age                    1103 non-null   float64\n",
      " 1   Sex                    1103 non-null   int64  \n",
      " 2   PositivityAtAdmission  1103 non-null   float64\n",
      " 3   Temp_C                 1103 non-null   float64\n",
      " 4   DaysFever              1103 non-null   float64\n",
      " 5   Cough                  1103 non-null   float64\n",
      " 6   DifficultyInBreathing  1103 non-null   float64\n",
      " 7   WBC                    1103 non-null   float64\n",
      " 8   RBC                    1103 non-null   float64\n",
      " 9   CRP                    1103 non-null   float64\n",
      " 10  Fibrinogen             1103 non-null   float64\n",
      " 11  Glucose                1103 non-null   float64\n",
      " 12  PCT                    1103 non-null   float64\n",
      " 13  LDH                    1103 non-null   float64\n",
      " 14  INR                    1103 non-null   float64\n",
      " 15  D_dimer                1103 non-null   float64\n",
      " 16  Ox_percentage          1103 non-null   float64\n",
      " 17  PaO2                   1103 non-null   float64\n",
      " 18  SaO2                   1103 non-null   float64\n",
      " 19  PaCO2                  1103 non-null   float64\n",
      " 20  pH                     1103 non-null   float64\n",
      " 21  CardiovascularDisease  1103 non-null   float64\n",
      " 22  IschemicHeartDisease   1103 non-null   float64\n",
      " 23  AtrialFibrillation     1103 non-null   float64\n",
      " 24  HeartFailure           1103 non-null   float64\n",
      " 25  Ictus                  1103 non-null   float64\n",
      " 26  HighBloodPressure      1103 non-null   float64\n",
      " 27  Diabetes               1103 non-null   float64\n",
      " 28  Dementia               1103 non-null   float64\n",
      " 29  BPCO                   1103 non-null   float64\n",
      " 30  Cancer                 1103 non-null   float64\n",
      " 31  ChronicKidneyDisease   1103 non-null   float64\n",
      " 32  RespiratoryFailure     1103 non-null   float64\n",
      " 33  Obesity                1103 non-null   float64\n",
      " 34  Position               1103 non-null   float64\n",
      " 35  pred_class             1103 non-null   int64  \n",
      "dtypes: float64(34), int64(2)\n",
      "memory usage: 318.8 KB\n"
     ]
    }
   ],
   "source": [
    "df_train_order.info()"
   ],
   "metadata": {
    "collapsed": false,
    "pycharm": {
     "name": "#%%\n"
    }
   }
  },
  {
   "cell_type": "code",
   "execution_count": 48,
   "outputs": [
    {
     "data": {
      "text/plain": "(1103, 36)"
     },
     "execution_count": 48,
     "metadata": {},
     "output_type": "execute_result"
    }
   ],
   "source": [
    "X_train= df_train_order\n",
    "X_train.shape"
   ],
   "metadata": {
    "collapsed": false,
    "pycharm": {
     "name": "#%%\n"
    }
   }
  },
  {
   "cell_type": "code",
   "execution_count": null,
   "outputs": [],
   "source": [],
   "metadata": {
    "collapsed": false,
    "pycharm": {
     "name": "#%%\n"
    }
   }
  },
  {
   "cell_type": "markdown",
   "source": [
    "Part with TEST data"
   ],
   "metadata": {
    "collapsed": false
   }
  },
  {
   "cell_type": "code",
   "execution_count": 34,
   "outputs": [
    {
     "data": {
      "text/plain": "   Age  Sex  PositivityAtAdmission     Temp_C  DaysFever  Cough  \\\n0   54    0                      1  36.400000  36.269643    0.0   \n1   48    0                      1  49.028846   3.000000    0.0   \n2   88    1                      1  36.500000   1.000000    0.0   \n3   67    0                      1  38.900000   2.000000    0.0   \n4   55    0                      1  37.000000   2.000000    0.0   \n\n   DifficultyInBreathing   WBC   RBC    CRP  ...  HighBloodPressure  \\\n0                    1.0  6.40  4.96  10.46  ...           134.0524   \n1                    0.0  3.67  4.97   1.70  ...             0.0000   \n2                    0.0  3.60  3.38   2.09  ...             0.0000   \n3                    0.0  3.20  5.09   7.36  ...             0.0000   \n4                    0.0  4.78  4.87   1.65  ...             0.0000   \n\n    Diabetes   Dementia       BPCO  Cancer  ChronicKidneyDisease  \\\n0  50.189231  32.093929  18.545833  38.924            750.743462   \n1   0.000000   0.000000   0.000000   0.000              0.000000   \n2   0.000000   0.000000   0.000000   0.000              0.000000   \n3   0.000000   1.000000   0.000000   0.000              0.000000   \n4   0.000000   0.000000   0.000000   0.000              0.000000   \n\n   RespiratoryFailure    Obesity  Position  pred_class  \n0           70.142593  21.057826  46.50037           1  \n1            0.000000   0.000000  46.50037           1  \n2            0.000000   0.000000  46.50037           1  \n3            0.000000   0.000000  46.50037           0  \n4            0.000000   0.000000  46.50037           0  \n\n[5 rows x 36 columns]",
      "text/html": "<div>\n<style scoped>\n    .dataframe tbody tr th:only-of-type {\n        vertical-align: middle;\n    }\n\n    .dataframe tbody tr th {\n        vertical-align: top;\n    }\n\n    .dataframe thead th {\n        text-align: right;\n    }\n</style>\n<table border=\"1\" class=\"dataframe\">\n  <thead>\n    <tr style=\"text-align: right;\">\n      <th></th>\n      <th>Age</th>\n      <th>Sex</th>\n      <th>PositivityAtAdmission</th>\n      <th>Temp_C</th>\n      <th>DaysFever</th>\n      <th>Cough</th>\n      <th>DifficultyInBreathing</th>\n      <th>WBC</th>\n      <th>RBC</th>\n      <th>CRP</th>\n      <th>...</th>\n      <th>HighBloodPressure</th>\n      <th>Diabetes</th>\n      <th>Dementia</th>\n      <th>BPCO</th>\n      <th>Cancer</th>\n      <th>ChronicKidneyDisease</th>\n      <th>RespiratoryFailure</th>\n      <th>Obesity</th>\n      <th>Position</th>\n      <th>pred_class</th>\n    </tr>\n  </thead>\n  <tbody>\n    <tr>\n      <th>0</th>\n      <td>54</td>\n      <td>0</td>\n      <td>1</td>\n      <td>36.400000</td>\n      <td>36.269643</td>\n      <td>0.0</td>\n      <td>1.0</td>\n      <td>6.40</td>\n      <td>4.96</td>\n      <td>10.46</td>\n      <td>...</td>\n      <td>134.0524</td>\n      <td>50.189231</td>\n      <td>32.093929</td>\n      <td>18.545833</td>\n      <td>38.924</td>\n      <td>750.743462</td>\n      <td>70.142593</td>\n      <td>21.057826</td>\n      <td>46.50037</td>\n      <td>1</td>\n    </tr>\n    <tr>\n      <th>1</th>\n      <td>48</td>\n      <td>0</td>\n      <td>1</td>\n      <td>49.028846</td>\n      <td>3.000000</td>\n      <td>0.0</td>\n      <td>0.0</td>\n      <td>3.67</td>\n      <td>4.97</td>\n      <td>1.70</td>\n      <td>...</td>\n      <td>0.0000</td>\n      <td>0.000000</td>\n      <td>0.000000</td>\n      <td>0.000000</td>\n      <td>0.000</td>\n      <td>0.000000</td>\n      <td>0.000000</td>\n      <td>0.000000</td>\n      <td>46.50037</td>\n      <td>1</td>\n    </tr>\n    <tr>\n      <th>2</th>\n      <td>88</td>\n      <td>1</td>\n      <td>1</td>\n      <td>36.500000</td>\n      <td>1.000000</td>\n      <td>0.0</td>\n      <td>0.0</td>\n      <td>3.60</td>\n      <td>3.38</td>\n      <td>2.09</td>\n      <td>...</td>\n      <td>0.0000</td>\n      <td>0.000000</td>\n      <td>0.000000</td>\n      <td>0.000000</td>\n      <td>0.000</td>\n      <td>0.000000</td>\n      <td>0.000000</td>\n      <td>0.000000</td>\n      <td>46.50037</td>\n      <td>1</td>\n    </tr>\n    <tr>\n      <th>3</th>\n      <td>67</td>\n      <td>0</td>\n      <td>1</td>\n      <td>38.900000</td>\n      <td>2.000000</td>\n      <td>0.0</td>\n      <td>0.0</td>\n      <td>3.20</td>\n      <td>5.09</td>\n      <td>7.36</td>\n      <td>...</td>\n      <td>0.0000</td>\n      <td>0.000000</td>\n      <td>1.000000</td>\n      <td>0.000000</td>\n      <td>0.000</td>\n      <td>0.000000</td>\n      <td>0.000000</td>\n      <td>0.000000</td>\n      <td>46.50037</td>\n      <td>0</td>\n    </tr>\n    <tr>\n      <th>4</th>\n      <td>55</td>\n      <td>0</td>\n      <td>1</td>\n      <td>37.000000</td>\n      <td>2.000000</td>\n      <td>0.0</td>\n      <td>0.0</td>\n      <td>4.78</td>\n      <td>4.87</td>\n      <td>1.65</td>\n      <td>...</td>\n      <td>0.0000</td>\n      <td>0.000000</td>\n      <td>0.000000</td>\n      <td>0.000000</td>\n      <td>0.000</td>\n      <td>0.000000</td>\n      <td>0.000000</td>\n      <td>0.000000</td>\n      <td>46.50037</td>\n      <td>0</td>\n    </tr>\n  </tbody>\n</table>\n<p>5 rows × 36 columns</p>\n</div>"
     },
     "execution_count": 34,
     "metadata": {},
     "output_type": "execute_result"
    }
   ],
   "source": [
    "df_test_order.head(5)"
   ],
   "metadata": {
    "collapsed": false,
    "pycharm": {
     "name": "#%%\n"
    }
   }
  },
  {
   "cell_type": "code",
   "execution_count": null,
   "outputs": [],
   "source": [],
   "metadata": {
    "collapsed": false,
    "pycharm": {
     "name": "#%%\n"
    }
   }
  },
  {
   "cell_type": "code",
   "execution_count": 50,
   "outputs": [],
   "source": [
    "df_test_order.drop(['Row_number', 'Death', 'Prognosis', 'ImageFile', 'Hospital'], axis=1 , inplace=True)"
   ],
   "metadata": {
    "collapsed": false,
    "pycharm": {
     "name": "#%%\n"
    }
   }
  },
  {
   "cell_type": "code",
   "execution_count": 51,
   "outputs": [
    {
     "name": "stdout",
     "output_type": "stream",
     "text": [
      "{'Age': 68.00617283950618, 'Sex': 0.4279835390946502, 'PositivityAtAdmission': 1.0, 'Temp_C': 36.8875, 'DaysFever': 2.315625, 'Cough': 0.2768595041322314, 'DifficultyInBreathing': 0.5578512396694215, 'WBC': 6.6595, 'RBC': 4.591604166666667, 'CRP': 8.151085106382979, 'Fibrinogen': 519.2857142857143, 'Glucose': 127.77870563674321, 'PCT': 0.3413118279569893, 'LDH': 321.6354679802956, 'INR': 1.0844588744588743, 'D_dimer': 1637.3026905829597, 'Ox_percentage': nan, 'PaO2': 74.1055900621118, 'SaO2': 93.36943127962085, 'PaCO2': 33.22, 'pH': 7.445869565217391, 'CardiovascularDisease': nan, 'IschemicHeartDisease': nan, 'AtrialFibrillation': nan, 'HeartFailure': nan, 'Ictus': nan, 'HighBloodPressure': 0.5104166666666666, 'Diabetes': 0.14791666666666667, 'Dementia': 0.04791666666666667, 'BPCO': 0.06041666666666667, 'Cancer': 0.06041666666666667, 'ChronicKidneyDisease': 0.04375, 'RespiratoryFailure': 0.01875, 'Obesity': 0.0625, 'Position': nan, 'pred_class': 0.5370370370370371}\n"
     ]
    }
   ],
   "source": [
    "mean_value= []\n",
    "for i in range(df_test_order.shape[1]):\n",
    "    mean= df_test_order.iloc[:,i].mean()\n",
    "    mean_value.append(mean)\n",
    "\n",
    "values= {}\n",
    "\n",
    "for counter, value in enumerate(df_test_order.keys()):\n",
    "    values[value] = mean_value[counter]\n",
    "print(values)"
   ],
   "metadata": {
    "collapsed": false,
    "pycharm": {
     "name": "#%%\n"
    }
   }
  },
  {
   "cell_type": "code",
   "execution_count": 52,
   "outputs": [],
   "source": [
    "df_test_order= df_test_order.fillna(value=values)"
   ],
   "metadata": {
    "collapsed": false,
    "pycharm": {
     "name": "#%%\n"
    }
   }
  },
  {
   "cell_type": "code",
   "execution_count": 55,
   "outputs": [],
   "source": [
    "values = {\"Ox_percentage\": 0, \"CardiovascularDisease\": 0, \"IschemicHeartDisease\": 0, \"AtrialFibrillation\": 0,\n",
    "          \"HeartFailure\": 0, \"Ictus\": 0, \"Position\": 0}\n",
    "df_test_order.fillna(value=values, inplace=True)"
   ],
   "metadata": {
    "collapsed": false,
    "pycharm": {
     "name": "#%%\n"
    }
   }
  },
  {
   "cell_type": "code",
   "execution_count": 57,
   "outputs": [
    {
     "name": "stdout",
     "output_type": "stream",
     "text": [
      "<class 'pandas.core.frame.DataFrame'>\n",
      "Int64Index: 486 entries, 0 to 485\n",
      "Data columns (total 36 columns):\n",
      " #   Column                 Non-Null Count  Dtype  \n",
      "---  ------                 --------------  -----  \n",
      " 0   Age                    486 non-null    int64  \n",
      " 1   Sex                    486 non-null    int64  \n",
      " 2   PositivityAtAdmission  486 non-null    int64  \n",
      " 3   Temp_C                 486 non-null    float64\n",
      " 4   DaysFever              486 non-null    float64\n",
      " 5   Cough                  486 non-null    float64\n",
      " 6   DifficultyInBreathing  486 non-null    float64\n",
      " 7   WBC                    486 non-null    float64\n",
      " 8   RBC                    486 non-null    float64\n",
      " 9   CRP                    486 non-null    float64\n",
      " 10  Fibrinogen             486 non-null    float64\n",
      " 11  Glucose                486 non-null    float64\n",
      " 12  PCT                    486 non-null    float64\n",
      " 13  LDH                    486 non-null    float64\n",
      " 14  INR                    486 non-null    float64\n",
      " 15  D_dimer                486 non-null    float64\n",
      " 16  Ox_percentage          486 non-null    float64\n",
      " 17  PaO2                   486 non-null    float64\n",
      " 18  SaO2                   486 non-null    float64\n",
      " 19  PaCO2                  486 non-null    float64\n",
      " 20  pH                     486 non-null    float64\n",
      " 21  CardiovascularDisease  486 non-null    float64\n",
      " 22  IschemicHeartDisease   486 non-null    float64\n",
      " 23  AtrialFibrillation     486 non-null    float64\n",
      " 24  HeartFailure           486 non-null    float64\n",
      " 25  Ictus                  486 non-null    float64\n",
      " 26  HighBloodPressure      486 non-null    float64\n",
      " 27  Diabetes               486 non-null    float64\n",
      " 28  Dementia               486 non-null    float64\n",
      " 29  BPCO                   486 non-null    float64\n",
      " 30  Cancer                 486 non-null    float64\n",
      " 31  ChronicKidneyDisease   486 non-null    float64\n",
      " 32  RespiratoryFailure     486 non-null    float64\n",
      " 33  Obesity                486 non-null    float64\n",
      " 34  Position               486 non-null    float64\n",
      " 35  pred_class             486 non-null    int64  \n",
      "dtypes: float64(32), int64(4)\n",
      "memory usage: 140.5 KB\n"
     ]
    }
   ],
   "source": [
    "df_test_order.info()"
   ],
   "metadata": {
    "collapsed": false,
    "pycharm": {
     "name": "#%%\n"
    }
   }
  },
  {
   "cell_type": "code",
   "execution_count": 58,
   "outputs": [
    {
     "data": {
      "text/plain": "(486, 36)"
     },
     "execution_count": 58,
     "metadata": {},
     "output_type": "execute_result"
    }
   ],
   "source": [
    "X_test= df_test_order\n",
    "X_test.shape"
   ],
   "metadata": {
    "collapsed": false,
    "pycharm": {
     "name": "#%%\n"
    }
   }
  },
  {
   "cell_type": "markdown",
   "source": [
    "## Classification"
   ],
   "metadata": {
    "collapsed": false
   }
  },
  {
   "cell_type": "code",
   "execution_count": 63,
   "outputs": [],
   "source": [
    "# 1\n",
    "dt= DecisionTreeClassifier(criterion='entropy', max_features=None, min_samples_split=5)\n",
    "dt.fit(X_train, y_train)\n",
    "\n",
    "pred_test_dt= dt.predict(X_test)\n",
    "#print('test: ', accuracy_score(y_test, pred_test) )"
   ],
   "metadata": {
    "collapsed": false,
    "pycharm": {
     "name": "#%%\n"
    }
   }
  },
  {
   "cell_type": "code",
   "execution_count": null,
   "outputs": [],
   "source": [],
   "metadata": {
    "collapsed": false,
    "pycharm": {
     "name": "#%%\n"
    }
   }
  },
  {
   "cell_type": "code",
   "execution_count": 59,
   "outputs": [],
   "source": [
    "# 2\n",
    "randomforest= RandomForestClassifier(n_estimators=1000)\n",
    "# criterion='entropy', max_features=10, min_samples_split=2, n_estimators=100\n",
    "randomforest.fit(X_train, y_train)\n",
    "\n",
    "pred_test_rf= randomforest.predict(X_test)\n",
    "#print('test: ', accuracy_score(y_test, pred_test) )"
   ],
   "metadata": {
    "collapsed": false,
    "pycharm": {
     "name": "#%%\n"
    }
   }
  },
  {
   "cell_type": "code",
   "execution_count": null,
   "outputs": [],
   "source": [],
   "metadata": {
    "collapsed": false,
    "pycharm": {
     "name": "#%%\n"
    }
   }
  },
  {
   "cell_type": "markdown",
   "source": [
    "Build the output"
   ],
   "metadata": {
    "collapsed": false
   }
  },
  {
   "cell_type": "markdown",
   "source": [
    "## 1"
   ],
   "metadata": {
    "collapsed": false
   }
  },
  {
   "cell_type": "code",
   "execution_count": 60,
   "outputs": [
    {
     "data": {
      "text/plain": "  image_name  pred_class\n0  P_3_1.png           1\n1  P_3_2.png           1\n2  P_3_3.png           1\n3  P_3_4.png           0\n4  P_3_5.png           0",
      "text/html": "<div>\n<style scoped>\n    .dataframe tbody tr th:only-of-type {\n        vertical-align: middle;\n    }\n\n    .dataframe tbody tr th {\n        vertical-align: top;\n    }\n\n    .dataframe thead th {\n        text-align: right;\n    }\n</style>\n<table border=\"1\" class=\"dataframe\">\n  <thead>\n    <tr style=\"text-align: right;\">\n      <th></th>\n      <th>image_name</th>\n      <th>pred_class</th>\n    </tr>\n  </thead>\n  <tbody>\n    <tr>\n      <th>0</th>\n      <td>P_3_1.png</td>\n      <td>1</td>\n    </tr>\n    <tr>\n      <th>1</th>\n      <td>P_3_2.png</td>\n      <td>1</td>\n    </tr>\n    <tr>\n      <th>2</th>\n      <td>P_3_3.png</td>\n      <td>1</td>\n    </tr>\n    <tr>\n      <th>3</th>\n      <td>P_3_4.png</td>\n      <td>0</td>\n    </tr>\n    <tr>\n      <th>4</th>\n      <td>P_3_5.png</td>\n      <td>0</td>\n    </tr>\n  </tbody>\n</table>\n</div>"
     },
     "execution_count": 60,
     "metadata": {},
     "output_type": "execute_result"
    }
   ],
   "source": [
    "df_final = pd.DataFrame(list(zip(ser_img_name, pred_test_rf)), columns=['image_name', 'pred_class'])\n",
    "df_final.head()"
   ],
   "metadata": {
    "collapsed": false,
    "pycharm": {
     "name": "#%%\n"
    }
   }
  },
  {
   "cell_type": "code",
   "execution_count": 61,
   "outputs": [
    {
     "data": {
      "text/plain": "  image_name pred_class\n0  P_3_1.png     SEVERE\n1  P_3_2.png     SEVERE\n2  P_3_3.png     SEVERE\n3  P_3_4.png       MILD\n4  P_3_5.png       MILD",
      "text/html": "<div>\n<style scoped>\n    .dataframe tbody tr th:only-of-type {\n        vertical-align: middle;\n    }\n\n    .dataframe tbody tr th {\n        vertical-align: top;\n    }\n\n    .dataframe thead th {\n        text-align: right;\n    }\n</style>\n<table border=\"1\" class=\"dataframe\">\n  <thead>\n    <tr style=\"text-align: right;\">\n      <th></th>\n      <th>image_name</th>\n      <th>pred_class</th>\n    </tr>\n  </thead>\n  <tbody>\n    <tr>\n      <th>0</th>\n      <td>P_3_1.png</td>\n      <td>SEVERE</td>\n    </tr>\n    <tr>\n      <th>1</th>\n      <td>P_3_2.png</td>\n      <td>SEVERE</td>\n    </tr>\n    <tr>\n      <th>2</th>\n      <td>P_3_3.png</td>\n      <td>SEVERE</td>\n    </tr>\n    <tr>\n      <th>3</th>\n      <td>P_3_4.png</td>\n      <td>MILD</td>\n    </tr>\n    <tr>\n      <th>4</th>\n      <td>P_3_5.png</td>\n      <td>MILD</td>\n    </tr>\n  </tbody>\n</table>\n</div>"
     },
     "execution_count": 61,
     "metadata": {},
     "output_type": "execute_result"
    }
   ],
   "source": [
    "dict_rep= {0: 'MILD', 1: 'SEVERE'}\n",
    "df_final.pred_class= df_final.pred_class.replace(dict_rep)\n",
    "df_final.head()"
   ],
   "metadata": {
    "collapsed": false,
    "pycharm": {
     "name": "#%%\n"
    }
   }
  },
  {
   "cell_type": "code",
   "execution_count": 62,
   "outputs": [],
   "source": [
    "df_final.to_csv('classification_rf_final.txt', header=False, index=False)"
   ],
   "metadata": {
    "collapsed": false,
    "pycharm": {
     "name": "#%%\n"
    }
   }
  },
  {
   "cell_type": "markdown",
   "source": [],
   "metadata": {
    "collapsed": false
   }
  },
  {
   "cell_type": "markdown",
   "source": [
    "## 2"
   ],
   "metadata": {
    "collapsed": false
   }
  },
  {
   "cell_type": "code",
   "execution_count": 64,
   "outputs": [
    {
     "data": {
      "text/plain": "  image_name  pred_class\n0  P_3_1.png           1\n1  P_3_2.png           0\n2  P_3_3.png           1\n3  P_3_4.png           0\n4  P_3_5.png           0",
      "text/html": "<div>\n<style scoped>\n    .dataframe tbody tr th:only-of-type {\n        vertical-align: middle;\n    }\n\n    .dataframe tbody tr th {\n        vertical-align: top;\n    }\n\n    .dataframe thead th {\n        text-align: right;\n    }\n</style>\n<table border=\"1\" class=\"dataframe\">\n  <thead>\n    <tr style=\"text-align: right;\">\n      <th></th>\n      <th>image_name</th>\n      <th>pred_class</th>\n    </tr>\n  </thead>\n  <tbody>\n    <tr>\n      <th>0</th>\n      <td>P_3_1.png</td>\n      <td>1</td>\n    </tr>\n    <tr>\n      <th>1</th>\n      <td>P_3_2.png</td>\n      <td>0</td>\n    </tr>\n    <tr>\n      <th>2</th>\n      <td>P_3_3.png</td>\n      <td>1</td>\n    </tr>\n    <tr>\n      <th>3</th>\n      <td>P_3_4.png</td>\n      <td>0</td>\n    </tr>\n    <tr>\n      <th>4</th>\n      <td>P_3_5.png</td>\n      <td>0</td>\n    </tr>\n  </tbody>\n</table>\n</div>"
     },
     "execution_count": 64,
     "metadata": {},
     "output_type": "execute_result"
    }
   ],
   "source": [
    "df_final = pd.DataFrame(list(zip(ser_img_name, pred_test_dt)), columns=['image_name', 'pred_class'])\n",
    "df_final.head()"
   ],
   "metadata": {
    "collapsed": false,
    "pycharm": {
     "name": "#%%\n"
    }
   }
  },
  {
   "cell_type": "code",
   "execution_count": 65,
   "outputs": [
    {
     "data": {
      "text/plain": "  image_name pred_class\n0  P_3_1.png     SEVERE\n1  P_3_2.png       MILD\n2  P_3_3.png     SEVERE\n3  P_3_4.png       MILD\n4  P_3_5.png       MILD",
      "text/html": "<div>\n<style scoped>\n    .dataframe tbody tr th:only-of-type {\n        vertical-align: middle;\n    }\n\n    .dataframe tbody tr th {\n        vertical-align: top;\n    }\n\n    .dataframe thead th {\n        text-align: right;\n    }\n</style>\n<table border=\"1\" class=\"dataframe\">\n  <thead>\n    <tr style=\"text-align: right;\">\n      <th></th>\n      <th>image_name</th>\n      <th>pred_class</th>\n    </tr>\n  </thead>\n  <tbody>\n    <tr>\n      <th>0</th>\n      <td>P_3_1.png</td>\n      <td>SEVERE</td>\n    </tr>\n    <tr>\n      <th>1</th>\n      <td>P_3_2.png</td>\n      <td>MILD</td>\n    </tr>\n    <tr>\n      <th>2</th>\n      <td>P_3_3.png</td>\n      <td>SEVERE</td>\n    </tr>\n    <tr>\n      <th>3</th>\n      <td>P_3_4.png</td>\n      <td>MILD</td>\n    </tr>\n    <tr>\n      <th>4</th>\n      <td>P_3_5.png</td>\n      <td>MILD</td>\n    </tr>\n  </tbody>\n</table>\n</div>"
     },
     "execution_count": 65,
     "metadata": {},
     "output_type": "execute_result"
    }
   ],
   "source": [
    "dict_rep= {0: 'MILD', 1: 'SEVERE'}\n",
    "df_final.pred_class= df_final.pred_class.replace(dict_rep)\n",
    "df_final.head()"
   ],
   "metadata": {
    "collapsed": false,
    "pycharm": {
     "name": "#%%\n"
    }
   }
  },
  {
   "cell_type": "code",
   "execution_count": 66,
   "outputs": [],
   "source": [
    "df_final.to_csv('classification_dt_final.txt', header=False, index=False)"
   ],
   "metadata": {
    "collapsed": false,
    "pycharm": {
     "name": "#%%\n"
    }
   }
  },
  {
   "cell_type": "code",
   "execution_count": null,
   "outputs": [],
   "source": [],
   "metadata": {
    "collapsed": false,
    "pycharm": {
     "name": "#%%\n"
    }
   }
  }
 ],
 "metadata": {
  "kernelspec": {
   "display_name": "Python 3",
   "language": "python",
   "name": "python3"
  },
  "language_info": {
   "codemirror_mode": {
    "name": "ipython",
    "version": 2
   },
   "file_extension": ".py",
   "mimetype": "text/x-python",
   "name": "python",
   "nbconvert_exporter": "python",
   "pygments_lexer": "ipython2",
   "version": "2.7.6"
  }
 },
 "nbformat": 4,
 "nbformat_minor": 0
}