{
 "cells": [
  {
   "cell_type": "markdown",
   "source": [
    "import delle librerie utilizzate"
   ],
   "metadata": {
    "collapsed": false
   }
  },
  {
   "cell_type": "code",
   "execution_count": 17,
   "metadata": {
    "pycharm": {
     "name": "#%%\n"
    }
   },
   "outputs": [],
   "source": [
    "import pandas as pd\n",
    "import numpy as np\n",
    "from PIL import Image\n",
    "from natsort import natsorted, natsort_keygen\n",
    "import os\n",
    "from sklearn import preprocessing\n",
    "from sklearn.model_selection import train_test_split\n",
    "from sklearn.tree import DecisionTreeClassifier, plot_tree, ExtraTreeClassifier\n",
    "from sklearn.ensemble import RandomForestClassifier\n",
    "from sklearn.dummy import DummyClassifier\n",
    "from sklearn.metrics import accuracy_score, classification_report, confusion_matrix\n",
    "from sklearn.model_selection import GridSearchCV\n",
    "from sklearn.model_selection import cross_val_score"
   ]
  },
  {
   "cell_type": "code",
   "execution_count": 18,
   "outputs": [],
   "source": [
    "op=0"
   ],
   "metadata": {
    "collapsed": false,
    "pycharm": {
     "name": "#%%\n"
    }
   }
  },
  {
   "cell_type": "code",
   "execution_count": 2,
   "metadata": {
    "pycharm": {
     "name": "#%%\n"
    }
   },
   "outputs": [],
   "source": [
    "data_path= os.path.join(r'C:\\Users\\Federico Cocchi\\UNIMORE\\3° SEMESTRE\\covid-hackathon\\TrainSet', r'trainClinData.xls')"
   ]
  },
  {
   "cell_type": "code",
   "execution_count": 3,
   "metadata": {
    "pycharm": {
     "name": "#%%\n"
    }
   },
   "outputs": [
    {
     "name": "stdout",
     "output_type": "stream",
     "text": [
      "(1103, 40)\n"
     ]
    },
    {
     "data": {
      "text/plain": "   Row_number  ImageFile Hospital        Age  Sex  PositivityAtAdmission  \\\n0          82  P_102.png        A  72.000000    1                    1.0   \n1         228  P_131.png        D  35.913889    0                    1.0   \n2         229  P_132.png        D  57.266667    0                    1.0   \n3          96  P_117.png        A  39.000000    1                    1.0   \n4         112   P_16.png        A  44.000000    0                    1.0   \n\n   Temp_C  DaysFever  Cough  DifficultyInBreathing  ...  Diabetes  Dementia  \\\n0    37.3        3.0    1.0                    0.0  ...       0.0       0.0   \n1    39.3        3.0    1.0                    0.0  ...       0.0       0.0   \n2    37.0        3.0    0.0                    0.0  ...       0.0       0.0   \n3    37.2        2.0    1.0                    0.0  ...       0.0       0.0   \n4    38.0        3.0    1.0                    0.0  ...       0.0       0.0   \n\n   BPCO  Cancer  ChronicKidneyDisease  RespiratoryFailure  Obesity  Position  \\\n0   0.0     1.0                   0.0                 0.0      0.0       0.0   \n1   0.0     0.0                   0.0                 NaN      1.0       0.0   \n2   0.0     0.0                   0.0                 NaN      NaN       0.0   \n3   0.0     0.0                   0.0                 0.0      0.0       1.0   \n4   0.0     0.0                   0.0                 0.0      0.0       0.0   \n\n   Prognosis  Death  \n0     SEVERE      0  \n1       MILD      0  \n2       MILD      0  \n3       MILD      0  \n4     SEVERE      0  \n\n[5 rows x 40 columns]",
      "text/html": "<div>\n<style scoped>\n    .dataframe tbody tr th:only-of-type {\n        vertical-align: middle;\n    }\n\n    .dataframe tbody tr th {\n        vertical-align: top;\n    }\n\n    .dataframe thead th {\n        text-align: right;\n    }\n</style>\n<table border=\"1\" class=\"dataframe\">\n  <thead>\n    <tr style=\"text-align: right;\">\n      <th></th>\n      <th>Row_number</th>\n      <th>ImageFile</th>\n      <th>Hospital</th>\n      <th>Age</th>\n      <th>Sex</th>\n      <th>PositivityAtAdmission</th>\n      <th>Temp_C</th>\n      <th>DaysFever</th>\n      <th>Cough</th>\n      <th>DifficultyInBreathing</th>\n      <th>...</th>\n      <th>Diabetes</th>\n      <th>Dementia</th>\n      <th>BPCO</th>\n      <th>Cancer</th>\n      <th>ChronicKidneyDisease</th>\n      <th>RespiratoryFailure</th>\n      <th>Obesity</th>\n      <th>Position</th>\n      <th>Prognosis</th>\n      <th>Death</th>\n    </tr>\n  </thead>\n  <tbody>\n    <tr>\n      <th>0</th>\n      <td>82</td>\n      <td>P_102.png</td>\n      <td>A</td>\n      <td>72.000000</td>\n      <td>1</td>\n      <td>1.0</td>\n      <td>37.3</td>\n      <td>3.0</td>\n      <td>1.0</td>\n      <td>0.0</td>\n      <td>...</td>\n      <td>0.0</td>\n      <td>0.0</td>\n      <td>0.0</td>\n      <td>1.0</td>\n      <td>0.0</td>\n      <td>0.0</td>\n      <td>0.0</td>\n      <td>0.0</td>\n      <td>SEVERE</td>\n      <td>0</td>\n    </tr>\n    <tr>\n      <th>1</th>\n      <td>228</td>\n      <td>P_131.png</td>\n      <td>D</td>\n      <td>35.913889</td>\n      <td>0</td>\n      <td>1.0</td>\n      <td>39.3</td>\n      <td>3.0</td>\n      <td>1.0</td>\n      <td>0.0</td>\n      <td>...</td>\n      <td>0.0</td>\n      <td>0.0</td>\n      <td>0.0</td>\n      <td>0.0</td>\n      <td>0.0</td>\n      <td>NaN</td>\n      <td>1.0</td>\n      <td>0.0</td>\n      <td>MILD</td>\n      <td>0</td>\n    </tr>\n    <tr>\n      <th>2</th>\n      <td>229</td>\n      <td>P_132.png</td>\n      <td>D</td>\n      <td>57.266667</td>\n      <td>0</td>\n      <td>1.0</td>\n      <td>37.0</td>\n      <td>3.0</td>\n      <td>0.0</td>\n      <td>0.0</td>\n      <td>...</td>\n      <td>0.0</td>\n      <td>0.0</td>\n      <td>0.0</td>\n      <td>0.0</td>\n      <td>0.0</td>\n      <td>NaN</td>\n      <td>NaN</td>\n      <td>0.0</td>\n      <td>MILD</td>\n      <td>0</td>\n    </tr>\n    <tr>\n      <th>3</th>\n      <td>96</td>\n      <td>P_117.png</td>\n      <td>A</td>\n      <td>39.000000</td>\n      <td>1</td>\n      <td>1.0</td>\n      <td>37.2</td>\n      <td>2.0</td>\n      <td>1.0</td>\n      <td>0.0</td>\n      <td>...</td>\n      <td>0.0</td>\n      <td>0.0</td>\n      <td>0.0</td>\n      <td>0.0</td>\n      <td>0.0</td>\n      <td>0.0</td>\n      <td>0.0</td>\n      <td>1.0</td>\n      <td>MILD</td>\n      <td>0</td>\n    </tr>\n    <tr>\n      <th>4</th>\n      <td>112</td>\n      <td>P_16.png</td>\n      <td>A</td>\n      <td>44.000000</td>\n      <td>0</td>\n      <td>1.0</td>\n      <td>38.0</td>\n      <td>3.0</td>\n      <td>1.0</td>\n      <td>0.0</td>\n      <td>...</td>\n      <td>0.0</td>\n      <td>0.0</td>\n      <td>0.0</td>\n      <td>0.0</td>\n      <td>0.0</td>\n      <td>0.0</td>\n      <td>0.0</td>\n      <td>0.0</td>\n      <td>SEVERE</td>\n      <td>0</td>\n    </tr>\n  </tbody>\n</table>\n<p>5 rows × 40 columns</p>\n</div>"
     },
     "execution_count": 3,
     "metadata": {},
     "output_type": "execute_result"
    }
   ],
   "source": [
    "df= pd.read_excel(data_path)\n",
    "print(df.shape)\n",
    "df.head(5)"
   ]
  },
  {
   "cell_type": "markdown",
   "metadata": {},
   "source": [
    "Ordinato il dataset seguendo lo stesso ordine delle immagine nella directory su esplora risorse"
   ]
  },
  {
   "cell_type": "code",
   "execution_count": 4,
   "metadata": {
    "pycharm": {
     "name": "#%%\n"
    }
   },
   "outputs": [
    {
     "data": {
      "text/plain": "   Row_number  ImageFile Hospital   Age  Sex  PositivityAtAdmission  Temp_C  \\\n0           1    P_1.png        A  38.0    0                    1.0    36.0   \n1         900  P_1_1.png        F  96.0    0                    1.0    36.0   \n2         901  P_1_2.png        F  62.0    1                    1.0     NaN   \n3         902  P_1_3.png        F  57.0    1                    1.0    39.0   \n4         903  P_1_4.png        F  41.0    1                    1.0     NaN   \n\n   DaysFever  Cough  DifficultyInBreathing  ...  Diabetes  Dementia  BPCO  \\\n0        4.0    1.0                    0.0  ...       0.0       0.0   0.0   \n1        1.0    0.0                    0.0  ...       0.0       1.0   0.0   \n2        4.0    1.0                    0.0  ...       1.0       0.0   0.0   \n3        2.0    0.0                    0.0  ...       0.0       0.0   0.0   \n4        NaN    0.0                    0.0  ...       1.0       0.0   0.0   \n\n   Cancer  ChronicKidneyDisease  RespiratoryFailure  Obesity  Position  \\\n0     0.0                   0.0                 0.0      0.0       1.0   \n1     0.0                   0.0                 0.0      NaN       1.0   \n2     0.0                   1.0                 0.0      NaN       1.0   \n3     0.0                   1.0                 0.0      NaN       1.0   \n4     0.0                   0.0                 0.0      NaN       1.0   \n\n   Prognosis  Death  \n0       MILD      0  \n1       MILD      0  \n2       MILD      0  \n3     SEVERE      0  \n4     SEVERE      0  \n\n[5 rows x 40 columns]",
      "text/html": "<div>\n<style scoped>\n    .dataframe tbody tr th:only-of-type {\n        vertical-align: middle;\n    }\n\n    .dataframe tbody tr th {\n        vertical-align: top;\n    }\n\n    .dataframe thead th {\n        text-align: right;\n    }\n</style>\n<table border=\"1\" class=\"dataframe\">\n  <thead>\n    <tr style=\"text-align: right;\">\n      <th></th>\n      <th>Row_number</th>\n      <th>ImageFile</th>\n      <th>Hospital</th>\n      <th>Age</th>\n      <th>Sex</th>\n      <th>PositivityAtAdmission</th>\n      <th>Temp_C</th>\n      <th>DaysFever</th>\n      <th>Cough</th>\n      <th>DifficultyInBreathing</th>\n      <th>...</th>\n      <th>Diabetes</th>\n      <th>Dementia</th>\n      <th>BPCO</th>\n      <th>Cancer</th>\n      <th>ChronicKidneyDisease</th>\n      <th>RespiratoryFailure</th>\n      <th>Obesity</th>\n      <th>Position</th>\n      <th>Prognosis</th>\n      <th>Death</th>\n    </tr>\n  </thead>\n  <tbody>\n    <tr>\n      <th>0</th>\n      <td>1</td>\n      <td>P_1.png</td>\n      <td>A</td>\n      <td>38.0</td>\n      <td>0</td>\n      <td>1.0</td>\n      <td>36.0</td>\n      <td>4.0</td>\n      <td>1.0</td>\n      <td>0.0</td>\n      <td>...</td>\n      <td>0.0</td>\n      <td>0.0</td>\n      <td>0.0</td>\n      <td>0.0</td>\n      <td>0.0</td>\n      <td>0.0</td>\n      <td>0.0</td>\n      <td>1.0</td>\n      <td>MILD</td>\n      <td>0</td>\n    </tr>\n    <tr>\n      <th>1</th>\n      <td>900</td>\n      <td>P_1_1.png</td>\n      <td>F</td>\n      <td>96.0</td>\n      <td>0</td>\n      <td>1.0</td>\n      <td>36.0</td>\n      <td>1.0</td>\n      <td>0.0</td>\n      <td>0.0</td>\n      <td>...</td>\n      <td>0.0</td>\n      <td>1.0</td>\n      <td>0.0</td>\n      <td>0.0</td>\n      <td>0.0</td>\n      <td>0.0</td>\n      <td>NaN</td>\n      <td>1.0</td>\n      <td>MILD</td>\n      <td>0</td>\n    </tr>\n    <tr>\n      <th>2</th>\n      <td>901</td>\n      <td>P_1_2.png</td>\n      <td>F</td>\n      <td>62.0</td>\n      <td>1</td>\n      <td>1.0</td>\n      <td>NaN</td>\n      <td>4.0</td>\n      <td>1.0</td>\n      <td>0.0</td>\n      <td>...</td>\n      <td>1.0</td>\n      <td>0.0</td>\n      <td>0.0</td>\n      <td>0.0</td>\n      <td>1.0</td>\n      <td>0.0</td>\n      <td>NaN</td>\n      <td>1.0</td>\n      <td>MILD</td>\n      <td>0</td>\n    </tr>\n    <tr>\n      <th>3</th>\n      <td>902</td>\n      <td>P_1_3.png</td>\n      <td>F</td>\n      <td>57.0</td>\n      <td>1</td>\n      <td>1.0</td>\n      <td>39.0</td>\n      <td>2.0</td>\n      <td>0.0</td>\n      <td>0.0</td>\n      <td>...</td>\n      <td>0.0</td>\n      <td>0.0</td>\n      <td>0.0</td>\n      <td>0.0</td>\n      <td>1.0</td>\n      <td>0.0</td>\n      <td>NaN</td>\n      <td>1.0</td>\n      <td>SEVERE</td>\n      <td>0</td>\n    </tr>\n    <tr>\n      <th>4</th>\n      <td>903</td>\n      <td>P_1_4.png</td>\n      <td>F</td>\n      <td>41.0</td>\n      <td>1</td>\n      <td>1.0</td>\n      <td>NaN</td>\n      <td>NaN</td>\n      <td>0.0</td>\n      <td>0.0</td>\n      <td>...</td>\n      <td>1.0</td>\n      <td>0.0</td>\n      <td>0.0</td>\n      <td>0.0</td>\n      <td>0.0</td>\n      <td>0.0</td>\n      <td>NaN</td>\n      <td>1.0</td>\n      <td>SEVERE</td>\n      <td>0</td>\n    </tr>\n  </tbody>\n</table>\n<p>5 rows × 40 columns</p>\n</div>"
     },
     "execution_count": 4,
     "metadata": {},
     "output_type": "execute_result"
    }
   ],
   "source": [
    "df_order= df.sort_values(by=['ImageFile'], key= natsort_keygen())\n",
    "df_order.reset_index(inplace=True, drop=True)\n",
    "df_order.head(5)"
   ]
  },
  {
   "cell_type": "code",
   "execution_count": 24,
   "metadata": {
    "pycharm": {
     "name": "#%%\n"
    }
   },
   "outputs": [
    {
     "data": {
      "text/plain": [
       "['P_1.png',\n",
       " 'P_1_1.png',\n",
       " 'P_1_2.png',\n",
       " 'P_1_3.png',\n",
       " 'P_1_4.png',\n",
       " 'P_1_5.png',\n",
       " 'P_1_6.png',\n",
       " 'P_1_7.png',\n",
       " 'P_1_8.png',\n",
       " 'P_1_9.png',\n",
       " 'P_1_10.png',\n",
       " 'P_1_11.png',\n",
       " 'P_1_12.png',\n",
       " 'P_1_13.png',\n",
       " 'P_1_14.png',\n",
       " 'P_1_15.png',\n",
       " 'P_1_16.png',\n",
       " 'P_1_17.png',\n",
       " 'P_1_18.png',\n",
       " 'P_1_19.png',\n",
       " 'P_1_20.png',\n",
       " 'P_1_21.png',\n",
       " 'P_1_22.png',\n",
       " 'P_1_23.png',\n",
       " 'P_1_24.png',\n",
       " 'P_1_25.png',\n",
       " 'P_1_26.png',\n",
       " 'P_1_27.png',\n",
       " 'P_1_28.png',\n",
       " 'P_1_29.png',\n",
       " 'P_1_30.png',\n",
       " 'P_1_31.png',\n",
       " 'P_1_32.png',\n",
       " 'P_1_33.png',\n",
       " 'P_1_34.png',\n",
       " 'P_1_35.png',\n",
       " 'P_1_36.png',\n",
       " 'P_1_37.png',\n",
       " 'P_1_38.png',\n",
       " 'P_1_39.png',\n",
       " 'P_1_40.png',\n",
       " 'P_1_41.png',\n",
       " 'P_1_42.png',\n",
       " 'P_1_43.png',\n",
       " 'P_1_44.png',\n",
       " 'P_1_45.png',\n",
       " 'P_1_46.png',\n",
       " 'P_1_47.png',\n",
       " 'P_1_48.png',\n",
       " 'P_1_49.png',\n",
       " 'P_1_50.png',\n",
       " 'P_1_51.png',\n",
       " 'P_1_52.png',\n",
       " 'P_1_53.png',\n",
       " 'P_1_54.png',\n",
       " 'P_1_55.png',\n",
       " 'P_1_56.png',\n",
       " 'P_1_57.png',\n",
       " 'P_1_58.png',\n",
       " 'P_1_59.png',\n",
       " 'P_1_60.png',\n",
       " 'P_1_61.png',\n",
       " 'P_1_62.png',\n",
       " 'P_1_63.png',\n",
       " 'P_1_64.png',\n",
       " 'P_1_65.png',\n",
       " 'P_1_66.png',\n",
       " 'P_1_67.png',\n",
       " 'P_1_68.png',\n",
       " 'P_1_69.png',\n",
       " 'P_1_70.png',\n",
       " 'P_1_71.png',\n",
       " 'P_1_72.png',\n",
       " 'P_1_73.png',\n",
       " 'P_1_74.png',\n",
       " 'P_1_75.png',\n",
       " 'P_1_76.png',\n",
       " 'P_1_77.png',\n",
       " 'P_1_78.png',\n",
       " 'P_1_79.png',\n",
       " 'P_1_80.png',\n",
       " 'P_1_81.png',\n",
       " 'P_1_82.png',\n",
       " 'P_1_83.png',\n",
       " 'P_1_84.png',\n",
       " 'P_1_85.png',\n",
       " 'P_1_86.png',\n",
       " 'P_1_87.png',\n",
       " 'P_1_88.png',\n",
       " 'P_1_89.png',\n",
       " 'P_1_90.png',\n",
       " 'P_1_91.png',\n",
       " 'P_1_92.png',\n",
       " 'P_1_93.png',\n",
       " 'P_1_94.png',\n",
       " 'P_1_95.png',\n",
       " 'P_1_96.png',\n",
       " 'P_1_97.png',\n",
       " 'P_1_98.png',\n",
       " 'P_1_99.png',\n",
       " 'P_1_100.png',\n",
       " 'P_1_101.png',\n",
       " 'P_1_102.png',\n",
       " 'P_1_103.png',\n",
       " 'P_1_104.png',\n",
       " 'P_1_105.png',\n",
       " 'P_1_106.png',\n",
       " 'P_1_107.png',\n",
       " 'P_1_108.png',\n",
       " 'P_1_109.png',\n",
       " 'P_1_110.png',\n",
       " 'P_1_111.png',\n",
       " 'P_1_112.png',\n",
       " 'P_1_113.png',\n",
       " 'P_1_114.png',\n",
       " 'P_1_115.png',\n",
       " 'P_1_116.png',\n",
       " 'P_1_117.png',\n",
       " 'P_1_118.png',\n",
       " 'P_1_119.png',\n",
       " 'P_1_120.png',\n",
       " 'P_1_121.png',\n",
       " 'P_1_122.png',\n",
       " 'P_1_123.png',\n",
       " 'P_1_124.png',\n",
       " 'P_1_125.png',\n",
       " 'P_1_126.png',\n",
       " 'P_1_127.png',\n",
       " 'P_1_128.png',\n",
       " 'P_1_129.png',\n",
       " 'P_1_130.png',\n",
       " 'P_1_131.png',\n",
       " 'P_1_132.png',\n",
       " 'P_1_133.png',\n",
       " 'P_1_134.png',\n",
       " 'P_1_135.png',\n",
       " 'P_1_136.png',\n",
       " 'P_1_137.png',\n",
       " 'P_1_138.png',\n",
       " 'P_1_139.png',\n",
       " 'P_1_140.png',\n",
       " 'P_1_141.png',\n",
       " 'P_1_142.png',\n",
       " 'P_1_143.png',\n",
       " 'P_1_144.png',\n",
       " 'P_1_145.png',\n",
       " 'P_1_146.png',\n",
       " 'P_1_147.png',\n",
       " 'P_1_148.png',\n",
       " 'P_1_149.png',\n",
       " 'P_1_150.png',\n",
       " 'P_1_151.png',\n",
       " 'P_1_152.png',\n",
       " 'P_1_153.png',\n",
       " 'P_1_154.png',\n",
       " 'P_1_155.png',\n",
       " 'P_1_156.png',\n",
       " 'P_1_157.png',\n",
       " 'P_1_158.png',\n",
       " 'P_1_159.png',\n",
       " 'P_1_160.png',\n",
       " 'P_1_161.png',\n",
       " 'P_1_162.png',\n",
       " 'P_1_163.png',\n",
       " 'P_2.png',\n",
       " 'P_2_1.png',\n",
       " 'P_2_2.png',\n",
       " 'P_2_3.png',\n",
       " 'P_2_4.png',\n",
       " 'P_2_5.png',\n",
       " 'P_2_7.png',\n",
       " 'P_2_8.png',\n",
       " 'P_2_9.png',\n",
       " 'P_2_10.png',\n",
       " 'P_2_11.png',\n",
       " 'P_2_12.png',\n",
       " 'P_2_13.png',\n",
       " 'P_2_14.png',\n",
       " 'P_2_15.png',\n",
       " 'P_2_16.png',\n",
       " 'P_2_17.png',\n",
       " 'P_2_18.png',\n",
       " 'P_2_19.png',\n",
       " 'P_2_20.png',\n",
       " 'P_2_21.png',\n",
       " 'P_2_22.png',\n",
       " 'P_2_23.png',\n",
       " 'P_2_24.png',\n",
       " 'P_2_25.png',\n",
       " 'P_2_26.png',\n",
       " 'P_2_27.png',\n",
       " 'P_2_28.png',\n",
       " 'P_2_29.png',\n",
       " 'P_2_30.png',\n",
       " 'P_2_31.png',\n",
       " 'P_2_32.png',\n",
       " 'P_2_33.png',\n",
       " 'P_2_34.png',\n",
       " 'P_2_35.png',\n",
       " 'P_2_36.png',\n",
       " 'P_2_37.png',\n",
       " 'P_2_38.png',\n",
       " 'P_2_39.png',\n",
       " 'P_2_40.png',\n",
       " 'P_2_41.png',\n",
       " 'P_2_42.png',\n",
       " 'P_2_43.png',\n",
       " 'P_2_45.png',\n",
       " 'P_2_46.png',\n",
       " 'P_2_47.png',\n",
       " 'P_2_48.png',\n",
       " 'P_2_49.png',\n",
       " 'P_2_50.png',\n",
       " 'P_2_51.png',\n",
       " 'P_2_52.png',\n",
       " 'P_2_53.png',\n",
       " 'P_2_54.png',\n",
       " 'P_2_55.png',\n",
       " 'P_2_56.png',\n",
       " 'P_2_57.png',\n",
       " 'P_2_58.png',\n",
       " 'P_2_59.png',\n",
       " 'P_2_60.png',\n",
       " 'P_2_61.png',\n",
       " 'P_2_62.png',\n",
       " 'P_2_63.png',\n",
       " 'P_2_64.png',\n",
       " 'P_2_65.png',\n",
       " 'P_2_66.png',\n",
       " 'P_2_67.png',\n",
       " 'P_2_68.png',\n",
       " 'P_2_69.png',\n",
       " 'P_2_70.png',\n",
       " 'P_2_71.png',\n",
       " 'P_2_72.png',\n",
       " 'P_2_73.png',\n",
       " 'P_2_74.png',\n",
       " 'P_2_75.png',\n",
       " 'P_2_76.png',\n",
       " 'P_2_77.png',\n",
       " 'P_2_78.png',\n",
       " 'P_2_79.png',\n",
       " 'P_2_80.png',\n",
       " 'P_2_81.png',\n",
       " 'P_2_82.png',\n",
       " 'P_2_83.png',\n",
       " 'P_2_84.png',\n",
       " 'P_2_85.png',\n",
       " 'P_2_86.png',\n",
       " 'P_2_87.png',\n",
       " 'P_2_88.png',\n",
       " 'P_2_89.png',\n",
       " 'P_2_90.png',\n",
       " 'P_2_91.png',\n",
       " 'P_2_92.png',\n",
       " 'P_2_93.png',\n",
       " 'P_2_94.png',\n",
       " 'P_2_95.png',\n",
       " 'P_2_96.png',\n",
       " 'P_2_97.png',\n",
       " 'P_2_98.png',\n",
       " 'P_2_99.png',\n",
       " 'P_2_100.png',\n",
       " 'P_2_101.png',\n",
       " 'P_2_102.png',\n",
       " 'P_2_103.png',\n",
       " 'P_2_104.png',\n",
       " 'P_2_105.png',\n",
       " 'P_2_106.png',\n",
       " 'P_2_107.png',\n",
       " 'P_2_108.png',\n",
       " 'P_2_109.png',\n",
       " 'P_2_110.png',\n",
       " 'P_2_111.png',\n",
       " 'P_2_112.png',\n",
       " 'P_2_113.png',\n",
       " 'P_2_114.png',\n",
       " 'P_2_115.png',\n",
       " 'P_2_116.png',\n",
       " 'P_2_117.png',\n",
       " 'P_2_118.png',\n",
       " 'P_2_119.png',\n",
       " 'P_2_120.png',\n",
       " 'P_2_121.png',\n",
       " 'P_2_122.png',\n",
       " 'P_3.png',\n",
       " 'P_4.png',\n",
       " 'P_5.png',\n",
       " 'P_6.png',\n",
       " 'P_7.png',\n",
       " 'P_8.png',\n",
       " 'P_9.png',\n",
       " 'P_10.png',\n",
       " 'P_11.png',\n",
       " 'P_12.png',\n",
       " 'P_13.png',\n",
       " 'P_14.png',\n",
       " 'P_15.png',\n",
       " 'P_16.png',\n",
       " 'P_17.png',\n",
       " 'P_18.png',\n",
       " 'P_19.png',\n",
       " 'P_20.png',\n",
       " 'P_21.png',\n",
       " 'P_22.png',\n",
       " 'P_23.png',\n",
       " 'P_24.png',\n",
       " 'P_25.png',\n",
       " 'P_26.png',\n",
       " 'P_27.png',\n",
       " 'P_28.png',\n",
       " 'P_29.png',\n",
       " 'P_30.png',\n",
       " 'P_31.png',\n",
       " 'P_32.png',\n",
       " 'P_33.png',\n",
       " 'P_34.png',\n",
       " 'P_35.png',\n",
       " 'P_36.png',\n",
       " 'P_37.png',\n",
       " 'P_38.png',\n",
       " 'P_39.png',\n",
       " 'P_40.png',\n",
       " 'P_41.png',\n",
       " 'P_42.png',\n",
       " 'P_43.png',\n",
       " 'P_44.png',\n",
       " 'P_45.png',\n",
       " 'P_46.png',\n",
       " 'P_47.png',\n",
       " 'P_48.png',\n",
       " 'P_49.png',\n",
       " 'P_50.png',\n",
       " 'P_51.png',\n",
       " 'P_52.png',\n",
       " 'P_53.png',\n",
       " 'P_54.png',\n",
       " 'P_55.png',\n",
       " 'P_56.png',\n",
       " 'P_57.png',\n",
       " 'P_58.png',\n",
       " 'P_59.png',\n",
       " 'P_60.png',\n",
       " 'P_61.png',\n",
       " 'P_62.png',\n",
       " 'P_63.png',\n",
       " 'P_64.png',\n",
       " 'P_65.png',\n",
       " 'P_66.png',\n",
       " 'P_67.png',\n",
       " 'P_68.png',\n",
       " 'P_69.png',\n",
       " 'P_70.png',\n",
       " 'P_71.png',\n",
       " 'P_72.png',\n",
       " 'P_73.png',\n",
       " 'P_74.png',\n",
       " 'P_75.png',\n",
       " 'P_76.png',\n",
       " 'P_77.png',\n",
       " 'P_78.png',\n",
       " 'P_79.png',\n",
       " 'P_80.png',\n",
       " 'P_81.png',\n",
       " 'P_82.png',\n",
       " 'P_83.png',\n",
       " 'P_84.png',\n",
       " 'P_85.png',\n",
       " 'P_86.png',\n",
       " 'P_87.png',\n",
       " 'P_88.png',\n",
       " 'P_89.png',\n",
       " 'P_90.png',\n",
       " 'P_91.png',\n",
       " 'P_92.png',\n",
       " 'P_93.png',\n",
       " 'P_94.png',\n",
       " 'P_95.png',\n",
       " 'P_96.png',\n",
       " 'P_97.png',\n",
       " 'P_98.png',\n",
       " 'P_99.png',\n",
       " 'P_100.png',\n",
       " 'P_101.png',\n",
       " 'P_102.png',\n",
       " 'P_103.png',\n",
       " 'P_104.png',\n",
       " 'P_105.png',\n",
       " 'P_106.png',\n",
       " 'P_107.png',\n",
       " 'P_108.png',\n",
       " 'P_109.png',\n",
       " 'P_110.png',\n",
       " 'P_111.png',\n",
       " 'P_112.png',\n",
       " 'P_113.png',\n",
       " 'P_114.png',\n",
       " 'P_115.png',\n",
       " 'P_116.png',\n",
       " 'P_117.png',\n",
       " 'P_118.png',\n",
       " 'P_119.png',\n",
       " 'P_120.png',\n",
       " 'P_121.png',\n",
       " 'P_122.png',\n",
       " 'P_123.png',\n",
       " 'P_124.png',\n",
       " 'P_125.png',\n",
       " 'P_126.png',\n",
       " 'P_127.png',\n",
       " 'P_128.png',\n",
       " 'P_129.png',\n",
       " 'P_130.png',\n",
       " 'P_131.png',\n",
       " 'P_132.png',\n",
       " 'P_133.png',\n",
       " 'P_134.png',\n",
       " 'P_135.png',\n",
       " 'P_136.png',\n",
       " 'P_137.png',\n",
       " 'P_138.png',\n",
       " 'P_139.png',\n",
       " 'P_140.png',\n",
       " 'P_141.png',\n",
       " 'P_142.png',\n",
       " 'P_143.png',\n",
       " 'P_144.png',\n",
       " 'P_145.png',\n",
       " 'P_146.png',\n",
       " 'P_147.png',\n",
       " 'P_148.png',\n",
       " 'P_149.png',\n",
       " 'P_150.png',\n",
       " 'P_151.png',\n",
       " 'P_152.png',\n",
       " 'P_153.png',\n",
       " 'P_154.png',\n",
       " 'P_156.png',\n",
       " 'P_157.png',\n",
       " 'P_158.png',\n",
       " 'P_159.png',\n",
       " 'P_161.png',\n",
       " 'P_163.png',\n",
       " 'P_164.png',\n",
       " 'P_165.png',\n",
       " 'P_166.png',\n",
       " 'P_167.png',\n",
       " 'P_168.png',\n",
       " 'P_169.png',\n",
       " 'P_170.png',\n",
       " 'P_171.png',\n",
       " 'P_172.png',\n",
       " 'P_173.png',\n",
       " 'P_174.png',\n",
       " 'P_175.png',\n",
       " 'P_176.png',\n",
       " 'P_177.png',\n",
       " 'P_178.png',\n",
       " 'P_179.png',\n",
       " 'P_180.png',\n",
       " 'P_181.png',\n",
       " 'P_182.png',\n",
       " 'P_183.png',\n",
       " 'P_184.png',\n",
       " 'P_185.png',\n",
       " 'P_186.png',\n",
       " 'P_187.png',\n",
       " 'P_188.png',\n",
       " 'P_189.png',\n",
       " 'P_190.png',\n",
       " 'P_191.png',\n",
       " 'P_192.png',\n",
       " 'P_193.png',\n",
       " 'P_194.png',\n",
       " 'P_195.png',\n",
       " 'P_196.png',\n",
       " 'P_197.png',\n",
       " 'P_198.png',\n",
       " 'P_199.png',\n",
       " 'P_200.png',\n",
       " 'P_201.png',\n",
       " 'P_202.png',\n",
       " 'P_203.png',\n",
       " 'P_204.png',\n",
       " 'P_205.png',\n",
       " 'P_206.png',\n",
       " 'P_207.png',\n",
       " 'P_208.png',\n",
       " 'P_209.png',\n",
       " 'P_210.png',\n",
       " 'P_211.png',\n",
       " 'P_212.png',\n",
       " 'P_213.png',\n",
       " 'P_214.png',\n",
       " 'P_215.png',\n",
       " 'P_216.png',\n",
       " 'P_217.png',\n",
       " 'P_218.png',\n",
       " 'P_219.png',\n",
       " 'P_220.png',\n",
       " 'P_221.png',\n",
       " 'P_222.png',\n",
       " 'P_223.png',\n",
       " 'P_224.png',\n",
       " 'P_225.png',\n",
       " 'P_226.png',\n",
       " 'P_227.png',\n",
       " 'P_228.png',\n",
       " 'P_229.png',\n",
       " 'P_230.png',\n",
       " 'P_231.png',\n",
       " 'P_232.png',\n",
       " 'P_233.png',\n",
       " 'P_234.png',\n",
       " 'P_235.png',\n",
       " 'P_236.png',\n",
       " 'P_237.png',\n",
       " 'P_238.png',\n",
       " 'P_239.png',\n",
       " 'P_240.png',\n",
       " 'P_241.png',\n",
       " 'P_242.png',\n",
       " 'P_243.png',\n",
       " 'P_244.png',\n",
       " 'P_245.png',\n",
       " 'P_246.png',\n",
       " 'P_247.png',\n",
       " 'P_248.png',\n",
       " 'P_249.png',\n",
       " 'P_250.png',\n",
       " 'P_251.png',\n",
       " 'P_252.png',\n",
       " 'P_253.png',\n",
       " 'P_254.png',\n",
       " 'P_255.png',\n",
       " 'P_256.png',\n",
       " 'P_257.png',\n",
       " 'P_258.png',\n",
       " 'P_259.png',\n",
       " 'P_260.png',\n",
       " 'P_261.png',\n",
       " 'P_262.png',\n",
       " 'P_263.png',\n",
       " 'P_264.png',\n",
       " 'P_265.png',\n",
       " 'P_266.png',\n",
       " 'P_267.png',\n",
       " 'P_268.png',\n",
       " 'P_269.png',\n",
       " 'P_270.png',\n",
       " 'P_271.png',\n",
       " 'P_272.png',\n",
       " 'P_273.png',\n",
       " 'P_274.png',\n",
       " 'P_275.png',\n",
       " 'P_276.png',\n",
       " 'P_277.png',\n",
       " 'P_278.png',\n",
       " 'P_279.png',\n",
       " 'P_280.png',\n",
       " 'P_281.png',\n",
       " 'P_282.png',\n",
       " 'P_283.png',\n",
       " 'P_284.png',\n",
       " 'P_285.png',\n",
       " 'P_286.png',\n",
       " 'P_287.png',\n",
       " 'P_288.png',\n",
       " 'P_289.png',\n",
       " 'P_292.png',\n",
       " 'P_293.png',\n",
       " 'P_294.png',\n",
       " 'P_295.png',\n",
       " 'P_296.png',\n",
       " 'P_297.png',\n",
       " 'P_298.png',\n",
       " 'P_299.png',\n",
       " 'P_300.png',\n",
       " 'P_301.png',\n",
       " 'P_302.png',\n",
       " 'P_303.png',\n",
       " 'P_304.png',\n",
       " 'P_305.png',\n",
       " 'P_306.png',\n",
       " 'P_307.png',\n",
       " 'P_308.png',\n",
       " 'P_309.png',\n",
       " 'P_310.png',\n",
       " 'P_311.png',\n",
       " 'P_312.png',\n",
       " 'P_313.png',\n",
       " 'P_314.png',\n",
       " 'P_315.png',\n",
       " 'P_316.png',\n",
       " 'P_317.png',\n",
       " 'P_318.png',\n",
       " 'P_319.png',\n",
       " 'P_320.png',\n",
       " 'P_321.png',\n",
       " 'P_322.png',\n",
       " 'P_323.png',\n",
       " 'P_324.png',\n",
       " 'P_325.png',\n",
       " 'P_326.png',\n",
       " 'P_327.png',\n",
       " 'P_328.png',\n",
       " 'P_330.png',\n",
       " 'P_331.png',\n",
       " 'P_332.png',\n",
       " 'P_333.png',\n",
       " 'P_334.png',\n",
       " 'P_335.png',\n",
       " 'P_336.png',\n",
       " 'P_337.png',\n",
       " 'P_338.png',\n",
       " 'P_339.png',\n",
       " 'P_340.png',\n",
       " 'P_341.png',\n",
       " 'P_342.png',\n",
       " 'P_343.png',\n",
       " 'P_349.png',\n",
       " 'P_350.png',\n",
       " 'P_351.png',\n",
       " 'P_352.png',\n",
       " 'P_353.png',\n",
       " 'P_354.png',\n",
       " 'P_355.png',\n",
       " 'P_356.png',\n",
       " 'P_357.png',\n",
       " 'P_358.png',\n",
       " 'P_359.png',\n",
       " 'P_360.png',\n",
       " 'P_361.png',\n",
       " 'P_362.png',\n",
       " 'P_363.png',\n",
       " 'P_364.png',\n",
       " 'P_365.png',\n",
       " 'P_366.png',\n",
       " 'P_367.png',\n",
       " 'P_368.png',\n",
       " 'P_369.png',\n",
       " 'P_370.png',\n",
       " 'P_371.png',\n",
       " 'P_372.png',\n",
       " 'P_373.png',\n",
       " 'P_374.png',\n",
       " 'P_375.png',\n",
       " 'P_376.png',\n",
       " 'P_377.png',\n",
       " 'P_378.png',\n",
       " 'P_379.png',\n",
       " 'P_380.png',\n",
       " 'P_381.png',\n",
       " 'P_382.png',\n",
       " 'P_383.png',\n",
       " 'P_384.png',\n",
       " 'P_385.png',\n",
       " 'P_386.png',\n",
       " 'P_387.png',\n",
       " 'P_388.png',\n",
       " 'P_389.png',\n",
       " 'P_391.png',\n",
       " 'P_394.png',\n",
       " 'P_395.png',\n",
       " 'P_396.png',\n",
       " 'P_398.png',\n",
       " 'P_399.png',\n",
       " 'P_400.png',\n",
       " 'P_401.png',\n",
       " 'P_402.png',\n",
       " 'P_403.png',\n",
       " 'P_404.png',\n",
       " 'P_405.png',\n",
       " 'P_406.png',\n",
       " 'P_407.png',\n",
       " 'P_408.png',\n",
       " 'P_409.png',\n",
       " 'P_410.png',\n",
       " 'P_411.png',\n",
       " 'P_412.png',\n",
       " 'P_413.png',\n",
       " 'P_414.png',\n",
       " 'P_415.png',\n",
       " 'P_416.png',\n",
       " 'P_417.png',\n",
       " 'P_418.png',\n",
       " 'P_419.png',\n",
       " 'P_420.png',\n",
       " 'P_421.png',\n",
       " 'P_422.png',\n",
       " 'P_423.png',\n",
       " 'P_424.png',\n",
       " 'P_425.png',\n",
       " 'P_426.png',\n",
       " 'P_427.png',\n",
       " 'P_428.png',\n",
       " 'P_429.png',\n",
       " 'P_430.png',\n",
       " 'P_431.png',\n",
       " 'P_432.png',\n",
       " 'P_433.png',\n",
       " 'P_434.png',\n",
       " 'P_435.png',\n",
       " 'P_436.png',\n",
       " 'P_437.png',\n",
       " 'P_438.png',\n",
       " 'P_439.png',\n",
       " 'P_440.png',\n",
       " 'P_441.png',\n",
       " 'P_442.png',\n",
       " 'P_444.png',\n",
       " 'P_445.png',\n",
       " 'P_446.png',\n",
       " 'P_447.png',\n",
       " 'P_448.png',\n",
       " 'P_449.png',\n",
       " 'P_450.png',\n",
       " 'P_451.png',\n",
       " 'P_452.png',\n",
       " 'P_453.png',\n",
       " 'P_455.png',\n",
       " 'P_457.png',\n",
       " 'P_458.png',\n",
       " 'P_459.png',\n",
       " 'P_460.png',\n",
       " 'P_461.png',\n",
       " 'P_462.png',\n",
       " 'P_463.png',\n",
       " 'P_464.png',\n",
       " 'P_465.png',\n",
       " 'P_466.png',\n",
       " 'P_467.png',\n",
       " 'P_468.png',\n",
       " 'P_469.png',\n",
       " 'P_470.png',\n",
       " 'P_471.png',\n",
       " 'P_472.png',\n",
       " 'P_473.png',\n",
       " 'P_474.png',\n",
       " 'P_475.png',\n",
       " 'P_476.png',\n",
       " 'P_477.png',\n",
       " 'P_478.png',\n",
       " 'P_479.png',\n",
       " 'P_480.png',\n",
       " 'P_481.png',\n",
       " 'P_482.png',\n",
       " 'P_483.png',\n",
       " 'P_484.png',\n",
       " 'P_485.png',\n",
       " 'P_486.png',\n",
       " 'P_487.png',\n",
       " 'P_488.png',\n",
       " 'P_489.png',\n",
       " 'P_490.png',\n",
       " 'P_491.png',\n",
       " 'P_493.png',\n",
       " 'P_494.png',\n",
       " 'P_495.png',\n",
       " 'P_496.png',\n",
       " 'P_497.png',\n",
       " 'P_498.png',\n",
       " 'P_499.png',\n",
       " 'P_500.png',\n",
       " 'P_501.png',\n",
       " 'P_502.png',\n",
       " 'P_503.png',\n",
       " 'P_504.png',\n",
       " 'P_505.png',\n",
       " 'P_506.png',\n",
       " 'P_507.png',\n",
       " 'P_508.png',\n",
       " 'P_509.png',\n",
       " 'P_510.png',\n",
       " 'P_511.png',\n",
       " 'P_512.png',\n",
       " 'P_513.png',\n",
       " 'P_514.png',\n",
       " 'P_515.png',\n",
       " 'P_516.png',\n",
       " 'P_517.png',\n",
       " 'P_518.png',\n",
       " 'P_519.png',\n",
       " 'P_520.png',\n",
       " 'P_521.png',\n",
       " 'P_522.png',\n",
       " 'P_523.png',\n",
       " 'P_524.png',\n",
       " 'P_525.png',\n",
       " 'P_526.png',\n",
       " 'P_527.png',\n",
       " 'P_528.png',\n",
       " 'P_530.png',\n",
       " 'P_532.png',\n",
       " 'P_533.png',\n",
       " 'P_534.png',\n",
       " 'P_535.png',\n",
       " 'P_536.png',\n",
       " 'P_537.png',\n",
       " 'P_538.png',\n",
       " 'P_539.png',\n",
       " 'P_540.png',\n",
       " 'P_541.png',\n",
       " 'P_542.png',\n",
       " 'P_543.png',\n",
       " 'P_544.png',\n",
       " 'P_545.png',\n",
       " 'P_546.png',\n",
       " 'P_547.png',\n",
       " 'P_549.png',\n",
       " 'P_550.png',\n",
       " 'P_551.png',\n",
       " 'P_552.png',\n",
       " 'P_554.png',\n",
       " 'P_555.png',\n",
       " 'P_556.png',\n",
       " 'P_557.png',\n",
       " 'P_558.png',\n",
       " 'P_559.png',\n",
       " 'P_560.png',\n",
       " 'P_561.png',\n",
       " 'P_562.png',\n",
       " 'P_564.png',\n",
       " 'P_565.png',\n",
       " 'P_566.png',\n",
       " 'P_567.png',\n",
       " 'P_568.png',\n",
       " 'P_569.png',\n",
       " 'P_570.png',\n",
       " 'P_571.png',\n",
       " 'P_572.png',\n",
       " 'P_573.png',\n",
       " 'P_574.png',\n",
       " 'P_575.png',\n",
       " 'P_576.png',\n",
       " 'P_577.png',\n",
       " 'P_578.png',\n",
       " 'P_579.png',\n",
       " 'P_580.png',\n",
       " 'P_581.png',\n",
       " 'P_582.png',\n",
       " 'P_583.png',\n",
       " 'P_584.png',\n",
       " 'P_585.png',\n",
       " 'P_586.png',\n",
       " 'P_587.png',\n",
       " 'P_588.png',\n",
       " 'P_589.png',\n",
       " 'P_590.png',\n",
       " 'P_591.png',\n",
       " 'P_592.png',\n",
       " 'P_593.png',\n",
       " 'P_594.png',\n",
       " 'P_595.png',\n",
       " 'P_596.png',\n",
       " 'P_597.png',\n",
       " 'P_598.png',\n",
       " 'P_599.png',\n",
       " 'P_600.png',\n",
       " 'P_601.png',\n",
       " 'P_602.png',\n",
       " 'P_603.png',\n",
       " 'P_604.png',\n",
       " 'P_605.png',\n",
       " 'P_606.png',\n",
       " 'P_607.png',\n",
       " 'P_608.png',\n",
       " 'P_609.png',\n",
       " 'P_610.png',\n",
       " 'P_611.png',\n",
       " 'P_612.png',\n",
       " 'P_613.png',\n",
       " 'P_614.png',\n",
       " 'P_615.png',\n",
       " 'P_616.png',\n",
       " 'P_617.png',\n",
       " 'P_618.png',\n",
       " 'P_619.png',\n",
       " 'P_620.png',\n",
       " 'P_621.png',\n",
       " 'P_622.png',\n",
       " 'P_623.png',\n",
       " 'P_624.png',\n",
       " 'P_625.png',\n",
       " 'P_626.png',\n",
       " 'P_627.png',\n",
       " 'P_628.png',\n",
       " 'P_629.png',\n",
       " 'P_630.png',\n",
       " 'P_631.png',\n",
       " 'P_632.png',\n",
       " 'P_633.png',\n",
       " 'P_634.png',\n",
       " 'P_635.png',\n",
       " 'P_636.png',\n",
       " 'P_637.png',\n",
       " 'P_638.png',\n",
       " 'P_639.png',\n",
       " 'P_640.png',\n",
       " 'P_641.png',\n",
       " 'P_642.png',\n",
       " 'P_643.png',\n",
       " 'P_644.png',\n",
       " 'P_645.png',\n",
       " 'P_646.png',\n",
       " 'P_647.png',\n",
       " 'P_648.png',\n",
       " 'P_649.png',\n",
       " 'P_650.png',\n",
       " 'P_651.png',\n",
       " 'P_652.png',\n",
       " 'P_653.png',\n",
       " 'P_654.png',\n",
       " 'P_655.png',\n",
       " 'P_656.png',\n",
       " 'P_657.png',\n",
       " 'P_658.png',\n",
       " 'P_659.png',\n",
       " 'P_660.png',\n",
       " 'P_661.png',\n",
       " 'P_662.png',\n",
       " 'P_663.png',\n",
       " 'P_664.png',\n",
       " 'P_665.png',\n",
       " 'P_666.png',\n",
       " 'P_667.png',\n",
       " 'P_668.png',\n",
       " 'P_669.png',\n",
       " 'P_670.png',\n",
       " 'P_671.png',\n",
       " 'P_672.png',\n",
       " 'P_673.png',\n",
       " 'P_674.png',\n",
       " 'P_675.png',\n",
       " 'P_676.png',\n",
       " 'P_677.png',\n",
       " 'P_678.png',\n",
       " 'P_679.png',\n",
       " 'P_680.png',\n",
       " 'P_681.png',\n",
       " 'P_682.png',\n",
       " 'P_683.png',\n",
       " 'P_684.png',\n",
       " 'P_685.png',\n",
       " 'P_686.png',\n",
       " 'P_687.png',\n",
       " 'P_688.png',\n",
       " 'P_689.png',\n",
       " 'P_690.png',\n",
       " 'P_691.png',\n",
       " 'P_692.png',\n",
       " 'P_693.png',\n",
       " 'P_694.png',\n",
       " 'P_695.png',\n",
       " 'P_696.png',\n",
       " 'P_697.png',\n",
       " 'P_698.png',\n",
       " 'P_699.png',\n",
       " 'P_700.png',\n",
       " 'P_701.png',\n",
       " 'P_702.png',\n",
       " 'P_703.png',\n",
       " 'P_704.png',\n",
       " 'P_705.png',\n",
       " 'P_706.png',\n",
       " 'P_707.png',\n",
       " 'P_708.png',\n",
       " 'P_709.png',\n",
       " 'P_710.png',\n",
       " 'P_711.png',\n",
       " 'P_712.png',\n",
       " 'P_713.png',\n",
       " 'P_714.png',\n",
       " 'P_715.png',\n",
       " 'P_716.png',\n",
       " 'P_717.png',\n",
       " 'P_718.png',\n",
       " 'P_719.png',\n",
       " 'P_720.png',\n",
       " 'P_721.png',\n",
       " 'P_722.png',\n",
       " 'P_723.png',\n",
       " 'P_724.png',\n",
       " 'P_725.png',\n",
       " 'P_726.png',\n",
       " 'P_727.png',\n",
       " 'P_728.png',\n",
       " 'P_729.png',\n",
       " 'P_730.png',\n",
       " 'P_731.png',\n",
       " 'P_732.png',\n",
       " 'P_733.png',\n",
       " 'P_734.png',\n",
       " 'P_735.png',\n",
       " 'P_736.png',\n",
       " 'P_737.png',\n",
       " 'P_738.png',\n",
       " 'P_739.png',\n",
       " 'P_740.png',\n",
       " 'P_741.png',\n",
       " ...]"
      ]
     },
     "execution_count": 24,
     "metadata": {},
     "output_type": "execute_result"
    }
   ],
   "source": [
    "natsorted(df.ImageFile)"
   ]
  },
  {
   "cell_type": "code",
   "execution_count": 33,
   "metadata": {
    "pycharm": {
     "name": "#%%\n"
    }
   },
   "outputs": [],
   "source": [
    "df_order.to_excel('Train_order.xlsx')"
   ]
  },
  {
   "cell_type": "code",
   "execution_count": null,
   "metadata": {
    "pycharm": {
     "name": "#%%\n"
    }
   },
   "outputs": [],
   "source": []
  },
  {
   "cell_type": "markdown",
   "metadata": {},
   "source": [
    "## 1.1 Image classification"
   ]
  },
  {
   "cell_type": "code",
   "execution_count": 5,
   "metadata": {
    "pycharm": {
     "name": "#%%\n"
    }
   },
   "outputs": [],
   "source": [
    "import albumentations as A\n",
    "from albumentations.pytorch import ToTensorV2\n",
    "from torch.utils.data import Dataset, DataLoader\n",
    "import torch\n",
    "from torchvision.models.resnet import model_urls\n",
    "import torchvision\n"
   ]
  },
  {
   "cell_type": "code",
   "execution_count": 6,
   "metadata": {
    "pycharm": {
     "name": "#%%\n"
    }
   },
   "outputs": [],
   "source": [
    "transf_loader = A.Compose([\n",
    "    A.Resize(224, 224),\n",
    "    ToTensorV2(),\n",
    "    # transforms.Normalize([0.5], [0.5])\n",
    "])\n",
    "\n",
    "def process_im(img, th=150):\n",
    "    if type(img[0, 0]) != np.uint8:\n",
    "        img = np.array((img * 255 / np.max(img)), dtype=np.uint8)\n",
    "\n",
    "    if np.mean(img) <= th:\n",
    "        img = img * -1 + 255\n",
    "\n",
    "    return img\n",
    "\n",
    "class custom_dataset(Dataset):\n",
    "    def __init__(self, root_dir, transform=transf_loader, excel_file=None):\n",
    "        self.dataframe = pd.read_excel(excel_file)\n",
    "        self.root_dir = root_dir\n",
    "        self.transform = transform\n",
    "\n",
    "    def __len__(self):\n",
    "        return self.dataframe.shape[0]\n",
    "\n",
    "    def __getitem__(self, index):\n",
    "        name_image = self.dataframe['ImageFile'][index]\n",
    "        img_name = os.path.join(self.root_dir, name_image)\n",
    "\n",
    "        onehot_label = self.dataframe['Prognosis'].astype('category').cat.codes\n",
    "        onehot_label_float = torch.tensor(onehot_label, dtype=torch.long)\n",
    "        label = onehot_label_float[index]\n",
    "        #print('prova', self.dataframe['Prognosis'][10])\n",
    "        #print(onehot_label_float[10])\n",
    "\n",
    "        img = np.array(Image.open(img_name))  # data augmentation\n",
    "        img = process_im(img)\n",
    "        img = self.transform(image=img)['image']\n",
    "        return img, label, name_image"
   ]
  },
  {
   "cell_type": "code",
   "execution_count": 7,
   "metadata": {
    "pycharm": {
     "name": "#%%\n"
    }
   },
   "outputs": [
    {
     "name": "stdout",
     "output_type": "stream",
     "text": [
      "1103\n"
     ]
    }
   ],
   "source": [
    "dataset = custom_dataset(excel_file=r'Train_order.xlsx',\n",
    "                         root_dir=r'C:\\Users\\Federico Cocchi\\UNIMORE\\3° SEMESTRE\\covid-hackathon\\TrainSet\\TrainSet',\n",
    "                         transform=transf_loader)\n",
    "print(len(dataset))"
   ]
  },
  {
   "cell_type": "code",
   "execution_count": 8,
   "metadata": {
    "pycharm": {
     "name": "#%%\n"
    }
   },
   "outputs": [],
   "source": [
    "eval_loader = DataLoader(dataset, batch_size=32, shuffle=False)"
   ]
  },
  {
   "cell_type": "markdown",
   "metadata": {},
   "source": [
    "Load the model"
   ]
  },
  {
   "cell_type": "code",
   "execution_count": 9,
   "metadata": {
    "pycharm": {
     "name": "#%%\n"
    }
   },
   "outputs": [
    {
     "name": "stdout",
     "output_type": "stream",
     "text": [
      "Load the model\n",
      "2048\n"
     ]
    },
    {
     "data": {
      "text/plain": "ResNet(\n  (conv1): Conv2d(1, 64, kernel_size=(7, 7), stride=(2, 2), padding=(3, 3), bias=False)\n  (bn1): BatchNorm2d(64, eps=1e-05, momentum=0.1, affine=True, track_running_stats=True)\n  (relu): ReLU(inplace=True)\n  (maxpool): MaxPool2d(kernel_size=3, stride=2, padding=1, dilation=1, ceil_mode=False)\n  (layer1): Sequential(\n    (0): Bottleneck(\n      (conv1): Conv2d(64, 64, kernel_size=(1, 1), stride=(1, 1), bias=False)\n      (bn1): BatchNorm2d(64, eps=1e-05, momentum=0.1, affine=True, track_running_stats=True)\n      (conv2): Conv2d(64, 64, kernel_size=(3, 3), stride=(1, 1), padding=(1, 1), bias=False)\n      (bn2): BatchNorm2d(64, eps=1e-05, momentum=0.1, affine=True, track_running_stats=True)\n      (conv3): Conv2d(64, 256, kernel_size=(1, 1), stride=(1, 1), bias=False)\n      (bn3): BatchNorm2d(256, eps=1e-05, momentum=0.1, affine=True, track_running_stats=True)\n      (relu): ReLU(inplace=True)\n      (downsample): Sequential(\n        (0): Conv2d(64, 256, kernel_size=(1, 1), stride=(1, 1), bias=False)\n        (1): BatchNorm2d(256, eps=1e-05, momentum=0.1, affine=True, track_running_stats=True)\n      )\n    )\n    (1): Bottleneck(\n      (conv1): Conv2d(256, 64, kernel_size=(1, 1), stride=(1, 1), bias=False)\n      (bn1): BatchNorm2d(64, eps=1e-05, momentum=0.1, affine=True, track_running_stats=True)\n      (conv2): Conv2d(64, 64, kernel_size=(3, 3), stride=(1, 1), padding=(1, 1), bias=False)\n      (bn2): BatchNorm2d(64, eps=1e-05, momentum=0.1, affine=True, track_running_stats=True)\n      (conv3): Conv2d(64, 256, kernel_size=(1, 1), stride=(1, 1), bias=False)\n      (bn3): BatchNorm2d(256, eps=1e-05, momentum=0.1, affine=True, track_running_stats=True)\n      (relu): ReLU(inplace=True)\n    )\n    (2): Bottleneck(\n      (conv1): Conv2d(256, 64, kernel_size=(1, 1), stride=(1, 1), bias=False)\n      (bn1): BatchNorm2d(64, eps=1e-05, momentum=0.1, affine=True, track_running_stats=True)\n      (conv2): Conv2d(64, 64, kernel_size=(3, 3), stride=(1, 1), padding=(1, 1), bias=False)\n      (bn2): BatchNorm2d(64, eps=1e-05, momentum=0.1, affine=True, track_running_stats=True)\n      (conv3): Conv2d(64, 256, kernel_size=(1, 1), stride=(1, 1), bias=False)\n      (bn3): BatchNorm2d(256, eps=1e-05, momentum=0.1, affine=True, track_running_stats=True)\n      (relu): ReLU(inplace=True)\n    )\n  )\n  (layer2): Sequential(\n    (0): Bottleneck(\n      (conv1): Conv2d(256, 128, kernel_size=(1, 1), stride=(1, 1), bias=False)\n      (bn1): BatchNorm2d(128, eps=1e-05, momentum=0.1, affine=True, track_running_stats=True)\n      (conv2): Conv2d(128, 128, kernel_size=(3, 3), stride=(2, 2), padding=(1, 1), bias=False)\n      (bn2): BatchNorm2d(128, eps=1e-05, momentum=0.1, affine=True, track_running_stats=True)\n      (conv3): Conv2d(128, 512, kernel_size=(1, 1), stride=(1, 1), bias=False)\n      (bn3): BatchNorm2d(512, eps=1e-05, momentum=0.1, affine=True, track_running_stats=True)\n      (relu): ReLU(inplace=True)\n      (downsample): Sequential(\n        (0): Conv2d(256, 512, kernel_size=(1, 1), stride=(2, 2), bias=False)\n        (1): BatchNorm2d(512, eps=1e-05, momentum=0.1, affine=True, track_running_stats=True)\n      )\n    )\n    (1): Bottleneck(\n      (conv1): Conv2d(512, 128, kernel_size=(1, 1), stride=(1, 1), bias=False)\n      (bn1): BatchNorm2d(128, eps=1e-05, momentum=0.1, affine=True, track_running_stats=True)\n      (conv2): Conv2d(128, 128, kernel_size=(3, 3), stride=(1, 1), padding=(1, 1), bias=False)\n      (bn2): BatchNorm2d(128, eps=1e-05, momentum=0.1, affine=True, track_running_stats=True)\n      (conv3): Conv2d(128, 512, kernel_size=(1, 1), stride=(1, 1), bias=False)\n      (bn3): BatchNorm2d(512, eps=1e-05, momentum=0.1, affine=True, track_running_stats=True)\n      (relu): ReLU(inplace=True)\n    )\n    (2): Bottleneck(\n      (conv1): Conv2d(512, 128, kernel_size=(1, 1), stride=(1, 1), bias=False)\n      (bn1): BatchNorm2d(128, eps=1e-05, momentum=0.1, affine=True, track_running_stats=True)\n      (conv2): Conv2d(128, 128, kernel_size=(3, 3), stride=(1, 1), padding=(1, 1), bias=False)\n      (bn2): BatchNorm2d(128, eps=1e-05, momentum=0.1, affine=True, track_running_stats=True)\n      (conv3): Conv2d(128, 512, kernel_size=(1, 1), stride=(1, 1), bias=False)\n      (bn3): BatchNorm2d(512, eps=1e-05, momentum=0.1, affine=True, track_running_stats=True)\n      (relu): ReLU(inplace=True)\n    )\n    (3): Bottleneck(\n      (conv1): Conv2d(512, 128, kernel_size=(1, 1), stride=(1, 1), bias=False)\n      (bn1): BatchNorm2d(128, eps=1e-05, momentum=0.1, affine=True, track_running_stats=True)\n      (conv2): Conv2d(128, 128, kernel_size=(3, 3), stride=(1, 1), padding=(1, 1), bias=False)\n      (bn2): BatchNorm2d(128, eps=1e-05, momentum=0.1, affine=True, track_running_stats=True)\n      (conv3): Conv2d(128, 512, kernel_size=(1, 1), stride=(1, 1), bias=False)\n      (bn3): BatchNorm2d(512, eps=1e-05, momentum=0.1, affine=True, track_running_stats=True)\n      (relu): ReLU(inplace=True)\n    )\n  )\n  (layer3): Sequential(\n    (0): Bottleneck(\n      (conv1): Conv2d(512, 256, kernel_size=(1, 1), stride=(1, 1), bias=False)\n      (bn1): BatchNorm2d(256, eps=1e-05, momentum=0.1, affine=True, track_running_stats=True)\n      (conv2): Conv2d(256, 256, kernel_size=(3, 3), stride=(2, 2), padding=(1, 1), bias=False)\n      (bn2): BatchNorm2d(256, eps=1e-05, momentum=0.1, affine=True, track_running_stats=True)\n      (conv3): Conv2d(256, 1024, kernel_size=(1, 1), stride=(1, 1), bias=False)\n      (bn3): BatchNorm2d(1024, eps=1e-05, momentum=0.1, affine=True, track_running_stats=True)\n      (relu): ReLU(inplace=True)\n      (downsample): Sequential(\n        (0): Conv2d(512, 1024, kernel_size=(1, 1), stride=(2, 2), bias=False)\n        (1): BatchNorm2d(1024, eps=1e-05, momentum=0.1, affine=True, track_running_stats=True)\n      )\n    )\n    (1): Bottleneck(\n      (conv1): Conv2d(1024, 256, kernel_size=(1, 1), stride=(1, 1), bias=False)\n      (bn1): BatchNorm2d(256, eps=1e-05, momentum=0.1, affine=True, track_running_stats=True)\n      (conv2): Conv2d(256, 256, kernel_size=(3, 3), stride=(1, 1), padding=(1, 1), bias=False)\n      (bn2): BatchNorm2d(256, eps=1e-05, momentum=0.1, affine=True, track_running_stats=True)\n      (conv3): Conv2d(256, 1024, kernel_size=(1, 1), stride=(1, 1), bias=False)\n      (bn3): BatchNorm2d(1024, eps=1e-05, momentum=0.1, affine=True, track_running_stats=True)\n      (relu): ReLU(inplace=True)\n    )\n    (2): Bottleneck(\n      (conv1): Conv2d(1024, 256, kernel_size=(1, 1), stride=(1, 1), bias=False)\n      (bn1): BatchNorm2d(256, eps=1e-05, momentum=0.1, affine=True, track_running_stats=True)\n      (conv2): Conv2d(256, 256, kernel_size=(3, 3), stride=(1, 1), padding=(1, 1), bias=False)\n      (bn2): BatchNorm2d(256, eps=1e-05, momentum=0.1, affine=True, track_running_stats=True)\n      (conv3): Conv2d(256, 1024, kernel_size=(1, 1), stride=(1, 1), bias=False)\n      (bn3): BatchNorm2d(1024, eps=1e-05, momentum=0.1, affine=True, track_running_stats=True)\n      (relu): ReLU(inplace=True)\n    )\n    (3): Bottleneck(\n      (conv1): Conv2d(1024, 256, kernel_size=(1, 1), stride=(1, 1), bias=False)\n      (bn1): BatchNorm2d(256, eps=1e-05, momentum=0.1, affine=True, track_running_stats=True)\n      (conv2): Conv2d(256, 256, kernel_size=(3, 3), stride=(1, 1), padding=(1, 1), bias=False)\n      (bn2): BatchNorm2d(256, eps=1e-05, momentum=0.1, affine=True, track_running_stats=True)\n      (conv3): Conv2d(256, 1024, kernel_size=(1, 1), stride=(1, 1), bias=False)\n      (bn3): BatchNorm2d(1024, eps=1e-05, momentum=0.1, affine=True, track_running_stats=True)\n      (relu): ReLU(inplace=True)\n    )\n    (4): Bottleneck(\n      (conv1): Conv2d(1024, 256, kernel_size=(1, 1), stride=(1, 1), bias=False)\n      (bn1): BatchNorm2d(256, eps=1e-05, momentum=0.1, affine=True, track_running_stats=True)\n      (conv2): Conv2d(256, 256, kernel_size=(3, 3), stride=(1, 1), padding=(1, 1), bias=False)\n      (bn2): BatchNorm2d(256, eps=1e-05, momentum=0.1, affine=True, track_running_stats=True)\n      (conv3): Conv2d(256, 1024, kernel_size=(1, 1), stride=(1, 1), bias=False)\n      (bn3): BatchNorm2d(1024, eps=1e-05, momentum=0.1, affine=True, track_running_stats=True)\n      (relu): ReLU(inplace=True)\n    )\n    (5): Bottleneck(\n      (conv1): Conv2d(1024, 256, kernel_size=(1, 1), stride=(1, 1), bias=False)\n      (bn1): BatchNorm2d(256, eps=1e-05, momentum=0.1, affine=True, track_running_stats=True)\n      (conv2): Conv2d(256, 256, kernel_size=(3, 3), stride=(1, 1), padding=(1, 1), bias=False)\n      (bn2): BatchNorm2d(256, eps=1e-05, momentum=0.1, affine=True, track_running_stats=True)\n      (conv3): Conv2d(256, 1024, kernel_size=(1, 1), stride=(1, 1), bias=False)\n      (bn3): BatchNorm2d(1024, eps=1e-05, momentum=0.1, affine=True, track_running_stats=True)\n      (relu): ReLU(inplace=True)\n    )\n    (6): Bottleneck(\n      (conv1): Conv2d(1024, 256, kernel_size=(1, 1), stride=(1, 1), bias=False)\n      (bn1): BatchNorm2d(256, eps=1e-05, momentum=0.1, affine=True, track_running_stats=True)\n      (conv2): Conv2d(256, 256, kernel_size=(3, 3), stride=(1, 1), padding=(1, 1), bias=False)\n      (bn2): BatchNorm2d(256, eps=1e-05, momentum=0.1, affine=True, track_running_stats=True)\n      (conv3): Conv2d(256, 1024, kernel_size=(1, 1), stride=(1, 1), bias=False)\n      (bn3): BatchNorm2d(1024, eps=1e-05, momentum=0.1, affine=True, track_running_stats=True)\n      (relu): ReLU(inplace=True)\n    )\n    (7): Bottleneck(\n      (conv1): Conv2d(1024, 256, kernel_size=(1, 1), stride=(1, 1), bias=False)\n      (bn1): BatchNorm2d(256, eps=1e-05, momentum=0.1, affine=True, track_running_stats=True)\n      (conv2): Conv2d(256, 256, kernel_size=(3, 3), stride=(1, 1), padding=(1, 1), bias=False)\n      (bn2): BatchNorm2d(256, eps=1e-05, momentum=0.1, affine=True, track_running_stats=True)\n      (conv3): Conv2d(256, 1024, kernel_size=(1, 1), stride=(1, 1), bias=False)\n      (bn3): BatchNorm2d(1024, eps=1e-05, momentum=0.1, affine=True, track_running_stats=True)\n      (relu): ReLU(inplace=True)\n    )\n    (8): Bottleneck(\n      (conv1): Conv2d(1024, 256, kernel_size=(1, 1), stride=(1, 1), bias=False)\n      (bn1): BatchNorm2d(256, eps=1e-05, momentum=0.1, affine=True, track_running_stats=True)\n      (conv2): Conv2d(256, 256, kernel_size=(3, 3), stride=(1, 1), padding=(1, 1), bias=False)\n      (bn2): BatchNorm2d(256, eps=1e-05, momentum=0.1, affine=True, track_running_stats=True)\n      (conv3): Conv2d(256, 1024, kernel_size=(1, 1), stride=(1, 1), bias=False)\n      (bn3): BatchNorm2d(1024, eps=1e-05, momentum=0.1, affine=True, track_running_stats=True)\n      (relu): ReLU(inplace=True)\n    )\n    (9): Bottleneck(\n      (conv1): Conv2d(1024, 256, kernel_size=(1, 1), stride=(1, 1), bias=False)\n      (bn1): BatchNorm2d(256, eps=1e-05, momentum=0.1, affine=True, track_running_stats=True)\n      (conv2): Conv2d(256, 256, kernel_size=(3, 3), stride=(1, 1), padding=(1, 1), bias=False)\n      (bn2): BatchNorm2d(256, eps=1e-05, momentum=0.1, affine=True, track_running_stats=True)\n      (conv3): Conv2d(256, 1024, kernel_size=(1, 1), stride=(1, 1), bias=False)\n      (bn3): BatchNorm2d(1024, eps=1e-05, momentum=0.1, affine=True, track_running_stats=True)\n      (relu): ReLU(inplace=True)\n    )\n    (10): Bottleneck(\n      (conv1): Conv2d(1024, 256, kernel_size=(1, 1), stride=(1, 1), bias=False)\n      (bn1): BatchNorm2d(256, eps=1e-05, momentum=0.1, affine=True, track_running_stats=True)\n      (conv2): Conv2d(256, 256, kernel_size=(3, 3), stride=(1, 1), padding=(1, 1), bias=False)\n      (bn2): BatchNorm2d(256, eps=1e-05, momentum=0.1, affine=True, track_running_stats=True)\n      (conv3): Conv2d(256, 1024, kernel_size=(1, 1), stride=(1, 1), bias=False)\n      (bn3): BatchNorm2d(1024, eps=1e-05, momentum=0.1, affine=True, track_running_stats=True)\n      (relu): ReLU(inplace=True)\n    )\n    (11): Bottleneck(\n      (conv1): Conv2d(1024, 256, kernel_size=(1, 1), stride=(1, 1), bias=False)\n      (bn1): BatchNorm2d(256, eps=1e-05, momentum=0.1, affine=True, track_running_stats=True)\n      (conv2): Conv2d(256, 256, kernel_size=(3, 3), stride=(1, 1), padding=(1, 1), bias=False)\n      (bn2): BatchNorm2d(256, eps=1e-05, momentum=0.1, affine=True, track_running_stats=True)\n      (conv3): Conv2d(256, 1024, kernel_size=(1, 1), stride=(1, 1), bias=False)\n      (bn3): BatchNorm2d(1024, eps=1e-05, momentum=0.1, affine=True, track_running_stats=True)\n      (relu): ReLU(inplace=True)\n    )\n    (12): Bottleneck(\n      (conv1): Conv2d(1024, 256, kernel_size=(1, 1), stride=(1, 1), bias=False)\n      (bn1): BatchNorm2d(256, eps=1e-05, momentum=0.1, affine=True, track_running_stats=True)\n      (conv2): Conv2d(256, 256, kernel_size=(3, 3), stride=(1, 1), padding=(1, 1), bias=False)\n      (bn2): BatchNorm2d(256, eps=1e-05, momentum=0.1, affine=True, track_running_stats=True)\n      (conv3): Conv2d(256, 1024, kernel_size=(1, 1), stride=(1, 1), bias=False)\n      (bn3): BatchNorm2d(1024, eps=1e-05, momentum=0.1, affine=True, track_running_stats=True)\n      (relu): ReLU(inplace=True)\n    )\n    (13): Bottleneck(\n      (conv1): Conv2d(1024, 256, kernel_size=(1, 1), stride=(1, 1), bias=False)\n      (bn1): BatchNorm2d(256, eps=1e-05, momentum=0.1, affine=True, track_running_stats=True)\n      (conv2): Conv2d(256, 256, kernel_size=(3, 3), stride=(1, 1), padding=(1, 1), bias=False)\n      (bn2): BatchNorm2d(256, eps=1e-05, momentum=0.1, affine=True, track_running_stats=True)\n      (conv3): Conv2d(256, 1024, kernel_size=(1, 1), stride=(1, 1), bias=False)\n      (bn3): BatchNorm2d(1024, eps=1e-05, momentum=0.1, affine=True, track_running_stats=True)\n      (relu): ReLU(inplace=True)\n    )\n    (14): Bottleneck(\n      (conv1): Conv2d(1024, 256, kernel_size=(1, 1), stride=(1, 1), bias=False)\n      (bn1): BatchNorm2d(256, eps=1e-05, momentum=0.1, affine=True, track_running_stats=True)\n      (conv2): Conv2d(256, 256, kernel_size=(3, 3), stride=(1, 1), padding=(1, 1), bias=False)\n      (bn2): BatchNorm2d(256, eps=1e-05, momentum=0.1, affine=True, track_running_stats=True)\n      (conv3): Conv2d(256, 1024, kernel_size=(1, 1), stride=(1, 1), bias=False)\n      (bn3): BatchNorm2d(1024, eps=1e-05, momentum=0.1, affine=True, track_running_stats=True)\n      (relu): ReLU(inplace=True)\n    )\n    (15): Bottleneck(\n      (conv1): Conv2d(1024, 256, kernel_size=(1, 1), stride=(1, 1), bias=False)\n      (bn1): BatchNorm2d(256, eps=1e-05, momentum=0.1, affine=True, track_running_stats=True)\n      (conv2): Conv2d(256, 256, kernel_size=(3, 3), stride=(1, 1), padding=(1, 1), bias=False)\n      (bn2): BatchNorm2d(256, eps=1e-05, momentum=0.1, affine=True, track_running_stats=True)\n      (conv3): Conv2d(256, 1024, kernel_size=(1, 1), stride=(1, 1), bias=False)\n      (bn3): BatchNorm2d(1024, eps=1e-05, momentum=0.1, affine=True, track_running_stats=True)\n      (relu): ReLU(inplace=True)\n    )\n    (16): Bottleneck(\n      (conv1): Conv2d(1024, 256, kernel_size=(1, 1), stride=(1, 1), bias=False)\n      (bn1): BatchNorm2d(256, eps=1e-05, momentum=0.1, affine=True, track_running_stats=True)\n      (conv2): Conv2d(256, 256, kernel_size=(3, 3), stride=(1, 1), padding=(1, 1), bias=False)\n      (bn2): BatchNorm2d(256, eps=1e-05, momentum=0.1, affine=True, track_running_stats=True)\n      (conv3): Conv2d(256, 1024, kernel_size=(1, 1), stride=(1, 1), bias=False)\n      (bn3): BatchNorm2d(1024, eps=1e-05, momentum=0.1, affine=True, track_running_stats=True)\n      (relu): ReLU(inplace=True)\n    )\n    (17): Bottleneck(\n      (conv1): Conv2d(1024, 256, kernel_size=(1, 1), stride=(1, 1), bias=False)\n      (bn1): BatchNorm2d(256, eps=1e-05, momentum=0.1, affine=True, track_running_stats=True)\n      (conv2): Conv2d(256, 256, kernel_size=(3, 3), stride=(1, 1), padding=(1, 1), bias=False)\n      (bn2): BatchNorm2d(256, eps=1e-05, momentum=0.1, affine=True, track_running_stats=True)\n      (conv3): Conv2d(256, 1024, kernel_size=(1, 1), stride=(1, 1), bias=False)\n      (bn3): BatchNorm2d(1024, eps=1e-05, momentum=0.1, affine=True, track_running_stats=True)\n      (relu): ReLU(inplace=True)\n    )\n    (18): Bottleneck(\n      (conv1): Conv2d(1024, 256, kernel_size=(1, 1), stride=(1, 1), bias=False)\n      (bn1): BatchNorm2d(256, eps=1e-05, momentum=0.1, affine=True, track_running_stats=True)\n      (conv2): Conv2d(256, 256, kernel_size=(3, 3), stride=(1, 1), padding=(1, 1), bias=False)\n      (bn2): BatchNorm2d(256, eps=1e-05, momentum=0.1, affine=True, track_running_stats=True)\n      (conv3): Conv2d(256, 1024, kernel_size=(1, 1), stride=(1, 1), bias=False)\n      (bn3): BatchNorm2d(1024, eps=1e-05, momentum=0.1, affine=True, track_running_stats=True)\n      (relu): ReLU(inplace=True)\n    )\n    (19): Bottleneck(\n      (conv1): Conv2d(1024, 256, kernel_size=(1, 1), stride=(1, 1), bias=False)\n      (bn1): BatchNorm2d(256, eps=1e-05, momentum=0.1, affine=True, track_running_stats=True)\n      (conv2): Conv2d(256, 256, kernel_size=(3, 3), stride=(1, 1), padding=(1, 1), bias=False)\n      (bn2): BatchNorm2d(256, eps=1e-05, momentum=0.1, affine=True, track_running_stats=True)\n      (conv3): Conv2d(256, 1024, kernel_size=(1, 1), stride=(1, 1), bias=False)\n      (bn3): BatchNorm2d(1024, eps=1e-05, momentum=0.1, affine=True, track_running_stats=True)\n      (relu): ReLU(inplace=True)\n    )\n    (20): Bottleneck(\n      (conv1): Conv2d(1024, 256, kernel_size=(1, 1), stride=(1, 1), bias=False)\n      (bn1): BatchNorm2d(256, eps=1e-05, momentum=0.1, affine=True, track_running_stats=True)\n      (conv2): Conv2d(256, 256, kernel_size=(3, 3), stride=(1, 1), padding=(1, 1), bias=False)\n      (bn2): BatchNorm2d(256, eps=1e-05, momentum=0.1, affine=True, track_running_stats=True)\n      (conv3): Conv2d(256, 1024, kernel_size=(1, 1), stride=(1, 1), bias=False)\n      (bn3): BatchNorm2d(1024, eps=1e-05, momentum=0.1, affine=True, track_running_stats=True)\n      (relu): ReLU(inplace=True)\n    )\n    (21): Bottleneck(\n      (conv1): Conv2d(1024, 256, kernel_size=(1, 1), stride=(1, 1), bias=False)\n      (bn1): BatchNorm2d(256, eps=1e-05, momentum=0.1, affine=True, track_running_stats=True)\n      (conv2): Conv2d(256, 256, kernel_size=(3, 3), stride=(1, 1), padding=(1, 1), bias=False)\n      (bn2): BatchNorm2d(256, eps=1e-05, momentum=0.1, affine=True, track_running_stats=True)\n      (conv3): Conv2d(256, 1024, kernel_size=(1, 1), stride=(1, 1), bias=False)\n      (bn3): BatchNorm2d(1024, eps=1e-05, momentum=0.1, affine=True, track_running_stats=True)\n      (relu): ReLU(inplace=True)\n    )\n    (22): Bottleneck(\n      (conv1): Conv2d(1024, 256, kernel_size=(1, 1), stride=(1, 1), bias=False)\n      (bn1): BatchNorm2d(256, eps=1e-05, momentum=0.1, affine=True, track_running_stats=True)\n      (conv2): Conv2d(256, 256, kernel_size=(3, 3), stride=(1, 1), padding=(1, 1), bias=False)\n      (bn2): BatchNorm2d(256, eps=1e-05, momentum=0.1, affine=True, track_running_stats=True)\n      (conv3): Conv2d(256, 1024, kernel_size=(1, 1), stride=(1, 1), bias=False)\n      (bn3): BatchNorm2d(1024, eps=1e-05, momentum=0.1, affine=True, track_running_stats=True)\n      (relu): ReLU(inplace=True)\n    )\n  )\n  (layer4): Sequential(\n    (0): Bottleneck(\n      (conv1): Conv2d(1024, 512, kernel_size=(1, 1), stride=(1, 1), bias=False)\n      (bn1): BatchNorm2d(512, eps=1e-05, momentum=0.1, affine=True, track_running_stats=True)\n      (conv2): Conv2d(512, 512, kernel_size=(3, 3), stride=(2, 2), padding=(1, 1), bias=False)\n      (bn2): BatchNorm2d(512, eps=1e-05, momentum=0.1, affine=True, track_running_stats=True)\n      (conv3): Conv2d(512, 2048, kernel_size=(1, 1), stride=(1, 1), bias=False)\n      (bn3): BatchNorm2d(2048, eps=1e-05, momentum=0.1, affine=True, track_running_stats=True)\n      (relu): ReLU(inplace=True)\n      (downsample): Sequential(\n        (0): Conv2d(1024, 2048, kernel_size=(1, 1), stride=(2, 2), bias=False)\n        (1): BatchNorm2d(2048, eps=1e-05, momentum=0.1, affine=True, track_running_stats=True)\n      )\n    )\n    (1): Bottleneck(\n      (conv1): Conv2d(2048, 512, kernel_size=(1, 1), stride=(1, 1), bias=False)\n      (bn1): BatchNorm2d(512, eps=1e-05, momentum=0.1, affine=True, track_running_stats=True)\n      (conv2): Conv2d(512, 512, kernel_size=(3, 3), stride=(1, 1), padding=(1, 1), bias=False)\n      (bn2): BatchNorm2d(512, eps=1e-05, momentum=0.1, affine=True, track_running_stats=True)\n      (conv3): Conv2d(512, 2048, kernel_size=(1, 1), stride=(1, 1), bias=False)\n      (bn3): BatchNorm2d(2048, eps=1e-05, momentum=0.1, affine=True, track_running_stats=True)\n      (relu): ReLU(inplace=True)\n    )\n    (2): Bottleneck(\n      (conv1): Conv2d(2048, 512, kernel_size=(1, 1), stride=(1, 1), bias=False)\n      (bn1): BatchNorm2d(512, eps=1e-05, momentum=0.1, affine=True, track_running_stats=True)\n      (conv2): Conv2d(512, 512, kernel_size=(3, 3), stride=(1, 1), padding=(1, 1), bias=False)\n      (bn2): BatchNorm2d(512, eps=1e-05, momentum=0.1, affine=True, track_running_stats=True)\n      (conv3): Conv2d(512, 2048, kernel_size=(1, 1), stride=(1, 1), bias=False)\n      (bn3): BatchNorm2d(2048, eps=1e-05, momentum=0.1, affine=True, track_running_stats=True)\n      (relu): ReLU(inplace=True)\n    )\n  )\n  (avgpool): AdaptiveAvgPool2d(output_size=(1, 1))\n  (fc): Linear(in_features=2048, out_features=1, bias=True)\n)"
     },
     "execution_count": 9,
     "metadata": {},
     "output_type": "execute_result"
    }
   ],
   "source": [
    "print('Load the model')\n",
    "model_urls['resnet101'] = model_urls['resnet101'].replace('https://', 'http://')\n",
    "model = torchvision.models.resnet101(pretrained=True)\n",
    "model.conv1 = torch.nn.Conv2d(1, 64, kernel_size=(7, 7), stride=(2, 2), padding=(3, 3),\n",
    "                              bias=False)  # 1 channel in input image\n",
    "num = model.fc.in_features  # 512\n",
    "model.fc = torch.nn.Linear(num, 1)\n",
    "\n",
    "print(num)\n",
    "# summary(model, (1,224,224))\n",
    "\n",
    "device = 'cuda' if torch.cuda.is_available() else 'cpu'\n",
    "model.to(device)"
   ]
  },
  {
   "cell_type": "markdown",
   "metadata": {},
   "source": [
    "Load the weights"
   ]
  },
  {
   "cell_type": "code",
   "execution_count": 10,
   "metadata": {
    "pycharm": {
     "name": "#%%\n"
    }
   },
   "outputs": [
    {
     "data": {
      "text/plain": "<All keys matched successfully>"
     },
     "execution_count": 10,
     "metadata": {},
     "output_type": "execute_result"
    }
   ],
   "source": [
    "model.load_state_dict(torch.load('model.pth', map_location= device))"
   ]
  },
  {
   "cell_type": "markdown",
   "source": [
    "Evaluation"
   ],
   "metadata": {
    "collapsed": false
   }
  },
  {
   "cell_type": "code",
   "execution_count": 17,
   "metadata": {
    "pycharm": {
     "name": "#%%\n"
    }
   },
   "outputs": [],
   "source": [
    "correct = 0\n",
    "total = 0\n",
    "y_true= []\n",
    "y_pred= []\n",
    "image_names= []\n",
    "\n",
    "with torch.no_grad():\n",
    "    model.eval()\n",
    "    for data in eval_loader:\n",
    "        images, labels, names = data\n",
    "        outputs = model(images.float())\n",
    "\n",
    "        # provato ad applicare anche il softmax --> stesso risultato\n",
    "        predicted_soft= torch.where(torch.sigmoid(outputs)>0.5, 1, 0)\n",
    "\n",
    "        predicted = torch.where(outputs>0.5, 1, 0)\n",
    "        total += labels.size(0)\n",
    "        correct += (predicted.squeeze() == labels).sum().item()\n",
    "\n",
    "        for i in range(labels.size(0)):\n",
    "            y_true.append(labels[i])\n",
    "            y_pred.append(predicted.squeeze()[i].item())\n",
    "            image_names.append(names[i])"
   ]
  },
  {
   "cell_type": "code",
   "execution_count": 18,
   "outputs": [
    {
     "name": "stdout",
     "output_type": "stream",
     "text": [
      "Dimension 1103\n",
      "accuracy: 95%\n"
     ]
    }
   ],
   "source": [
    "print('Dimension', total)\n",
    "print('accuracy: %d' % (100 * correct // total) + '%')"
   ],
   "metadata": {
    "collapsed": false,
    "pycharm": {
     "name": "#%%\n"
    }
   }
  },
  {
   "cell_type": "code",
   "execution_count": 19,
   "metadata": {
    "pycharm": {
     "name": "#%%\n"
    }
   },
   "outputs": [
    {
     "data": {
      "text/plain": "  image_name  pred_class\n0    P_1.png           0\n1  P_1_1.png           0\n2  P_1_2.png           0\n3  P_1_3.png           1\n4  P_1_4.png           1\n5  P_1_5.png           0\n6  P_1_6.png           1\n7  P_1_7.png           0\n8  P_1_8.png           0\n9  P_1_9.png           0",
      "text/html": "<div>\n<style scoped>\n    .dataframe tbody tr th:only-of-type {\n        vertical-align: middle;\n    }\n\n    .dataframe tbody tr th {\n        vertical-align: top;\n    }\n\n    .dataframe thead th {\n        text-align: right;\n    }\n</style>\n<table border=\"1\" class=\"dataframe\">\n  <thead>\n    <tr style=\"text-align: right;\">\n      <th></th>\n      <th>image_name</th>\n      <th>pred_class</th>\n    </tr>\n  </thead>\n  <tbody>\n    <tr>\n      <th>0</th>\n      <td>P_1.png</td>\n      <td>0</td>\n    </tr>\n    <tr>\n      <th>1</th>\n      <td>P_1_1.png</td>\n      <td>0</td>\n    </tr>\n    <tr>\n      <th>2</th>\n      <td>P_1_2.png</td>\n      <td>0</td>\n    </tr>\n    <tr>\n      <th>3</th>\n      <td>P_1_3.png</td>\n      <td>1</td>\n    </tr>\n    <tr>\n      <th>4</th>\n      <td>P_1_4.png</td>\n      <td>1</td>\n    </tr>\n    <tr>\n      <th>5</th>\n      <td>P_1_5.png</td>\n      <td>0</td>\n    </tr>\n    <tr>\n      <th>6</th>\n      <td>P_1_6.png</td>\n      <td>1</td>\n    </tr>\n    <tr>\n      <th>7</th>\n      <td>P_1_7.png</td>\n      <td>0</td>\n    </tr>\n    <tr>\n      <th>8</th>\n      <td>P_1_8.png</td>\n      <td>0</td>\n    </tr>\n    <tr>\n      <th>9</th>\n      <td>P_1_9.png</td>\n      <td>0</td>\n    </tr>\n  </tbody>\n</table>\n</div>"
     },
     "execution_count": 19,
     "metadata": {},
     "output_type": "execute_result"
    }
   ],
   "source": [
    "df_mom = pd.DataFrame(list(zip(image_names, y_pred)), columns=['image_name', 'pred_class'])\n",
    "df_mom.head(10)"
   ]
  },
  {
   "cell_type": "code",
   "execution_count": 24,
   "metadata": {
    "pycharm": {
     "name": "#%%\n"
    }
   },
   "outputs": [
    {
     "data": {
      "text/plain": "   Row_number  ImageFile Hospital   Age  Sex  PositivityAtAdmission  Temp_C  \\\n0           1    P_1.png        A  38.0    0                    1.0    36.0   \n1         900  P_1_1.png        F  96.0    0                    1.0    36.0   \n2         901  P_1_2.png        F  62.0    1                    1.0     NaN   \n3         902  P_1_3.png        F  57.0    1                    1.0    39.0   \n4         903  P_1_4.png        F  41.0    1                    1.0     NaN   \n\n   DaysFever  Cough  DifficultyInBreathing  ...  Dementia  BPCO  Cancer  \\\n0        4.0    1.0                    0.0  ...       0.0   0.0     0.0   \n1        1.0    0.0                    0.0  ...       1.0   0.0     0.0   \n2        4.0    1.0                    0.0  ...       0.0   0.0     0.0   \n3        2.0    0.0                    0.0  ...       0.0   0.0     0.0   \n4        NaN    0.0                    0.0  ...       0.0   0.0     0.0   \n\n   ChronicKidneyDisease  RespiratoryFailure  Obesity  Position  Prognosis  \\\n0                   0.0                 0.0      0.0       1.0       MILD   \n1                   0.0                 0.0      NaN       1.0       MILD   \n2                   1.0                 0.0      NaN       1.0       MILD   \n3                   1.0                 0.0      NaN       1.0     SEVERE   \n4                   0.0                 0.0      NaN       1.0     SEVERE   \n\n   Death  pred_class  \n0      0           0  \n1      0           0  \n2      0           0  \n3      0           1  \n4      0           1  \n\n[5 rows x 41 columns]",
      "text/html": "<div>\n<style scoped>\n    .dataframe tbody tr th:only-of-type {\n        vertical-align: middle;\n    }\n\n    .dataframe tbody tr th {\n        vertical-align: top;\n    }\n\n    .dataframe thead th {\n        text-align: right;\n    }\n</style>\n<table border=\"1\" class=\"dataframe\">\n  <thead>\n    <tr style=\"text-align: right;\">\n      <th></th>\n      <th>Row_number</th>\n      <th>ImageFile</th>\n      <th>Hospital</th>\n      <th>Age</th>\n      <th>Sex</th>\n      <th>PositivityAtAdmission</th>\n      <th>Temp_C</th>\n      <th>DaysFever</th>\n      <th>Cough</th>\n      <th>DifficultyInBreathing</th>\n      <th>...</th>\n      <th>Dementia</th>\n      <th>BPCO</th>\n      <th>Cancer</th>\n      <th>ChronicKidneyDisease</th>\n      <th>RespiratoryFailure</th>\n      <th>Obesity</th>\n      <th>Position</th>\n      <th>Prognosis</th>\n      <th>Death</th>\n      <th>pred_class</th>\n    </tr>\n  </thead>\n  <tbody>\n    <tr>\n      <th>0</th>\n      <td>1</td>\n      <td>P_1.png</td>\n      <td>A</td>\n      <td>38.0</td>\n      <td>0</td>\n      <td>1.0</td>\n      <td>36.0</td>\n      <td>4.0</td>\n      <td>1.0</td>\n      <td>0.0</td>\n      <td>...</td>\n      <td>0.0</td>\n      <td>0.0</td>\n      <td>0.0</td>\n      <td>0.0</td>\n      <td>0.0</td>\n      <td>0.0</td>\n      <td>1.0</td>\n      <td>MILD</td>\n      <td>0</td>\n      <td>0</td>\n    </tr>\n    <tr>\n      <th>1</th>\n      <td>900</td>\n      <td>P_1_1.png</td>\n      <td>F</td>\n      <td>96.0</td>\n      <td>0</td>\n      <td>1.0</td>\n      <td>36.0</td>\n      <td>1.0</td>\n      <td>0.0</td>\n      <td>0.0</td>\n      <td>...</td>\n      <td>1.0</td>\n      <td>0.0</td>\n      <td>0.0</td>\n      <td>0.0</td>\n      <td>0.0</td>\n      <td>NaN</td>\n      <td>1.0</td>\n      <td>MILD</td>\n      <td>0</td>\n      <td>0</td>\n    </tr>\n    <tr>\n      <th>2</th>\n      <td>901</td>\n      <td>P_1_2.png</td>\n      <td>F</td>\n      <td>62.0</td>\n      <td>1</td>\n      <td>1.0</td>\n      <td>NaN</td>\n      <td>4.0</td>\n      <td>1.0</td>\n      <td>0.0</td>\n      <td>...</td>\n      <td>0.0</td>\n      <td>0.0</td>\n      <td>0.0</td>\n      <td>1.0</td>\n      <td>0.0</td>\n      <td>NaN</td>\n      <td>1.0</td>\n      <td>MILD</td>\n      <td>0</td>\n      <td>0</td>\n    </tr>\n    <tr>\n      <th>3</th>\n      <td>902</td>\n      <td>P_1_3.png</td>\n      <td>F</td>\n      <td>57.0</td>\n      <td>1</td>\n      <td>1.0</td>\n      <td>39.0</td>\n      <td>2.0</td>\n      <td>0.0</td>\n      <td>0.0</td>\n      <td>...</td>\n      <td>0.0</td>\n      <td>0.0</td>\n      <td>0.0</td>\n      <td>1.0</td>\n      <td>0.0</td>\n      <td>NaN</td>\n      <td>1.0</td>\n      <td>SEVERE</td>\n      <td>0</td>\n      <td>1</td>\n    </tr>\n    <tr>\n      <th>4</th>\n      <td>903</td>\n      <td>P_1_4.png</td>\n      <td>F</td>\n      <td>41.0</td>\n      <td>1</td>\n      <td>1.0</td>\n      <td>NaN</td>\n      <td>NaN</td>\n      <td>0.0</td>\n      <td>0.0</td>\n      <td>...</td>\n      <td>0.0</td>\n      <td>0.0</td>\n      <td>0.0</td>\n      <td>0.0</td>\n      <td>0.0</td>\n      <td>NaN</td>\n      <td>1.0</td>\n      <td>SEVERE</td>\n      <td>0</td>\n      <td>1</td>\n    </tr>\n  </tbody>\n</table>\n<p>5 rows × 41 columns</p>\n</div>"
     },
     "execution_count": 24,
     "metadata": {},
     "output_type": "execute_result"
    }
   ],
   "source": [
    "df_order.head()"
   ]
  },
  {
   "cell_type": "code",
   "execution_count": 21,
   "metadata": {
    "pycharm": {
     "name": "#%%\n"
    }
   },
   "outputs": [],
   "source": [
    "df_order['pred_class']= df_mom.pred_class"
   ]
  },
  {
   "cell_type": "code",
   "execution_count": 23,
   "outputs": [],
   "source": [
    "df_order.to_excel('Train_order_imagEval.xlsx')"
   ],
   "metadata": {
    "collapsed": false,
    "pycharm": {
     "name": "#%%\n"
    }
   }
  },
  {
   "cell_type": "code",
   "execution_count": null,
   "outputs": [],
   "source": [],
   "metadata": {
    "collapsed": false,
    "pycharm": {
     "name": "#%%\n"
    }
   }
  },
  {
   "cell_type": "markdown",
   "source": [
    "### Load the csv with data"
   ],
   "metadata": {
    "collapsed": false
   }
  },
  {
   "cell_type": "code",
   "execution_count": 19,
   "outputs": [
    {
     "name": "stdout",
     "output_type": "stream",
     "text": [
      "(1103, 41)\n"
     ]
    },
    {
     "data": {
      "text/plain": "   Row_number  ImageFile Hospital   Age  Sex  PositivityAtAdmission  Temp_C  \\\n0           1    P_1.png        A  38.0    0                    1.0    36.0   \n1         900  P_1_1.png        F  96.0    0                    1.0    36.0   \n2         901  P_1_2.png        F  62.0    1                    1.0     NaN   \n3         902  P_1_3.png        F  57.0    1                    1.0    39.0   \n4         903  P_1_4.png        F  41.0    1                    1.0     NaN   \n\n   DaysFever  Cough  DifficultyInBreathing  ...  Dementia  BPCO  Cancer  \\\n0        4.0    1.0                    0.0  ...       0.0   0.0     0.0   \n1        1.0    0.0                    0.0  ...       1.0   0.0     0.0   \n2        4.0    1.0                    0.0  ...       0.0   0.0     0.0   \n3        2.0    0.0                    0.0  ...       0.0   0.0     0.0   \n4        NaN    0.0                    0.0  ...       0.0   0.0     0.0   \n\n   ChronicKidneyDisease  RespiratoryFailure  Obesity  Position  Prognosis  \\\n0                   0.0                 0.0      0.0       1.0       MILD   \n1                   0.0                 0.0      NaN       1.0       MILD   \n2                   1.0                 0.0      NaN       1.0       MILD   \n3                   1.0                 0.0      NaN       1.0     SEVERE   \n4                   0.0                 0.0      NaN       1.0     SEVERE   \n\n   Death  pred_class  \n0      0           0  \n1      0           0  \n2      0           0  \n3      0           1  \n4      0           1  \n\n[5 rows x 41 columns]",
      "text/html": "<div>\n<style scoped>\n    .dataframe tbody tr th:only-of-type {\n        vertical-align: middle;\n    }\n\n    .dataframe tbody tr th {\n        vertical-align: top;\n    }\n\n    .dataframe thead th {\n        text-align: right;\n    }\n</style>\n<table border=\"1\" class=\"dataframe\">\n  <thead>\n    <tr style=\"text-align: right;\">\n      <th></th>\n      <th>Row_number</th>\n      <th>ImageFile</th>\n      <th>Hospital</th>\n      <th>Age</th>\n      <th>Sex</th>\n      <th>PositivityAtAdmission</th>\n      <th>Temp_C</th>\n      <th>DaysFever</th>\n      <th>Cough</th>\n      <th>DifficultyInBreathing</th>\n      <th>...</th>\n      <th>Dementia</th>\n      <th>BPCO</th>\n      <th>Cancer</th>\n      <th>ChronicKidneyDisease</th>\n      <th>RespiratoryFailure</th>\n      <th>Obesity</th>\n      <th>Position</th>\n      <th>Prognosis</th>\n      <th>Death</th>\n      <th>pred_class</th>\n    </tr>\n  </thead>\n  <tbody>\n    <tr>\n      <th>0</th>\n      <td>1</td>\n      <td>P_1.png</td>\n      <td>A</td>\n      <td>38.0</td>\n      <td>0</td>\n      <td>1.0</td>\n      <td>36.0</td>\n      <td>4.0</td>\n      <td>1.0</td>\n      <td>0.0</td>\n      <td>...</td>\n      <td>0.0</td>\n      <td>0.0</td>\n      <td>0.0</td>\n      <td>0.0</td>\n      <td>0.0</td>\n      <td>0.0</td>\n      <td>1.0</td>\n      <td>MILD</td>\n      <td>0</td>\n      <td>0</td>\n    </tr>\n    <tr>\n      <th>1</th>\n      <td>900</td>\n      <td>P_1_1.png</td>\n      <td>F</td>\n      <td>96.0</td>\n      <td>0</td>\n      <td>1.0</td>\n      <td>36.0</td>\n      <td>1.0</td>\n      <td>0.0</td>\n      <td>0.0</td>\n      <td>...</td>\n      <td>1.0</td>\n      <td>0.0</td>\n      <td>0.0</td>\n      <td>0.0</td>\n      <td>0.0</td>\n      <td>NaN</td>\n      <td>1.0</td>\n      <td>MILD</td>\n      <td>0</td>\n      <td>0</td>\n    </tr>\n    <tr>\n      <th>2</th>\n      <td>901</td>\n      <td>P_1_2.png</td>\n      <td>F</td>\n      <td>62.0</td>\n      <td>1</td>\n      <td>1.0</td>\n      <td>NaN</td>\n      <td>4.0</td>\n      <td>1.0</td>\n      <td>0.0</td>\n      <td>...</td>\n      <td>0.0</td>\n      <td>0.0</td>\n      <td>0.0</td>\n      <td>1.0</td>\n      <td>0.0</td>\n      <td>NaN</td>\n      <td>1.0</td>\n      <td>MILD</td>\n      <td>0</td>\n      <td>0</td>\n    </tr>\n    <tr>\n      <th>3</th>\n      <td>902</td>\n      <td>P_1_3.png</td>\n      <td>F</td>\n      <td>57.0</td>\n      <td>1</td>\n      <td>1.0</td>\n      <td>39.0</td>\n      <td>2.0</td>\n      <td>0.0</td>\n      <td>0.0</td>\n      <td>...</td>\n      <td>0.0</td>\n      <td>0.0</td>\n      <td>0.0</td>\n      <td>1.0</td>\n      <td>0.0</td>\n      <td>NaN</td>\n      <td>1.0</td>\n      <td>SEVERE</td>\n      <td>0</td>\n      <td>1</td>\n    </tr>\n    <tr>\n      <th>4</th>\n      <td>903</td>\n      <td>P_1_4.png</td>\n      <td>F</td>\n      <td>41.0</td>\n      <td>1</td>\n      <td>1.0</td>\n      <td>NaN</td>\n      <td>NaN</td>\n      <td>0.0</td>\n      <td>0.0</td>\n      <td>...</td>\n      <td>0.0</td>\n      <td>0.0</td>\n      <td>0.0</td>\n      <td>0.0</td>\n      <td>0.0</td>\n      <td>NaN</td>\n      <td>1.0</td>\n      <td>SEVERE</td>\n      <td>0</td>\n      <td>1</td>\n    </tr>\n  </tbody>\n</table>\n<p>5 rows × 41 columns</p>\n</div>"
     },
     "execution_count": 19,
     "metadata": {},
     "output_type": "execute_result"
    }
   ],
   "source": [
    "df_order= pd.read_excel(r'Train_order_imagEval.xlsx', index_col=0)\n",
    "print(df_order.shape) # 1103, 41\n",
    "df_order.head(5)"
   ],
   "metadata": {
    "collapsed": false,
    "pycharm": {
     "name": "#%%\n"
    }
   }
  },
  {
   "cell_type": "markdown",
   "metadata": {},
   "source": [
    "## 1.2 y e dt"
   ]
  },
  {
   "cell_type": "markdown",
   "source": [],
   "metadata": {
    "collapsed": false
   }
  },
  {
   "cell_type": "code",
   "execution_count": 20,
   "metadata": {
    "pycharm": {
     "name": "#%%\n"
    }
   },
   "outputs": [
    {
     "data": {
      "text/plain": "array(['MILD', 'SEVERE'], dtype=object)"
     },
     "execution_count": 20,
     "metadata": {},
     "output_type": "execute_result"
    }
   ],
   "source": [
    "le = preprocessing.LabelEncoder()\n",
    "y=le.fit_transform(df_order.Prognosis)\n",
    "le.classes_"
   ]
  },
  {
   "cell_type": "code",
   "execution_count": 21,
   "outputs": [
    {
     "data": {
      "text/plain": "(1103,)"
     },
     "execution_count": 21,
     "metadata": {},
     "output_type": "execute_result"
    }
   ],
   "source": [
    "y.shape"
   ],
   "metadata": {
    "collapsed": false,
    "pycharm": {
     "name": "#%%\n"
    }
   }
  },
  {
   "cell_type": "code",
   "execution_count": 22,
   "metadata": {
    "pycharm": {
     "name": "#%%\n"
    }
   },
   "outputs": [],
   "source": [
    "df_order.drop(['Row_number', 'Death', 'Prognosis', 'ImageFile', 'Hospital'], axis=1 , inplace=True)"
   ]
  },
  {
   "cell_type": "code",
   "execution_count": 23,
   "metadata": {
    "pycharm": {
     "name": "#%%\n"
    }
   },
   "outputs": [
    {
     "name": "stdout",
     "output_type": "stream",
     "text": [
      "{'Age': 64.60143328786812, 'Sex': 0.34632819582955576, 'PositivityAtAdmission': 0.9577067669172933, 'Temp_C': 37.55185577942736, 'DaysFever': 2.7229336437718277, 'Cough': 0.5227686703096539, 'DifficultyInBreathing': 0.5050045495905369, 'WBC': 7.100423848363599, 'RBC': 4.5722008041627245, 'CRP': 33.48366383380547, 'Fibrinogen': 602.5183823529412, 'Glucose': 124.8172757475083, 'PCT': 55.79216517857144, 'LDH': 362.63046153846153, 'INR': 1.3737686998504013, 'D_dimer': 2532.160158227848, 'Ox_percentage': 92.63477672530448, 'PaO2': 72.32052821128451, 'SaO2': 92.44488372093024, 'PaCO2': 33.402253694581276, 'pH': 7.457315721649485, 'CardiovascularDisease': 0.29979253112033194, 'IschemicHeartDisease': 0.13872135102533173, 'AtrialFibrillation': 0.08220603537981269, 'HeartFailure': 0.020833333333333332, 'Ictus': 0.035416666666666666, 'HighBloodPressure': 0.458592132505176, 'Diabetes': 0.15527950310559005, 'Dementia': 0.04569055036344756, 'BPCO': 0.06935817805383022, 'Cancer': 0.07349896480331262, 'ChronicKidneyDisease': 0.06625258799171843, 'RespiratoryFailure': 0.01699029126213592, 'Obesity': 0.11029411764705882, 'Position': 0.8046795523906409, 'pred_class': 0.5067996373526745}\n"
     ]
    }
   ],
   "source": [
    "mean_value= []\n",
    "for i in range(df_order.shape[1]):\n",
    "    mean= df_order.iloc[:,i].mean()\n",
    "    mean_value.append(mean)\n",
    "\n",
    "values= {}\n",
    "\n",
    "for counter, value in enumerate(df_order.keys()):\n",
    "    values[value] = mean_value[counter]\n",
    "print(values)"
   ]
  },
  {
   "cell_type": "code",
   "execution_count": 24,
   "metadata": {
    "pycharm": {
     "name": "#%%\n"
    }
   },
   "outputs": [
    {
     "data": {
      "text/plain": "    Age  Sex  PositivityAtAdmission     Temp_C  DaysFever  Cough  \\\n0  38.0    0                    1.0  36.000000   4.000000    1.0   \n1  96.0    0                    1.0  36.000000   1.000000    0.0   \n2  62.0    1                    1.0  37.551856   4.000000    1.0   \n3  57.0    1                    1.0  39.000000   2.000000    0.0   \n4  41.0    1                    1.0  37.551856   2.722934    0.0   \n\n   DifficultyInBreathing   WBC   RBC    CRP  ...  HighBloodPressure  Diabetes  \\\n0                    0.0  4.29  4.74   0.28  ...                0.0       0.0   \n1                    0.0  8.80  4.16   8.77  ...                0.0       0.0   \n2                    0.0  8.90  3.02   0.60  ...                1.0       1.0   \n3                    0.0  9.10  3.32  12.51  ...                0.0       0.0   \n4                    0.0  7.90  3.61  15.79  ...                1.0       1.0   \n\n   Dementia  BPCO  Cancer  ChronicKidneyDisease  RespiratoryFailure   Obesity  \\\n0       0.0   0.0     0.0                   0.0                 0.0  0.000000   \n1       1.0   0.0     0.0                   0.0                 0.0  0.110294   \n2       0.0   0.0     0.0                   1.0                 0.0  0.110294   \n3       0.0   0.0     0.0                   1.0                 0.0  0.110294   \n4       0.0   0.0     0.0                   0.0                 0.0  0.110294   \n\n   Position  pred_class  \n0       1.0           0  \n1       1.0           0  \n2       1.0           0  \n3       1.0           1  \n4       1.0           1  \n\n[5 rows x 36 columns]",
      "text/html": "<div>\n<style scoped>\n    .dataframe tbody tr th:only-of-type {\n        vertical-align: middle;\n    }\n\n    .dataframe tbody tr th {\n        vertical-align: top;\n    }\n\n    .dataframe thead th {\n        text-align: right;\n    }\n</style>\n<table border=\"1\" class=\"dataframe\">\n  <thead>\n    <tr style=\"text-align: right;\">\n      <th></th>\n      <th>Age</th>\n      <th>Sex</th>\n      <th>PositivityAtAdmission</th>\n      <th>Temp_C</th>\n      <th>DaysFever</th>\n      <th>Cough</th>\n      <th>DifficultyInBreathing</th>\n      <th>WBC</th>\n      <th>RBC</th>\n      <th>CRP</th>\n      <th>...</th>\n      <th>HighBloodPressure</th>\n      <th>Diabetes</th>\n      <th>Dementia</th>\n      <th>BPCO</th>\n      <th>Cancer</th>\n      <th>ChronicKidneyDisease</th>\n      <th>RespiratoryFailure</th>\n      <th>Obesity</th>\n      <th>Position</th>\n      <th>pred_class</th>\n    </tr>\n  </thead>\n  <tbody>\n    <tr>\n      <th>0</th>\n      <td>38.0</td>\n      <td>0</td>\n      <td>1.0</td>\n      <td>36.000000</td>\n      <td>4.000000</td>\n      <td>1.0</td>\n      <td>0.0</td>\n      <td>4.29</td>\n      <td>4.74</td>\n      <td>0.28</td>\n      <td>...</td>\n      <td>0.0</td>\n      <td>0.0</td>\n      <td>0.0</td>\n      <td>0.0</td>\n      <td>0.0</td>\n      <td>0.0</td>\n      <td>0.0</td>\n      <td>0.000000</td>\n      <td>1.0</td>\n      <td>0</td>\n    </tr>\n    <tr>\n      <th>1</th>\n      <td>96.0</td>\n      <td>0</td>\n      <td>1.0</td>\n      <td>36.000000</td>\n      <td>1.000000</td>\n      <td>0.0</td>\n      <td>0.0</td>\n      <td>8.80</td>\n      <td>4.16</td>\n      <td>8.77</td>\n      <td>...</td>\n      <td>0.0</td>\n      <td>0.0</td>\n      <td>1.0</td>\n      <td>0.0</td>\n      <td>0.0</td>\n      <td>0.0</td>\n      <td>0.0</td>\n      <td>0.110294</td>\n      <td>1.0</td>\n      <td>0</td>\n    </tr>\n    <tr>\n      <th>2</th>\n      <td>62.0</td>\n      <td>1</td>\n      <td>1.0</td>\n      <td>37.551856</td>\n      <td>4.000000</td>\n      <td>1.0</td>\n      <td>0.0</td>\n      <td>8.90</td>\n      <td>3.02</td>\n      <td>0.60</td>\n      <td>...</td>\n      <td>1.0</td>\n      <td>1.0</td>\n      <td>0.0</td>\n      <td>0.0</td>\n      <td>0.0</td>\n      <td>1.0</td>\n      <td>0.0</td>\n      <td>0.110294</td>\n      <td>1.0</td>\n      <td>0</td>\n    </tr>\n    <tr>\n      <th>3</th>\n      <td>57.0</td>\n      <td>1</td>\n      <td>1.0</td>\n      <td>39.000000</td>\n      <td>2.000000</td>\n      <td>0.0</td>\n      <td>0.0</td>\n      <td>9.10</td>\n      <td>3.32</td>\n      <td>12.51</td>\n      <td>...</td>\n      <td>0.0</td>\n      <td>0.0</td>\n      <td>0.0</td>\n      <td>0.0</td>\n      <td>0.0</td>\n      <td>1.0</td>\n      <td>0.0</td>\n      <td>0.110294</td>\n      <td>1.0</td>\n      <td>1</td>\n    </tr>\n    <tr>\n      <th>4</th>\n      <td>41.0</td>\n      <td>1</td>\n      <td>1.0</td>\n      <td>37.551856</td>\n      <td>2.722934</td>\n      <td>0.0</td>\n      <td>0.0</td>\n      <td>7.90</td>\n      <td>3.61</td>\n      <td>15.79</td>\n      <td>...</td>\n      <td>1.0</td>\n      <td>1.0</td>\n      <td>0.0</td>\n      <td>0.0</td>\n      <td>0.0</td>\n      <td>0.0</td>\n      <td>0.0</td>\n      <td>0.110294</td>\n      <td>1.0</td>\n      <td>1</td>\n    </tr>\n  </tbody>\n</table>\n<p>5 rows × 36 columns</p>\n</div>"
     },
     "execution_count": 24,
     "metadata": {},
     "output_type": "execute_result"
    }
   ],
   "source": [
    "df_order= df_order.fillna(value=values)\n",
    "df_order.head()"
   ]
  },
  {
   "cell_type": "code",
   "execution_count": 25,
   "metadata": {
    "pycharm": {
     "name": "#%%\n"
    }
   },
   "outputs": [
    {
     "name": "stdout",
     "output_type": "stream",
     "text": [
      "<class 'pandas.core.frame.DataFrame'>\n",
      "Int64Index: 1103 entries, 0 to 1102\n",
      "Data columns (total 36 columns):\n",
      " #   Column                 Non-Null Count  Dtype  \n",
      "---  ------                 --------------  -----  \n",
      " 0   Age                    1103 non-null   float64\n",
      " 1   Sex                    1103 non-null   int64  \n",
      " 2   PositivityAtAdmission  1103 non-null   float64\n",
      " 3   Temp_C                 1103 non-null   float64\n",
      " 4   DaysFever              1103 non-null   float64\n",
      " 5   Cough                  1103 non-null   float64\n",
      " 6   DifficultyInBreathing  1103 non-null   float64\n",
      " 7   WBC                    1103 non-null   float64\n",
      " 8   RBC                    1103 non-null   float64\n",
      " 9   CRP                    1103 non-null   float64\n",
      " 10  Fibrinogen             1103 non-null   float64\n",
      " 11  Glucose                1103 non-null   float64\n",
      " 12  PCT                    1103 non-null   float64\n",
      " 13  LDH                    1103 non-null   float64\n",
      " 14  INR                    1103 non-null   float64\n",
      " 15  D_dimer                1103 non-null   float64\n",
      " 16  Ox_percentage          1103 non-null   float64\n",
      " 17  PaO2                   1103 non-null   float64\n",
      " 18  SaO2                   1103 non-null   float64\n",
      " 19  PaCO2                  1103 non-null   float64\n",
      " 20  pH                     1103 non-null   float64\n",
      " 21  CardiovascularDisease  1103 non-null   float64\n",
      " 22  IschemicHeartDisease   1103 non-null   float64\n",
      " 23  AtrialFibrillation     1103 non-null   float64\n",
      " 24  HeartFailure           1103 non-null   float64\n",
      " 25  Ictus                  1103 non-null   float64\n",
      " 26  HighBloodPressure      1103 non-null   float64\n",
      " 27  Diabetes               1103 non-null   float64\n",
      " 28  Dementia               1103 non-null   float64\n",
      " 29  BPCO                   1103 non-null   float64\n",
      " 30  Cancer                 1103 non-null   float64\n",
      " 31  ChronicKidneyDisease   1103 non-null   float64\n",
      " 32  RespiratoryFailure     1103 non-null   float64\n",
      " 33  Obesity                1103 non-null   float64\n",
      " 34  Position               1103 non-null   float64\n",
      " 35  pred_class             1103 non-null   int64  \n",
      "dtypes: float64(34), int64(2)\n",
      "memory usage: 318.8 KB\n"
     ]
    }
   ],
   "source": [
    "df_order.info()"
   ]
  },
  {
   "cell_type": "markdown",
   "source": [
    "split part"
   ],
   "metadata": {
    "collapsed": false
   }
  },
  {
   "cell_type": "code",
   "execution_count": 26,
   "metadata": {
    "pycharm": {
     "name": "#%%\n"
    }
   },
   "outputs": [],
   "source": [
    "X_train, X_test, y_train, y_test = train_test_split(df_order, y, test_size=0.1, random_state=2,\n",
    "                                                    shuffle=False)"
   ]
  },
  {
   "cell_type": "markdown",
   "source": [
    "models"
   ],
   "metadata": {
    "collapsed": false
   }
  },
  {
   "cell_type": "code",
   "execution_count": 27,
   "metadata": {
    "pycharm": {
     "name": "#%%\n"
    }
   },
   "outputs": [
    {
     "name": "stdout",
     "output_type": "stream",
     "text": [
      "test:  0.5765765765765766\n"
     ]
    }
   ],
   "source": [
    "dummy= DummyClassifier()\n",
    "dummy.fit(X_train, y_train)\n",
    "\n",
    "pred_test= dummy.predict(X_test)\n",
    "print('test: ', accuracy_score(y_test, pred_test) )"
   ]
  },
  {
   "cell_type": "markdown",
   "source": [
    "scegliere i parametri migliori"
   ],
   "metadata": {
    "collapsed": false
   }
  },
  {
   "cell_type": "code",
   "execution_count": 11,
   "outputs": [
    {
     "name": "stderr",
     "output_type": "stream",
     "text": [
      "C:\\Anaconda\\envs\\hackathon\\lib\\site-packages\\sklearn\\model_selection\\_validation.py:372: FitFailedWarning: \n",
      "80 fits failed out of a total of 120.\n",
      "The score on these train-test partitions for these parameters will be set to nan.\n",
      "If these failures are not expected, you can try to debug them by setting error_score='raise'.\n",
      "\n",
      "Below are more details about the failures:\n",
      "--------------------------------------------------------------------------------\n",
      "40 fits failed with the following error:\n",
      "Traceback (most recent call last):\n",
      "  File \"C:\\Anaconda\\envs\\hackathon\\lib\\site-packages\\sklearn\\model_selection\\_validation.py\", line 680, in _fit_and_score\n",
      "    estimator.fit(X_train, y_train, **fit_params)\n",
      "  File \"C:\\Anaconda\\envs\\hackathon\\lib\\site-packages\\sklearn\\tree\\_classes.py\", line 937, in fit\n",
      "    super().fit(\n",
      "  File \"C:\\Anaconda\\envs\\hackathon\\lib\\site-packages\\sklearn\\tree\\_classes.py\", line 250, in fit\n",
      "    raise ValueError(\n",
      "ValueError: min_samples_split must be an integer greater than 1 or a float in (0.0, 1.0]; got the integer 1\n",
      "\n",
      "--------------------------------------------------------------------------------\n",
      "40 fits failed with the following error:\n",
      "Traceback (most recent call last):\n",
      "  File \"C:\\Anaconda\\envs\\hackathon\\lib\\site-packages\\sklearn\\model_selection\\_validation.py\", line 680, in _fit_and_score\n",
      "    estimator.fit(X_train, y_train, **fit_params)\n",
      "  File \"C:\\Anaconda\\envs\\hackathon\\lib\\site-packages\\sklearn\\tree\\_classes.py\", line 937, in fit\n",
      "    super().fit(\n",
      "  File \"C:\\Anaconda\\envs\\hackathon\\lib\\site-packages\\sklearn\\tree\\_classes.py\", line 352, in fit\n",
      "    criterion = CRITERIA_CLF[self.criterion](\n",
      "KeyError: 'giny'\n",
      "\n",
      "  warnings.warn(some_fits_failed_message, FitFailedWarning)\n",
      "C:\\Anaconda\\envs\\hackathon\\lib\\site-packages\\sklearn\\model_selection\\_search.py:969: UserWarning: One or more of the test scores are non-finite: [       nan        nan        nan        nan        nan        nan\n",
      "        nan        nan        nan        nan        nan        nan\n",
      "        nan 0.69670575 0.63923151        nan 0.8497995  0.81162885\n",
      "        nan 0.86093092 0.84182529        nan 0.90630425 0.90831937]\n",
      "  warnings.warn(\n"
     ]
    },
    {
     "data": {
      "text/plain": "{'criterion': 'entropy', 'max_features': None, 'min_samples_split': 5}"
     },
     "execution_count": 11,
     "metadata": {},
     "output_type": "execute_result"
    }
   ],
   "source": [
    "dt= DecisionTreeClassifier()\n",
    "par= {\n",
    "    'criterion' : ('giny','entropy'),\n",
    "    'max_features' : [1, 5, 10, None],\n",
    "    'min_samples_split' : [1, 2, 5]\n",
    "\n",
    "}\n",
    "\n",
    "sear= GridSearchCV(dt, par, cv=5, scoring='accuracy')\n",
    "sear.fit(X_train, y_train)\n",
    "sear.best_params_"
   ],
   "metadata": {
    "collapsed": false,
    "pycharm": {
     "name": "#%%\n"
    }
   }
  },
  {
   "cell_type": "code",
   "execution_count": 28,
   "outputs": [
    {
     "name": "stdout",
     "output_type": "stream",
     "text": [
      "test:  0.918918918918919\n"
     ]
    }
   ],
   "source": [
    "# **sear.best_params_\n",
    "dt= DecisionTreeClassifier(criterion='entropy', max_features=None, min_samples_split=5)\n",
    "dt.fit(X_train, y_train)\n",
    "\n",
    "pred_test= dt.predict(X_test)\n",
    "print('test: ', accuracy_score(y_test, pred_test) )"
   ],
   "metadata": {
    "collapsed": false,
    "pycharm": {
     "name": "#%%\n"
    }
   }
  },
  {
   "cell_type": "code",
   "execution_count": null,
   "outputs": [],
   "source": [],
   "metadata": {
    "collapsed": false,
    "pycharm": {
     "name": "#%%\n"
    }
   }
  },
  {
   "cell_type": "code",
   "execution_count": 15,
   "outputs": [
    {
     "name": "stderr",
     "output_type": "stream",
     "text": [
      "C:\\Anaconda\\envs\\hackathon\\lib\\site-packages\\sklearn\\model_selection\\_validation.py:372: FitFailedWarning: \n",
      "320 fits failed out of a total of 480.\n",
      "The score on these train-test partitions for these parameters will be set to nan.\n",
      "If these failures are not expected, you can try to debug them by setting error_score='raise'.\n",
      "\n",
      "Below are more details about the failures:\n",
      "--------------------------------------------------------------------------------\n",
      "160 fits failed with the following error:\n",
      "Traceback (most recent call last):\n",
      "  File \"C:\\Anaconda\\envs\\hackathon\\lib\\site-packages\\sklearn\\model_selection\\_validation.py\", line 680, in _fit_and_score\n",
      "    estimator.fit(X_train, y_train, **fit_params)\n",
      "  File \"C:\\Anaconda\\envs\\hackathon\\lib\\site-packages\\sklearn\\ensemble\\_forest.py\", line 450, in fit\n",
      "    trees = Parallel(\n",
      "  File \"C:\\Anaconda\\envs\\hackathon\\lib\\site-packages\\joblib\\parallel.py\", line 1043, in __call__\n",
      "    if self.dispatch_one_batch(iterator):\n",
      "  File \"C:\\Anaconda\\envs\\hackathon\\lib\\site-packages\\joblib\\parallel.py\", line 861, in dispatch_one_batch\n",
      "    self._dispatch(tasks)\n",
      "  File \"C:\\Anaconda\\envs\\hackathon\\lib\\site-packages\\joblib\\parallel.py\", line 779, in _dispatch\n",
      "    job = self._backend.apply_async(batch, callback=cb)\n",
      "  File \"C:\\Anaconda\\envs\\hackathon\\lib\\site-packages\\joblib\\_parallel_backends.py\", line 208, in apply_async\n",
      "    result = ImmediateResult(func)\n",
      "  File \"C:\\Anaconda\\envs\\hackathon\\lib\\site-packages\\joblib\\_parallel_backends.py\", line 572, in __init__\n",
      "    self.results = batch()\n",
      "  File \"C:\\Anaconda\\envs\\hackathon\\lib\\site-packages\\joblib\\parallel.py\", line 262, in __call__\n",
      "    return [func(*args, **kwargs)\n",
      "  File \"C:\\Anaconda\\envs\\hackathon\\lib\\site-packages\\joblib\\parallel.py\", line 262, in <listcomp>\n",
      "    return [func(*args, **kwargs)\n",
      "  File \"C:\\Anaconda\\envs\\hackathon\\lib\\site-packages\\sklearn\\utils\\fixes.py\", line 216, in __call__\n",
      "    return self.function(*args, **kwargs)\n",
      "  File \"C:\\Anaconda\\envs\\hackathon\\lib\\site-packages\\sklearn\\ensemble\\_forest.py\", line 185, in _parallel_build_trees\n",
      "    tree.fit(X, y, sample_weight=curr_sample_weight, check_input=False)\n",
      "  File \"C:\\Anaconda\\envs\\hackathon\\lib\\site-packages\\sklearn\\tree\\_classes.py\", line 937, in fit\n",
      "    super().fit(\n",
      "  File \"C:\\Anaconda\\envs\\hackathon\\lib\\site-packages\\sklearn\\tree\\_classes.py\", line 250, in fit\n",
      "    raise ValueError(\n",
      "ValueError: min_samples_split must be an integer greater than 1 or a float in (0.0, 1.0]; got the integer 1\n",
      "\n",
      "--------------------------------------------------------------------------------\n",
      "160 fits failed with the following error:\n",
      "Traceback (most recent call last):\n",
      "  File \"C:\\Anaconda\\envs\\hackathon\\lib\\site-packages\\sklearn\\model_selection\\_validation.py\", line 680, in _fit_and_score\n",
      "    estimator.fit(X_train, y_train, **fit_params)\n",
      "  File \"C:\\Anaconda\\envs\\hackathon\\lib\\site-packages\\sklearn\\ensemble\\_forest.py\", line 450, in fit\n",
      "    trees = Parallel(\n",
      "  File \"C:\\Anaconda\\envs\\hackathon\\lib\\site-packages\\joblib\\parallel.py\", line 1043, in __call__\n",
      "    if self.dispatch_one_batch(iterator):\n",
      "  File \"C:\\Anaconda\\envs\\hackathon\\lib\\site-packages\\joblib\\parallel.py\", line 861, in dispatch_one_batch\n",
      "    self._dispatch(tasks)\n",
      "  File \"C:\\Anaconda\\envs\\hackathon\\lib\\site-packages\\joblib\\parallel.py\", line 779, in _dispatch\n",
      "    job = self._backend.apply_async(batch, callback=cb)\n",
      "  File \"C:\\Anaconda\\envs\\hackathon\\lib\\site-packages\\joblib\\_parallel_backends.py\", line 208, in apply_async\n",
      "    result = ImmediateResult(func)\n",
      "  File \"C:\\Anaconda\\envs\\hackathon\\lib\\site-packages\\joblib\\_parallel_backends.py\", line 572, in __init__\n",
      "    self.results = batch()\n",
      "  File \"C:\\Anaconda\\envs\\hackathon\\lib\\site-packages\\joblib\\parallel.py\", line 262, in __call__\n",
      "    return [func(*args, **kwargs)\n",
      "  File \"C:\\Anaconda\\envs\\hackathon\\lib\\site-packages\\joblib\\parallel.py\", line 262, in <listcomp>\n",
      "    return [func(*args, **kwargs)\n",
      "  File \"C:\\Anaconda\\envs\\hackathon\\lib\\site-packages\\sklearn\\utils\\fixes.py\", line 216, in __call__\n",
      "    return self.function(*args, **kwargs)\n",
      "  File \"C:\\Anaconda\\envs\\hackathon\\lib\\site-packages\\sklearn\\ensemble\\_forest.py\", line 185, in _parallel_build_trees\n",
      "    tree.fit(X, y, sample_weight=curr_sample_weight, check_input=False)\n",
      "  File \"C:\\Anaconda\\envs\\hackathon\\lib\\site-packages\\sklearn\\tree\\_classes.py\", line 937, in fit\n",
      "    super().fit(\n",
      "  File \"C:\\Anaconda\\envs\\hackathon\\lib\\site-packages\\sklearn\\tree\\_classes.py\", line 352, in fit\n",
      "    criterion = CRITERIA_CLF[self.criterion](\n",
      "KeyError: 'giny'\n",
      "\n",
      "  warnings.warn(some_fits_failed_message, FitFailedWarning)\n",
      "C:\\Anaconda\\envs\\hackathon\\lib\\site-packages\\sklearn\\model_selection\\_search.py:969: UserWarning: One or more of the test scores are non-finite: [       nan        nan        nan        nan        nan        nan\n",
      "        nan        nan        nan        nan        nan        nan\n",
      "        nan        nan        nan        nan        nan        nan\n",
      "        nan        nan        nan        nan        nan        nan\n",
      "        nan        nan        nan        nan        nan        nan\n",
      "        nan        nan        nan        nan        nan        nan\n",
      "        nan        nan        nan        nan        nan        nan\n",
      "        nan        nan        nan        nan        nan        nan\n",
      "        nan        nan        nan        nan 0.85999695 0.86299173\n",
      " 0.86499162 0.86199178 0.82768895 0.85289579 0.85797168 0.8549363\n",
      "        nan        nan        nan        nan 0.94861175 0.94861175\n",
      " 0.94760672 0.94861175 0.94760672 0.94961677 0.94861175 0.94861175\n",
      "        nan        nan        nan        nan 0.95263692 0.95263692\n",
      " 0.95263692 0.95263692 0.9516319  0.95263692 0.95263692 0.95263692\n",
      "        nan        nan        nan        nan 0.94760672 0.94962185\n",
      " 0.94861175 0.94861175 0.94962185 0.94861175 0.94861175 0.94861175]\n",
      "  warnings.warn(\n"
     ]
    },
    {
     "data": {
      "text/plain": "{'criterion': 'entropy',\n 'max_features': 10,\n 'min_samples_split': 2,\n 'n_estimators': 100}"
     },
     "execution_count": 15,
     "metadata": {},
     "output_type": "execute_result"
    }
   ],
   "source": [
    "randomforest= RandomForestClassifier()\n",
    "par= {\n",
    "    'n_estimators' : [100, 1000, 2000, 5000],\n",
    "    'criterion' : ('giny','entropy'),\n",
    "    'max_features' : [1, 5, 10, None],\n",
    "    'min_samples_split' : [1, 2, 5]\n",
    "\n",
    "}\n",
    "\n",
    "sear= GridSearchCV(randomforest, par, cv=5, scoring='accuracy')\n",
    "sear.fit(X_train, y_train)\n",
    "sear.best_params_"
   ],
   "metadata": {
    "collapsed": false,
    "pycharm": {
     "name": "#%%\n"
    }
   }
  },
  {
   "cell_type": "code",
   "execution_count": 30,
   "metadata": {
    "pycharm": {
     "name": "#%%\n"
    }
   },
   "outputs": [
    {
     "name": "stdout",
     "output_type": "stream",
     "text": [
      "test:  0.963963963963964\n"
     ]
    }
   ],
   "source": [
    "# **sear.best_params_\n",
    "randomforest= RandomForestClassifier(n_estimators=1000)\n",
    "# criterion='entropy', max_features=10, min_samples_split=2, n_estimators=100\n",
    "randomforest.fit(X_train, y_train)\n",
    "\n",
    "pred_test= randomforest.predict(X_test)\n",
    "print('test: ', accuracy_score(y_test, pred_test) )"
   ]
  },
  {
   "cell_type": "code",
   "execution_count": 16,
   "metadata": {
    "pycharm": {
     "name": "#%%\n"
    }
   },
   "outputs": [
    {
     "name": "stdout",
     "output_type": "stream",
     "text": [
      "test:  0.9459459459459459\n"
     ]
    }
   ],
   "source": [
    "extra= ExtraTreeClassifier()\n",
    "extra.fit(X_train, y_train)\n",
    "\n",
    "pred_test= extra.predict(X_test)\n",
    "print('test: ', accuracy_score(y_test, pred_test) )"
   ]
  },
  {
   "cell_type": "code",
   "execution_count": 31,
   "outputs": [
    {
     "name": "stdout",
     "output_type": "stream",
     "text": [
      "0.96875 0.9574468085106383\n",
      "final result: 0.9630984042553192\n"
     ]
    }
   ],
   "source": [
    "tn, fp, fn, tp = confusion_matrix(y_test, pred_test).ravel()\n",
    "confusion_matrix(y_test, pred_test)\n",
    "TPR= tp/(tp+fn)\n",
    "TNR= tn/(tn+fp)\n",
    "print(TPR, TNR)\n",
    "print('final result:', (TPR+TNR)/2)"
   ],
   "metadata": {
    "collapsed": false,
    "pycharm": {
     "name": "#%%\n"
    }
   }
  },
  {
   "cell_type": "code",
   "execution_count": null,
   "outputs": [],
   "source": [],
   "metadata": {
    "collapsed": false,
    "pycharm": {
     "name": "#%%\n"
    }
   }
  },
  {
   "cell_type": "code",
   "execution_count": 37,
   "outputs": [
    {
     "data": {
      "text/plain": "[Text(0.5097384982638888, 0.9666666666666667, 'RespiratoryFailure <= 0.5\\ngini = 0.499\\nsamples = 992\\nvalue = [471, 521]\\nclass = SEVERE'),\n Text(0.4138997395833333, 0.9, 'Row_number <= 92.5\\ngini = 0.113\\nsamples = 481\\nvalue = [452, 29]\\nclass = MILD'),\n Text(0.3555772569444444, 0.8333333333333334, 'Fibrinogen <= 354.5\\ngini = 0.103\\nsamples = 476\\nvalue = [450, 26]\\nclass = MILD'),\n Text(0.2805989583333333, 0.7666666666666667, 'DifficultyInBreathing <= 479.25\\ngini = 0.063\\nsamples = 402\\nvalue = [389, 13]\\nclass = MILD'),\n Text(0.2667100694444444, 0.7, 'Age <= 39.9\\ngini = 0.058\\nsamples = 401\\nvalue = [389, 12]\\nclass = MILD'),\n Text(0.2528211805555556, 0.6333333333333333, 'PCT <= 2961.5\\ngini = 0.053\\nsamples = 400\\nvalue = [389, 11]\\nclass = MILD'),\n Text(0.1792534722222222, 0.5666666666666667, 'Fibrinogen <= 322.5\\ngini = 0.045\\nsamples = 392\\nvalue = [383, 9]\\nclass = MILD'),\n Text(0.07378472222222222, 0.5, 'DaysFever <= 2.695\\ngini = 0.033\\nsamples = 354\\nvalue = [348, 6]\\nclass = MILD'),\n Text(0.027777777777777776, 0.43333333333333335, 'DaysFever <= 2.595\\ngini = 0.245\\nsamples = 7\\nvalue = [6, 1]\\nclass = MILD'),\n Text(0.013888888888888888, 0.36666666666666664, 'gini = 0.0\\nsamples = 6\\nvalue = [6, 0]\\nclass = MILD'),\n Text(0.041666666666666664, 0.36666666666666664, 'gini = 0.0\\nsamples = 1\\nvalue = [0, 1]\\nclass = SEVERE'),\n Text(0.11979166666666667, 0.43333333333333335, 'D_dimer <= 89.35\\ngini = 0.028\\nsamples = 347\\nvalue = [342, 5]\\nclass = MILD'),\n Text(0.06944444444444445, 0.36666666666666664, 'D_dimer <= 88.85\\ngini = 0.245\\nsamples = 7\\nvalue = [6, 1]\\nclass = MILD'),\n Text(0.05555555555555555, 0.3, 'gini = 0.0\\nsamples = 6\\nvalue = [6, 0]\\nclass = MILD'),\n Text(0.08333333333333333, 0.3, 'gini = 0.0\\nsamples = 1\\nvalue = [0, 1]\\nclass = SEVERE'),\n Text(0.1701388888888889, 0.36666666666666664, 'HeartFailure <= 0.5\\ngini = 0.023\\nsamples = 340\\nvalue = [336, 4]\\nclass = MILD'),\n Text(0.1111111111111111, 0.3, 'Age <= 34.806\\ngini = 0.007\\nsamples = 269\\nvalue = [268, 1]\\nclass = MILD'),\n Text(0.09722222222222222, 0.23333333333333334, 'Ox_percentage <= 34.9\\ngini = 0.051\\nsamples = 38\\nvalue = [37, 1]\\nclass = MILD'),\n Text(0.08333333333333333, 0.16666666666666666, 'gini = 0.0\\nsamples = 28\\nvalue = [28, 0]\\nclass = MILD'),\n Text(0.1111111111111111, 0.16666666666666666, 'Ox_percentage <= 35.25\\ngini = 0.18\\nsamples = 10\\nvalue = [9, 1]\\nclass = MILD'),\n Text(0.09722222222222222, 0.1, 'gini = 0.0\\nsamples = 1\\nvalue = [0, 1]\\nclass = SEVERE'),\n Text(0.125, 0.1, 'gini = 0.0\\nsamples = 9\\nvalue = [9, 0]\\nclass = MILD'),\n Text(0.125, 0.23333333333333334, 'gini = 0.0\\nsamples = 231\\nvalue = [231, 0]\\nclass = MILD'),\n Text(0.22916666666666666, 0.3, 'DifficultyInBreathing <= 76.35\\ngini = 0.081\\nsamples = 71\\nvalue = [68, 3]\\nclass = MILD'),\n Text(0.19444444444444445, 0.23333333333333334, 'Glucose <= 0.955\\ngini = 0.056\\nsamples = 69\\nvalue = [67, 2]\\nclass = MILD'),\n Text(0.16666666666666666, 0.16666666666666666, 'DaysFever <= 3.81\\ngini = 0.444\\nsamples = 3\\nvalue = [2, 1]\\nclass = MILD'),\n Text(0.1527777777777778, 0.1, 'gini = 0.0\\nsamples = 1\\nvalue = [0, 1]\\nclass = SEVERE'),\n Text(0.18055555555555555, 0.1, 'gini = 0.0\\nsamples = 2\\nvalue = [2, 0]\\nclass = MILD'),\n Text(0.2222222222222222, 0.16666666666666666, 'Age <= 38.9\\ngini = 0.03\\nsamples = 66\\nvalue = [65, 1]\\nclass = MILD'),\n Text(0.20833333333333334, 0.1, 'gini = 0.0\\nsamples = 61\\nvalue = [61, 0]\\nclass = MILD'),\n Text(0.2361111111111111, 0.1, 'CRP <= 79.675\\ngini = 0.32\\nsamples = 5\\nvalue = [4, 1]\\nclass = MILD'),\n Text(0.2222222222222222, 0.03333333333333333, 'gini = 0.0\\nsamples = 1\\nvalue = [0, 1]\\nclass = SEVERE'),\n Text(0.25, 0.03333333333333333, 'gini = 0.0\\nsamples = 4\\nvalue = [4, 0]\\nclass = MILD'),\n Text(0.2638888888888889, 0.23333333333333334, 'DaysFever <= 7.475\\ngini = 0.5\\nsamples = 2\\nvalue = [1, 1]\\nclass = MILD'),\n Text(0.25, 0.16666666666666666, 'gini = 0.0\\nsamples = 1\\nvalue = [0, 1]\\nclass = SEVERE'),\n Text(0.2777777777777778, 0.16666666666666666, 'gini = 0.0\\nsamples = 1\\nvalue = [1, 0]\\nclass = MILD'),\n Text(0.2847222222222222, 0.5, 'Ox_percentage <= 31.85\\ngini = 0.145\\nsamples = 38\\nvalue = [35, 3]\\nclass = MILD'),\n Text(0.2708333333333333, 0.43333333333333335, 'gini = 0.0\\nsamples = 23\\nvalue = [23, 0]\\nclass = MILD'),\n Text(0.2986111111111111, 0.43333333333333335, 'Ox_percentage <= 32.05\\ngini = 0.32\\nsamples = 15\\nvalue = [12, 3]\\nclass = MILD'),\n Text(0.2708333333333333, 0.36666666666666664, 'Fibrinogen <= 340.0\\ngini = 0.444\\nsamples = 3\\nvalue = [1, 2]\\nclass = SEVERE'),\n Text(0.2569444444444444, 0.3, 'gini = 0.0\\nsamples = 2\\nvalue = [0, 2]\\nclass = SEVERE'),\n Text(0.2847222222222222, 0.3, 'gini = 0.0\\nsamples = 1\\nvalue = [1, 0]\\nclass = MILD'),\n Text(0.3263888888888889, 0.36666666666666664, 'DifficultyInBreathing <= 85.95\\ngini = 0.153\\nsamples = 12\\nvalue = [11, 1]\\nclass = MILD'),\n Text(0.3125, 0.3, 'gini = 0.0\\nsamples = 11\\nvalue = [11, 0]\\nclass = MILD'),\n Text(0.3402777777777778, 0.3, 'gini = 0.0\\nsamples = 1\\nvalue = [0, 1]\\nclass = SEVERE'),\n Text(0.3263888888888889, 0.5666666666666667, 'DifficultyInBreathing <= 31.35\\ngini = 0.375\\nsamples = 8\\nvalue = [6, 2]\\nclass = MILD'),\n Text(0.3125, 0.5, 'gini = 0.0\\nsamples = 6\\nvalue = [6, 0]\\nclass = MILD'),\n Text(0.3402777777777778, 0.5, 'gini = 0.0\\nsamples = 2\\nvalue = [0, 2]\\nclass = SEVERE'),\n Text(0.2805989583333333, 0.6333333333333333, 'gini = 0.0\\nsamples = 1\\nvalue = [0, 1]\\nclass = SEVERE'),\n Text(0.2944878472222222, 0.7, 'gini = 0.0\\nsamples = 1\\nvalue = [0, 1]\\nclass = SEVERE'),\n Text(0.4305555555555556, 0.7666666666666667, 'Glucose <= 1.085\\ngini = 0.29\\nsamples = 74\\nvalue = [61, 13]\\nclass = MILD'),\n Text(0.3958333333333333, 0.7, 'DifficultyInBreathing <= 9.83\\ngini = 0.488\\nsamples = 19\\nvalue = [11, 8]\\nclass = MILD'),\n Text(0.3680555555555556, 0.6333333333333333, 'LDH <= 72.938\\ngini = 0.346\\nsamples = 9\\nvalue = [2, 7]\\nclass = SEVERE'),\n Text(0.3541666666666667, 0.5666666666666667, 'gini = 0.0\\nsamples = 6\\nvalue = [0, 6]\\nclass = SEVERE'),\n Text(0.3819444444444444, 0.5666666666666667, 'Fibrinogen <= 365.5\\ngini = 0.444\\nsamples = 3\\nvalue = [2, 1]\\nclass = MILD'),\n Text(0.3680555555555556, 0.5, 'gini = 0.0\\nsamples = 1\\nvalue = [0, 1]\\nclass = SEVERE'),\n Text(0.3958333333333333, 0.5, 'gini = 0.0\\nsamples = 2\\nvalue = [2, 0]\\nclass = MILD'),\n Text(0.4236111111111111, 0.6333333333333333, 'Fibrinogen <= 468.0\\ngini = 0.18\\nsamples = 10\\nvalue = [9, 1]\\nclass = MILD'),\n Text(0.4097222222222222, 0.5666666666666667, 'gini = 0.0\\nsamples = 8\\nvalue = [8, 0]\\nclass = MILD'),\n Text(0.4375, 0.5666666666666667, 'Ox_percentage <= 32.45\\ngini = 0.5\\nsamples = 2\\nvalue = [1, 1]\\nclass = MILD'),\n Text(0.4236111111111111, 0.5, 'gini = 0.0\\nsamples = 1\\nvalue = [0, 1]\\nclass = SEVERE'),\n Text(0.4513888888888889, 0.5, 'gini = 0.0\\nsamples = 1\\nvalue = [1, 0]\\nclass = MILD'),\n Text(0.4652777777777778, 0.7, 'Cough <= 4.575\\ngini = 0.165\\nsamples = 55\\nvalue = [50, 5]\\nclass = MILD'),\n Text(0.4513888888888889, 0.6333333333333333, 'gini = 0.0\\nsamples = 30\\nvalue = [30, 0]\\nclass = MILD'),\n Text(0.4791666666666667, 0.6333333333333333, 'Row_number <= 61.5\\ngini = 0.32\\nsamples = 25\\nvalue = [20, 5]\\nclass = MILD'),\n Text(0.4652777777777778, 0.5666666666666667, 'gini = 0.0\\nsamples = 13\\nvalue = [13, 0]\\nclass = MILD'),\n Text(0.4930555555555556, 0.5666666666666667, 'CRP <= 0.205\\ngini = 0.486\\nsamples = 12\\nvalue = [7, 5]\\nclass = MILD'),\n Text(0.4791666666666667, 0.5, 'gini = 0.0\\nsamples = 3\\nvalue = [0, 3]\\nclass = SEVERE'),\n Text(0.5069444444444444, 0.5, 'Ox_percentage <= 34.3\\ngini = 0.346\\nsamples = 9\\nvalue = [7, 2]\\nclass = MILD'),\n Text(0.4930555555555556, 0.43333333333333335, 'gini = 0.0\\nsamples = 6\\nvalue = [6, 0]\\nclass = MILD'),\n Text(0.5208333333333334, 0.43333333333333335, 'WBC <= 375.495\\ngini = 0.444\\nsamples = 3\\nvalue = [1, 2]\\nclass = SEVERE'),\n Text(0.5069444444444444, 0.36666666666666664, 'gini = 0.0\\nsamples = 2\\nvalue = [0, 2]\\nclass = SEVERE'),\n Text(0.5347222222222222, 0.36666666666666664, 'gini = 0.0\\nsamples = 1\\nvalue = [1, 0]\\nclass = MILD'),\n Text(0.4722222222222222, 0.8333333333333334, 'Cancer <= 30.744\\ngini = 0.48\\nsamples = 5\\nvalue = [2, 3]\\nclass = SEVERE'),\n Text(0.4583333333333333, 0.7666666666666667, 'gini = 0.0\\nsamples = 3\\nvalue = [0, 3]\\nclass = SEVERE'),\n Text(0.4861111111111111, 0.7666666666666667, 'gini = 0.0\\nsamples = 2\\nvalue = [2, 0]\\nclass = MILD'),\n Text(0.6055772569444444, 0.9, 'DaysFever <= 3.265\\ngini = 0.072\\nsamples = 511\\nvalue = [19, 492]\\nclass = SEVERE'),\n Text(0.5416666666666666, 0.8333333333333334, 'AtrialFibrillation <= 0.5\\ngini = 0.337\\nsamples = 28\\nvalue = [6, 22]\\nclass = SEVERE'),\n Text(0.5138888888888888, 0.7666666666666667, 'DaysFever <= 2.765\\ngini = 0.469\\nsamples = 8\\nvalue = [5, 3]\\nclass = MILD'),\n Text(0.5, 0.7, 'gini = 0.0\\nsamples = 3\\nvalue = [0, 3]\\nclass = SEVERE'),\n Text(0.5277777777777778, 0.7, 'gini = 0.0\\nsamples = 5\\nvalue = [5, 0]\\nclass = MILD'),\n Text(0.5694444444444444, 0.7666666666666667, 'PCT <= 2879.5\\ngini = 0.095\\nsamples = 20\\nvalue = [1, 19]\\nclass = SEVERE'),\n Text(0.5555555555555556, 0.7, 'gini = 0.0\\nsamples = 19\\nvalue = [0, 19]\\nclass = SEVERE'),\n Text(0.5833333333333334, 0.7, 'gini = 0.0\\nsamples = 1\\nvalue = [1, 0]\\nclass = MILD'),\n Text(0.6694878472222222, 0.8333333333333334, 'Row_number <= 38.0\\ngini = 0.052\\nsamples = 483\\nvalue = [13, 470]\\nclass = SEVERE'),\n Text(0.625, 0.7666666666666667, 'Cough <= 5.22\\ngini = 0.32\\nsamples = 10\\nvalue = [2, 8]\\nclass = SEVERE'),\n Text(0.6111111111111112, 0.7, 'gini = 0.0\\nsamples = 8\\nvalue = [0, 8]\\nclass = SEVERE'),\n Text(0.6388888888888888, 0.7, 'gini = 0.0\\nsamples = 2\\nvalue = [2, 0]\\nclass = MILD'),\n Text(0.7139756944444444, 0.7666666666666667, 'Glucose <= 0.935\\ngini = 0.045\\nsamples = 473\\nvalue = [11, 462]\\nclass = SEVERE'),\n Text(0.6666666666666666, 0.7, 'IschemicHeartDisease <= 15.612\\ngini = 0.444\\nsamples = 3\\nvalue = [1, 2]\\nclass = SEVERE'),\n Text(0.6527777777777778, 0.6333333333333333, 'gini = 0.0\\nsamples = 2\\nvalue = [0, 2]\\nclass = SEVERE'),\n Text(0.6805555555555556, 0.6333333333333333, 'gini = 0.0\\nsamples = 1\\nvalue = [1, 0]\\nclass = MILD'),\n Text(0.7612847222222222, 0.7, 'Cough <= 3.25\\ngini = 0.042\\nsamples = 470\\nvalue = [10, 460]\\nclass = SEVERE'),\n Text(0.7083333333333334, 0.6333333333333333, 'CRP <= 338.0\\ngini = 0.185\\nsamples = 29\\nvalue = [3, 26]\\nclass = SEVERE'),\n Text(0.6944444444444444, 0.5666666666666667, 'LDH <= 98.5\\ngini = 0.133\\nsamples = 28\\nvalue = [2, 26]\\nclass = SEVERE'),\n Text(0.6805555555555556, 0.5, 'WBC <= 632.5\\ngini = 0.071\\nsamples = 27\\nvalue = [1, 26]\\nclass = SEVERE'),\n Text(0.6666666666666666, 0.43333333333333335, 'gini = 0.0\\nsamples = 24\\nvalue = [0, 24]\\nclass = SEVERE'),\n Text(0.6944444444444444, 0.43333333333333335, 'Cancer <= 30.744\\ngini = 0.444\\nsamples = 3\\nvalue = [1, 2]\\nclass = SEVERE'),\n Text(0.6805555555555556, 0.36666666666666664, 'gini = 0.0\\nsamples = 1\\nvalue = [1, 0]\\nclass = MILD'),\n Text(0.7083333333333334, 0.36666666666666664, 'gini = 0.0\\nsamples = 2\\nvalue = [0, 2]\\nclass = SEVERE'),\n Text(0.7083333333333334, 0.5, 'gini = 0.0\\nsamples = 1\\nvalue = [1, 0]\\nclass = MILD'),\n Text(0.7222222222222222, 0.5666666666666667, 'gini = 0.0\\nsamples = 1\\nvalue = [1, 0]\\nclass = MILD'),\n Text(0.8142361111111112, 0.6333333333333333, 'Cough <= 5.105\\ngini = 0.031\\nsamples = 441\\nvalue = [7, 434]\\nclass = SEVERE'),\n Text(0.75, 0.5666666666666667, 'Row_number <= 83.832\\ngini = 0.012\\nsamples = 337\\nvalue = [2, 335]\\nclass = SEVERE'),\n Text(0.7361111111111112, 0.5, 'gini = 0.0\\nsamples = 293\\nvalue = [0, 293]\\nclass = SEVERE'),\n Text(0.7638888888888888, 0.5, 'Age <= 35.006\\ngini = 0.087\\nsamples = 44\\nvalue = [2, 42]\\nclass = SEVERE'),\n Text(0.75, 0.43333333333333335, 'gini = 0.0\\nsamples = 1\\nvalue = [1, 0]\\nclass = MILD'),\n Text(0.7777777777777778, 0.43333333333333335, 'Cough <= 4.92\\ngini = 0.045\\nsamples = 43\\nvalue = [1, 42]\\nclass = SEVERE'),\n Text(0.7638888888888888, 0.36666666666666664, 'gini = 0.0\\nsamples = 38\\nvalue = [0, 38]\\nclass = SEVERE'),\n Text(0.7916666666666666, 0.36666666666666664, 'Row_number <= 84.5\\ngini = 0.32\\nsamples = 5\\nvalue = [1, 4]\\nclass = SEVERE'),\n Text(0.7777777777777778, 0.3, 'gini = 0.0\\nsamples = 1\\nvalue = [1, 0]\\nclass = MILD'),\n Text(0.8055555555555556, 0.3, 'gini = 0.0\\nsamples = 4\\nvalue = [0, 4]\\nclass = SEVERE'),\n Text(0.8784722222222222, 0.5666666666666667, 'Cough <= 5.115\\ngini = 0.092\\nsamples = 104\\nvalue = [5, 99]\\nclass = SEVERE'),\n Text(0.8333333333333334, 0.5, 'Ox_percentage <= 22.441\\ngini = 0.5\\nsamples = 2\\nvalue = [1, 1]\\nclass = MILD'),\n Text(0.8194444444444444, 0.43333333333333335, 'gini = 0.0\\nsamples = 1\\nvalue = [1, 0]\\nclass = MILD'),\n Text(0.8472222222222222, 0.43333333333333335, 'gini = 0.0\\nsamples = 1\\nvalue = [0, 1]\\nclass = SEVERE'),\n Text(0.9236111111111112, 0.5, 'Row_number <= 54.5\\ngini = 0.075\\nsamples = 102\\nvalue = [4, 98]\\nclass = SEVERE'),\n Text(0.875, 0.43333333333333335, 'pH <= 0.5\\ngini = 0.204\\nsamples = 26\\nvalue = [3, 23]\\nclass = SEVERE'),\n Text(0.8472222222222222, 0.36666666666666664, 'RBC <= 260.0\\ngini = 0.083\\nsamples = 23\\nvalue = [1, 22]\\nclass = SEVERE'),\n Text(0.8333333333333334, 0.3, 'gini = 0.0\\nsamples = 22\\nvalue = [0, 22]\\nclass = SEVERE'),\n Text(0.8611111111111112, 0.3, 'gini = 0.0\\nsamples = 1\\nvalue = [1, 0]\\nclass = MILD'),\n Text(0.9027777777777778, 0.36666666666666664, 'PCT <= 279.5\\ngini = 0.444\\nsamples = 3\\nvalue = [2, 1]\\nclass = MILD'),\n Text(0.8888888888888888, 0.3, 'gini = 0.0\\nsamples = 2\\nvalue = [2, 0]\\nclass = MILD'),\n Text(0.9166666666666666, 0.3, 'gini = 0.0\\nsamples = 1\\nvalue = [0, 1]\\nclass = SEVERE'),\n Text(0.9722222222222222, 0.43333333333333335, 'Age <= 35.006\\ngini = 0.026\\nsamples = 76\\nvalue = [1, 75]\\nclass = SEVERE'),\n Text(0.9583333333333334, 0.36666666666666664, 'INR <= 75.0\\ngini = 0.375\\nsamples = 4\\nvalue = [1, 3]\\nclass = SEVERE'),\n Text(0.9444444444444444, 0.3, 'gini = 0.0\\nsamples = 3\\nvalue = [0, 3]\\nclass = SEVERE'),\n Text(0.9722222222222222, 0.3, 'gini = 0.0\\nsamples = 1\\nvalue = [1, 0]\\nclass = MILD'),\n Text(0.9861111111111112, 0.36666666666666664, 'gini = 0.0\\nsamples = 72\\nvalue = [0, 72]\\nclass = SEVERE')]"
     },
     "execution_count": 37,
     "metadata": {},
     "output_type": "execute_result"
    },
    {
     "data": {
      "text/plain": "<Figure size 432x288 with 1 Axes>",
      "image/png": "[encoded data removed]"
     },
     "metadata": {
      "needs_background": "light"
     },
     "output_type": "display_data"
    }
   ],
   "source": [
    "plot_tree(dt,\n",
    "          feature_names = df.columns[:],\n",
    "          class_names=['MILD', 'SEVERE'],\n",
    "          rounded=True,\n",
    "          filled = True)"
   ],
   "metadata": {
    "collapsed": false,
    "pycharm": {
     "name": "#%%\n"
    }
   }
  },
  {
   "cell_type": "code",
   "execution_count": null,
   "outputs": [],
   "source": [
    "# da eseguire su Colab\n",
    "'''\n",
    "viz = dtreeviz(dt,\n",
    "               x_data=X_train,\n",
    "               y_data=y_train,\n",
    "               target_name='class',\n",
    "               feature_names=df.columns[:],\n",
    "               class_names=['MILD', 'SEVERE'],\n",
    "               title=\"Decision Tree\")\n",
    "viz\n",
    "'''"
   ],
   "metadata": {
    "collapsed": false,
    "pycharm": {
     "name": "#%%\n"
    }
   }
  },
  {
   "cell_type": "markdown",
   "source": [
    "## 1.3 merge 2 dt"
   ],
   "metadata": {
    "collapsed": false
   }
  },
  {
   "cell_type": "markdown",
   "source": [
    "Ripartire aprendo di nuovo i dati e seguendo il codice utilizzato prima"
   ],
   "metadata": {
    "collapsed": false
   }
  },
  {
   "cell_type": "code",
   "execution_count": 16,
   "outputs": [
    {
     "name": "stdout",
     "output_type": "stream",
     "text": [
      "(1103, 41)\n"
     ]
    },
    {
     "data": {
      "text/plain": "   Row_number  ImageFile Hospital   Age  Sex  PositivityAtAdmission  Temp_C  \\\n0           1    P_1.png        A  38.0    0                    1.0    36.0   \n1         900  P_1_1.png        F  96.0    0                    1.0    36.0   \n2         901  P_1_2.png        F  62.0    1                    1.0     NaN   \n3         902  P_1_3.png        F  57.0    1                    1.0    39.0   \n4         903  P_1_4.png        F  41.0    1                    1.0     NaN   \n\n   DaysFever  Cough  DifficultyInBreathing  ...  Dementia  BPCO  Cancer  \\\n0        4.0    1.0                    0.0  ...       0.0   0.0     0.0   \n1        1.0    0.0                    0.0  ...       1.0   0.0     0.0   \n2        4.0    1.0                    0.0  ...       0.0   0.0     0.0   \n3        2.0    0.0                    0.0  ...       0.0   0.0     0.0   \n4        NaN    0.0                    0.0  ...       0.0   0.0     0.0   \n\n   ChronicKidneyDisease  RespiratoryFailure  Obesity  Position  Prognosis  \\\n0                   0.0                 0.0      0.0       1.0       MILD   \n1                   0.0                 0.0      NaN       1.0       MILD   \n2                   1.0                 0.0      NaN       1.0       MILD   \n3                   1.0                 0.0      NaN       1.0     SEVERE   \n4                   0.0                 0.0      NaN       1.0     SEVERE   \n\n   Death  pred_class  \n0      0           0  \n1      0           0  \n2      0           0  \n3      0           1  \n4      0           1  \n\n[5 rows x 41 columns]",
      "text/html": "<div>\n<style scoped>\n    .dataframe tbody tr th:only-of-type {\n        vertical-align: middle;\n    }\n\n    .dataframe tbody tr th {\n        vertical-align: top;\n    }\n\n    .dataframe thead th {\n        text-align: right;\n    }\n</style>\n<table border=\"1\" class=\"dataframe\">\n  <thead>\n    <tr style=\"text-align: right;\">\n      <th></th>\n      <th>Row_number</th>\n      <th>ImageFile</th>\n      <th>Hospital</th>\n      <th>Age</th>\n      <th>Sex</th>\n      <th>PositivityAtAdmission</th>\n      <th>Temp_C</th>\n      <th>DaysFever</th>\n      <th>Cough</th>\n      <th>DifficultyInBreathing</th>\n      <th>...</th>\n      <th>Dementia</th>\n      <th>BPCO</th>\n      <th>Cancer</th>\n      <th>ChronicKidneyDisease</th>\n      <th>RespiratoryFailure</th>\n      <th>Obesity</th>\n      <th>Position</th>\n      <th>Prognosis</th>\n      <th>Death</th>\n      <th>pred_class</th>\n    </tr>\n  </thead>\n  <tbody>\n    <tr>\n      <th>0</th>\n      <td>1</td>\n      <td>P_1.png</td>\n      <td>A</td>\n      <td>38.0</td>\n      <td>0</td>\n      <td>1.0</td>\n      <td>36.0</td>\n      <td>4.0</td>\n      <td>1.0</td>\n      <td>0.0</td>\n      <td>...</td>\n      <td>0.0</td>\n      <td>0.0</td>\n      <td>0.0</td>\n      <td>0.0</td>\n      <td>0.0</td>\n      <td>0.0</td>\n      <td>1.0</td>\n      <td>MILD</td>\n      <td>0</td>\n      <td>0</td>\n    </tr>\n    <tr>\n      <th>1</th>\n      <td>900</td>\n      <td>P_1_1.png</td>\n      <td>F</td>\n      <td>96.0</td>\n      <td>0</td>\n      <td>1.0</td>\n      <td>36.0</td>\n      <td>1.0</td>\n      <td>0.0</td>\n      <td>0.0</td>\n      <td>...</td>\n      <td>1.0</td>\n      <td>0.0</td>\n      <td>0.0</td>\n      <td>0.0</td>\n      <td>0.0</td>\n      <td>NaN</td>\n      <td>1.0</td>\n      <td>MILD</td>\n      <td>0</td>\n      <td>0</td>\n    </tr>\n    <tr>\n      <th>2</th>\n      <td>901</td>\n      <td>P_1_2.png</td>\n      <td>F</td>\n      <td>62.0</td>\n      <td>1</td>\n      <td>1.0</td>\n      <td>NaN</td>\n      <td>4.0</td>\n      <td>1.0</td>\n      <td>0.0</td>\n      <td>...</td>\n      <td>0.0</td>\n      <td>0.0</td>\n      <td>0.0</td>\n      <td>1.0</td>\n      <td>0.0</td>\n      <td>NaN</td>\n      <td>1.0</td>\n      <td>MILD</td>\n      <td>0</td>\n      <td>0</td>\n    </tr>\n    <tr>\n      <th>3</th>\n      <td>902</td>\n      <td>P_1_3.png</td>\n      <td>F</td>\n      <td>57.0</td>\n      <td>1</td>\n      <td>1.0</td>\n      <td>39.0</td>\n      <td>2.0</td>\n      <td>0.0</td>\n      <td>0.0</td>\n      <td>...</td>\n      <td>0.0</td>\n      <td>0.0</td>\n      <td>0.0</td>\n      <td>1.0</td>\n      <td>0.0</td>\n      <td>NaN</td>\n      <td>1.0</td>\n      <td>SEVERE</td>\n      <td>0</td>\n      <td>1</td>\n    </tr>\n    <tr>\n      <th>4</th>\n      <td>903</td>\n      <td>P_1_4.png</td>\n      <td>F</td>\n      <td>41.0</td>\n      <td>1</td>\n      <td>1.0</td>\n      <td>NaN</td>\n      <td>NaN</td>\n      <td>0.0</td>\n      <td>0.0</td>\n      <td>...</td>\n      <td>0.0</td>\n      <td>0.0</td>\n      <td>0.0</td>\n      <td>0.0</td>\n      <td>0.0</td>\n      <td>NaN</td>\n      <td>1.0</td>\n      <td>SEVERE</td>\n      <td>0</td>\n      <td>1</td>\n    </tr>\n  </tbody>\n</table>\n<p>5 rows × 41 columns</p>\n</div>"
     },
     "execution_count": 16,
     "metadata": {},
     "output_type": "execute_result"
    }
   ],
   "source": [
    "df_order= pd.read_excel(r'Train_order_imagEval.xlsx', index_col=0)\n",
    "print(df_order.shape) # 1103, 41\n",
    "df_order.head(5)"
   ],
   "metadata": {
    "collapsed": false,
    "pycharm": {
     "name": "#%%\n"
    }
   }
  },
  {
   "cell_type": "code",
   "execution_count": 16,
   "outputs": [],
   "source": [],
   "metadata": {
    "collapsed": false,
    "pycharm": {
     "name": "#%%\n"
    }
   }
  },
  {
   "cell_type": "code",
   "execution_count": 17,
   "outputs": [
    {
     "data": {
      "text/plain": "array(['MILD', 'SEVERE'], dtype=object)"
     },
     "execution_count": 17,
     "metadata": {},
     "output_type": "execute_result"
    }
   ],
   "source": [
    "le = preprocessing.LabelEncoder()\n",
    "y=le.fit_transform(df_order.Prognosis)\n",
    "le.classes_"
   ],
   "metadata": {
    "collapsed": false,
    "pycharm": {
     "name": "#%%\n"
    }
   }
  },
  {
   "cell_type": "code",
   "execution_count": 18,
   "outputs": [
    {
     "data": {
      "text/plain": "(1103,)"
     },
     "execution_count": 18,
     "metadata": {},
     "output_type": "execute_result"
    }
   ],
   "source": [
    "y.shape"
   ],
   "metadata": {
    "collapsed": false,
    "pycharm": {
     "name": "#%%\n"
    }
   }
  },
  {
   "cell_type": "code",
   "execution_count": 19,
   "outputs": [],
   "source": [
    "df_order.drop(['Row_number', 'Death', 'Prognosis', 'ImageFile', 'Hospital'], axis=1 , inplace=True)"
   ],
   "metadata": {
    "collapsed": false,
    "pycharm": {
     "name": "#%%\n"
    }
   }
  },
  {
   "cell_type": "code",
   "execution_count": 20,
   "outputs": [
    {
     "name": "stdout",
     "output_type": "stream",
     "text": [
      "{'Age': 9.918571428571427, 'Sex': 695.0230303030304, 'PositivityAtAdmission': 41.838928571428575, 'Temp_C': 34.01285714285715, 'DaysFever': 306.0446153846154, 'Cough': 19.341481481481484, 'DifficultyInBreathing': 2021.768947368421, 'WBC': 26.646785714285716, 'RBC': 50.385, 'CRP': 37.056774193548385, 'Fibrinogen': 50.990833333333335, 'Glucose': 37.181851851851846, 'PCT': 223.83222222222224, 'LDH': 38.33, 'INR': 141.8551612903226, 'D_dimer': 85.64096774193548, 'Ox_percentage': 49.87655172413793, 'PaO2': 27.102962962962962, 'SaO2': 116.33107142857143, 'PaCO2': 13.882608695652175, 'pH': 21.68857142857143, 'CardiovascularDisease': 31.10896551724138, 'IschemicHeartDisease': 39.98096774193548, 'AtrialFibrillation': 62.74827586206897, 'HeartFailure': 15.463076923076922, 'Ictus': 31.224687499999998, 'HighBloodPressure': 114.20875000000001, 'Diabetes': 12.686153846153845, 'Dementia': 17.0051724137931, 'BPCO': 18.22769230769231, 'Cancer': 7.655, 'ChronicKidneyDisease': 45.266666666666666, 'RespiratoryFailure': 57.230606060606064, 'Obesity': 60.48793103448277, 'Position': 18.104827586206895, 'pred_class': 50.288387096774194}\n"
     ]
    }
   ],
   "source": [
    "mean_value= []\n",
    "for i in range(df_order.shape[1]):\n",
    "    mean= df_order.iloc[i].mean()\n",
    "    mean_value.append(mean)\n",
    "\n",
    "values= {}\n",
    "\n",
    "for counter, value in enumerate(df_order.keys()):\n",
    "    values[value] = mean_value[counter]\n",
    "print(values)"
   ],
   "metadata": {
    "collapsed": false,
    "pycharm": {
     "name": "#%%\n"
    }
   }
  },
  {
   "cell_type": "code",
   "execution_count": 21,
   "outputs": [
    {
     "data": {
      "text/plain": "    Age  Sex  PositivityAtAdmission     Temp_C   DaysFever  Cough  \\\n0  38.0    0                    1.0  36.000000    4.000000    1.0   \n1  96.0    0                    1.0  36.000000    1.000000    0.0   \n2  62.0    1                    1.0  34.012857    4.000000    1.0   \n3  57.0    1                    1.0  39.000000    2.000000    0.0   \n4  41.0    1                    1.0  34.012857  306.044615    0.0   \n\n   DifficultyInBreathing   WBC   RBC    CRP  ...  HighBloodPressure  Diabetes  \\\n0                    0.0  4.29  4.74   0.28  ...                0.0       0.0   \n1                    0.0  8.80  4.16   8.77  ...                0.0       0.0   \n2                    0.0  8.90  3.02   0.60  ...                1.0       1.0   \n3                    0.0  9.10  3.32  12.51  ...                0.0       0.0   \n4                    0.0  7.90  3.61  15.79  ...                1.0       1.0   \n\n   Dementia  BPCO  Cancer  ChronicKidneyDisease  RespiratoryFailure  \\\n0       0.0   0.0     0.0                   0.0                 0.0   \n1       1.0   0.0     0.0                   0.0                 0.0   \n2       0.0   0.0     0.0                   1.0                 0.0   \n3       0.0   0.0     0.0                   1.0                 0.0   \n4       0.0   0.0     0.0                   0.0                 0.0   \n\n     Obesity  Position  pred_class  \n0   0.000000       1.0           0  \n1  60.487931       1.0           0  \n2  60.487931       1.0           0  \n3  60.487931       1.0           1  \n4  60.487931       1.0           1  \n\n[5 rows x 36 columns]",
      "text/html": "<div>\n<style scoped>\n    .dataframe tbody tr th:only-of-type {\n        vertical-align: middle;\n    }\n\n    .dataframe tbody tr th {\n        vertical-align: top;\n    }\n\n    .dataframe thead th {\n        text-align: right;\n    }\n</style>\n<table border=\"1\" class=\"dataframe\">\n  <thead>\n    <tr style=\"text-align: right;\">\n      <th></th>\n      <th>Age</th>\n      <th>Sex</th>\n      <th>PositivityAtAdmission</th>\n      <th>Temp_C</th>\n      <th>DaysFever</th>\n      <th>Cough</th>\n      <th>DifficultyInBreathing</th>\n      <th>WBC</th>\n      <th>RBC</th>\n      <th>CRP</th>\n      <th>...</th>\n      <th>HighBloodPressure</th>\n      <th>Diabetes</th>\n      <th>Dementia</th>\n      <th>BPCO</th>\n      <th>Cancer</th>\n      <th>ChronicKidneyDisease</th>\n      <th>RespiratoryFailure</th>\n      <th>Obesity</th>\n      <th>Position</th>\n      <th>pred_class</th>\n    </tr>\n  </thead>\n  <tbody>\n    <tr>\n      <th>0</th>\n      <td>38.0</td>\n      <td>0</td>\n      <td>1.0</td>\n      <td>36.000000</td>\n      <td>4.000000</td>\n      <td>1.0</td>\n      <td>0.0</td>\n      <td>4.29</td>\n      <td>4.74</td>\n      <td>0.28</td>\n      <td>...</td>\n      <td>0.0</td>\n      <td>0.0</td>\n      <td>0.0</td>\n      <td>0.0</td>\n      <td>0.0</td>\n      <td>0.0</td>\n      <td>0.0</td>\n      <td>0.000000</td>\n      <td>1.0</td>\n      <td>0</td>\n    </tr>\n    <tr>\n      <th>1</th>\n      <td>96.0</td>\n      <td>0</td>\n      <td>1.0</td>\n      <td>36.000000</td>\n      <td>1.000000</td>\n      <td>0.0</td>\n      <td>0.0</td>\n      <td>8.80</td>\n      <td>4.16</td>\n      <td>8.77</td>\n      <td>...</td>\n      <td>0.0</td>\n      <td>0.0</td>\n      <td>1.0</td>\n      <td>0.0</td>\n      <td>0.0</td>\n      <td>0.0</td>\n      <td>0.0</td>\n      <td>60.487931</td>\n      <td>1.0</td>\n      <td>0</td>\n    </tr>\n    <tr>\n      <th>2</th>\n      <td>62.0</td>\n      <td>1</td>\n      <td>1.0</td>\n      <td>34.012857</td>\n      <td>4.000000</td>\n      <td>1.0</td>\n      <td>0.0</td>\n      <td>8.90</td>\n      <td>3.02</td>\n      <td>0.60</td>\n      <td>...</td>\n      <td>1.0</td>\n      <td>1.0</td>\n      <td>0.0</td>\n      <td>0.0</td>\n      <td>0.0</td>\n      <td>1.0</td>\n      <td>0.0</td>\n      <td>60.487931</td>\n      <td>1.0</td>\n      <td>0</td>\n    </tr>\n    <tr>\n      <th>3</th>\n      <td>57.0</td>\n      <td>1</td>\n      <td>1.0</td>\n      <td>39.000000</td>\n      <td>2.000000</td>\n      <td>0.0</td>\n      <td>0.0</td>\n      <td>9.10</td>\n      <td>3.32</td>\n      <td>12.51</td>\n      <td>...</td>\n      <td>0.0</td>\n      <td>0.0</td>\n      <td>0.0</td>\n      <td>0.0</td>\n      <td>0.0</td>\n      <td>1.0</td>\n      <td>0.0</td>\n      <td>60.487931</td>\n      <td>1.0</td>\n      <td>1</td>\n    </tr>\n    <tr>\n      <th>4</th>\n      <td>41.0</td>\n      <td>1</td>\n      <td>1.0</td>\n      <td>34.012857</td>\n      <td>306.044615</td>\n      <td>0.0</td>\n      <td>0.0</td>\n      <td>7.90</td>\n      <td>3.61</td>\n      <td>15.79</td>\n      <td>...</td>\n      <td>1.0</td>\n      <td>1.0</td>\n      <td>0.0</td>\n      <td>0.0</td>\n      <td>0.0</td>\n      <td>0.0</td>\n      <td>0.0</td>\n      <td>60.487931</td>\n      <td>1.0</td>\n      <td>1</td>\n    </tr>\n  </tbody>\n</table>\n<p>5 rows × 36 columns</p>\n</div>"
     },
     "execution_count": 21,
     "metadata": {},
     "output_type": "execute_result"
    }
   ],
   "source": [
    "df_order= df_order.fillna(value=values)\n",
    "df_order.head(5)"
   ],
   "metadata": {
    "collapsed": false,
    "pycharm": {
     "name": "#%%\n"
    }
   }
  },
  {
   "cell_type": "code",
   "execution_count": 22,
   "outputs": [
    {
     "name": "stdout",
     "output_type": "stream",
     "text": [
      "<class 'pandas.core.frame.DataFrame'>\n",
      "Int64Index: 1103 entries, 0 to 1102\n",
      "Data columns (total 36 columns):\n",
      " #   Column                 Non-Null Count  Dtype  \n",
      "---  ------                 --------------  -----  \n",
      " 0   Age                    1103 non-null   float64\n",
      " 1   Sex                    1103 non-null   int64  \n",
      " 2   PositivityAtAdmission  1103 non-null   float64\n",
      " 3   Temp_C                 1103 non-null   float64\n",
      " 4   DaysFever              1103 non-null   float64\n",
      " 5   Cough                  1103 non-null   float64\n",
      " 6   DifficultyInBreathing  1103 non-null   float64\n",
      " 7   WBC                    1103 non-null   float64\n",
      " 8   RBC                    1103 non-null   float64\n",
      " 9   CRP                    1103 non-null   float64\n",
      " 10  Fibrinogen             1103 non-null   float64\n",
      " 11  Glucose                1103 non-null   float64\n",
      " 12  PCT                    1103 non-null   float64\n",
      " 13  LDH                    1103 non-null   float64\n",
      " 14  INR                    1103 non-null   float64\n",
      " 15  D_dimer                1103 non-null   float64\n",
      " 16  Ox_percentage          1103 non-null   float64\n",
      " 17  PaO2                   1103 non-null   float64\n",
      " 18  SaO2                   1103 non-null   float64\n",
      " 19  PaCO2                  1103 non-null   float64\n",
      " 20  pH                     1103 non-null   float64\n",
      " 21  CardiovascularDisease  1103 non-null   float64\n",
      " 22  IschemicHeartDisease   1103 non-null   float64\n",
      " 23  AtrialFibrillation     1103 non-null   float64\n",
      " 24  HeartFailure           1103 non-null   float64\n",
      " 25  Ictus                  1103 non-null   float64\n",
      " 26  HighBloodPressure      1103 non-null   float64\n",
      " 27  Diabetes               1103 non-null   float64\n",
      " 28  Dementia               1103 non-null   float64\n",
      " 29  BPCO                   1103 non-null   float64\n",
      " 30  Cancer                 1103 non-null   float64\n",
      " 31  ChronicKidneyDisease   1103 non-null   float64\n",
      " 32  RespiratoryFailure     1103 non-null   float64\n",
      " 33  Obesity                1103 non-null   float64\n",
      " 34  Position               1103 non-null   float64\n",
      " 35  pred_class             1103 non-null   int64  \n",
      "dtypes: float64(34), int64(2)\n",
      "memory usage: 318.8 KB\n"
     ]
    }
   ],
   "source": [
    "df_order.info()"
   ],
   "metadata": {
    "collapsed": false,
    "pycharm": {
     "name": "#%%\n"
    }
   }
  },
  {
   "cell_type": "markdown",
   "source": [
    "separare i due alberi"
   ],
   "metadata": {
    "collapsed": false
   }
  },
  {
   "cell_type": "code",
   "execution_count": 23,
   "outputs": [],
   "source": [
    "X_train, X_test, y_train, y_test = train_test_split(df_order, y, test_size=0.1, random_state=2,\n",
    "                                                    shuffle=False)"
   ],
   "metadata": {
    "collapsed": false,
    "pycharm": {
     "name": "#%%\n"
    }
   }
  },
  {
   "cell_type": "code",
   "execution_count": null,
   "outputs": [],
   "source": [],
   "metadata": {
    "collapsed": false,
    "pycharm": {
     "name": "#%%\n"
    }
   }
  },
  {
   "cell_type": "code",
   "execution_count": 28,
   "outputs": [
    {
     "data": {
      "text/plain": "            Age  Sex  PositivityAtAdmission  Temp_C   DaysFever  Cough  \\\n567   71.000000    0                    0.0    37.7    1.000000    0.0   \n1039  58.000000    1                    1.0    36.3    4.000000    1.0   \n1020  48.000000    0                    1.0    37.0    4.000000    1.0   \n970   80.000000    1                    1.0    37.0  306.044615    0.0   \n284   80.197125    1                    1.0    36.5  306.044615    0.0   \n\n      DifficultyInBreathing   WBC   RBC    CRP  ...      Ictus  \\\n567                     0.0  6.96  5.14  71.60  ...   1.000000   \n1039                    1.0  6.60  4.30   2.78  ...   0.000000   \n1020                    1.0  5.39  4.54  12.06  ...   0.000000   \n970                     1.0  5.60  4.43   8.02  ...   0.000000   \n284                     1.0  3.42  3.84   5.74  ...  31.224687   \n\n      HighBloodPressure   Diabetes   Dementia       BPCO  Cancer  \\\n567             1.00000   1.000000   0.000000   0.000000   0.000   \n1039            1.00000   0.000000   0.000000   0.000000   0.000   \n1020            1.00000   0.000000   0.000000   0.000000   0.000   \n970             1.00000   0.000000   0.000000   0.000000   0.000   \n284           114.20875  12.686154  17.005172  18.227692   7.655   \n\n      ChronicKidneyDisease  RespiratoryFailure    Obesity   Position  \n567               0.000000            0.000000   0.000000   0.000000  \n1039              0.000000            0.000000   0.000000   0.000000  \n1020              0.000000            0.000000  60.487931   1.000000  \n970               0.000000            0.000000   0.000000   1.000000  \n284              45.266667           57.230606  60.487931  18.104828  \n\n[5 rows x 35 columns]",
      "text/html": "<div>\n<style scoped>\n    .dataframe tbody tr th:only-of-type {\n        vertical-align: middle;\n    }\n\n    .dataframe tbody tr th {\n        vertical-align: top;\n    }\n\n    .dataframe thead th {\n        text-align: right;\n    }\n</style>\n<table border=\"1\" class=\"dataframe\">\n  <thead>\n    <tr style=\"text-align: right;\">\n      <th></th>\n      <th>Age</th>\n      <th>Sex</th>\n      <th>PositivityAtAdmission</th>\n      <th>Temp_C</th>\n      <th>DaysFever</th>\n      <th>Cough</th>\n      <th>DifficultyInBreathing</th>\n      <th>WBC</th>\n      <th>RBC</th>\n      <th>CRP</th>\n      <th>...</th>\n      <th>Ictus</th>\n      <th>HighBloodPressure</th>\n      <th>Diabetes</th>\n      <th>Dementia</th>\n      <th>BPCO</th>\n      <th>Cancer</th>\n      <th>ChronicKidneyDisease</th>\n      <th>RespiratoryFailure</th>\n      <th>Obesity</th>\n      <th>Position</th>\n    </tr>\n  </thead>\n  <tbody>\n    <tr>\n      <th>567</th>\n      <td>71.000000</td>\n      <td>0</td>\n      <td>0.0</td>\n      <td>37.7</td>\n      <td>1.000000</td>\n      <td>0.0</td>\n      <td>0.0</td>\n      <td>6.96</td>\n      <td>5.14</td>\n      <td>71.60</td>\n      <td>...</td>\n      <td>1.000000</td>\n      <td>1.00000</td>\n      <td>1.000000</td>\n      <td>0.000000</td>\n      <td>0.000000</td>\n      <td>0.000</td>\n      <td>0.000000</td>\n      <td>0.000000</td>\n      <td>0.000000</td>\n      <td>0.000000</td>\n    </tr>\n    <tr>\n      <th>1039</th>\n      <td>58.000000</td>\n      <td>1</td>\n      <td>1.0</td>\n      <td>36.3</td>\n      <td>4.000000</td>\n      <td>1.0</td>\n      <td>1.0</td>\n      <td>6.60</td>\n      <td>4.30</td>\n      <td>2.78</td>\n      <td>...</td>\n      <td>0.000000</td>\n      <td>1.00000</td>\n      <td>0.000000</td>\n      <td>0.000000</td>\n      <td>0.000000</td>\n      <td>0.000</td>\n      <td>0.000000</td>\n      <td>0.000000</td>\n      <td>0.000000</td>\n      <td>0.000000</td>\n    </tr>\n    <tr>\n      <th>1020</th>\n      <td>48.000000</td>\n      <td>0</td>\n      <td>1.0</td>\n      <td>37.0</td>\n      <td>4.000000</td>\n      <td>1.0</td>\n      <td>1.0</td>\n      <td>5.39</td>\n      <td>4.54</td>\n      <td>12.06</td>\n      <td>...</td>\n      <td>0.000000</td>\n      <td>1.00000</td>\n      <td>0.000000</td>\n      <td>0.000000</td>\n      <td>0.000000</td>\n      <td>0.000</td>\n      <td>0.000000</td>\n      <td>0.000000</td>\n      <td>60.487931</td>\n      <td>1.000000</td>\n    </tr>\n    <tr>\n      <th>970</th>\n      <td>80.000000</td>\n      <td>1</td>\n      <td>1.0</td>\n      <td>37.0</td>\n      <td>306.044615</td>\n      <td>0.0</td>\n      <td>1.0</td>\n      <td>5.60</td>\n      <td>4.43</td>\n      <td>8.02</td>\n      <td>...</td>\n      <td>0.000000</td>\n      <td>1.00000</td>\n      <td>0.000000</td>\n      <td>0.000000</td>\n      <td>0.000000</td>\n      <td>0.000</td>\n      <td>0.000000</td>\n      <td>0.000000</td>\n      <td>0.000000</td>\n      <td>1.000000</td>\n    </tr>\n    <tr>\n      <th>284</th>\n      <td>80.197125</td>\n      <td>1</td>\n      <td>1.0</td>\n      <td>36.5</td>\n      <td>306.044615</td>\n      <td>0.0</td>\n      <td>1.0</td>\n      <td>3.42</td>\n      <td>3.84</td>\n      <td>5.74</td>\n      <td>...</td>\n      <td>31.224687</td>\n      <td>114.20875</td>\n      <td>12.686154</td>\n      <td>17.005172</td>\n      <td>18.227692</td>\n      <td>7.655</td>\n      <td>45.266667</td>\n      <td>57.230606</td>\n      <td>60.487931</td>\n      <td>18.104828</td>\n    </tr>\n  </tbody>\n</table>\n<p>5 rows × 35 columns</p>\n</div>"
     },
     "execution_count": 28,
     "metadata": {},
     "output_type": "execute_result"
    }
   ],
   "source": [
    "X_train.head(5)"
   ],
   "metadata": {
    "collapsed": false,
    "pycharm": {
     "name": "#%%\n"
    }
   }
  },
  {
   "cell_type": "code",
   "execution_count": 29,
   "outputs": [
    {
     "data": {
      "text/plain": "           Age  Sex  PositivityAtAdmission  Temp_C   DaysFever  Cough  \\\n287  52.000000    0                    1.0    38.3    2.000000    1.0   \n738  78.000000    0                    1.0    38.1    4.000000    0.0   \n440  89.000000    1                    0.0    38.5    1.000000    0.0   \n197  71.466119    1                    1.0    36.8  306.044615    0.0   \n263  79.392197    0                    1.0    37.9  306.044615    0.0   \n\n     DifficultyInBreathing    WBC   RBC     CRP  ...      Ictus  \\\n287                    1.0   3.47  6.05    1.12  ...   0.000000   \n738                    0.0   5.00  3.87   13.21  ...   0.000000   \n440                    1.0  26.63  2.90  344.50  ...   0.000000   \n197                    1.0   8.67  3.49    0.57  ...  31.224687   \n263                    1.0   9.96  5.58   15.60  ...  31.224687   \n\n     HighBloodPressure   Diabetes   Dementia       BPCO  Cancer  \\\n287            0.00000   1.000000   0.000000   0.000000   0.000   \n738            1.00000   0.000000   0.000000   0.000000   0.000   \n440            1.00000   1.000000   0.000000   1.000000   0.000   \n197          114.20875  12.686154  17.005172  18.227692   7.655   \n263          114.20875  12.686154  17.005172  18.227692   7.655   \n\n     ChronicKidneyDisease  RespiratoryFailure    Obesity   Position  \n287              0.000000            0.000000   0.000000   1.000000  \n738              0.000000            0.000000   0.000000   1.000000  \n440              0.000000           57.230606  60.487931   1.000000  \n197             45.266667           57.230606  60.487931  18.104828  \n263             45.266667           57.230606  60.487931  18.104828  \n\n[5 rows x 35 columns]",
      "text/html": "<div>\n<style scoped>\n    .dataframe tbody tr th:only-of-type {\n        vertical-align: middle;\n    }\n\n    .dataframe tbody tr th {\n        vertical-align: top;\n    }\n\n    .dataframe thead th {\n        text-align: right;\n    }\n</style>\n<table border=\"1\" class=\"dataframe\">\n  <thead>\n    <tr style=\"text-align: right;\">\n      <th></th>\n      <th>Age</th>\n      <th>Sex</th>\n      <th>PositivityAtAdmission</th>\n      <th>Temp_C</th>\n      <th>DaysFever</th>\n      <th>Cough</th>\n      <th>DifficultyInBreathing</th>\n      <th>WBC</th>\n      <th>RBC</th>\n      <th>CRP</th>\n      <th>...</th>\n      <th>Ictus</th>\n      <th>HighBloodPressure</th>\n      <th>Diabetes</th>\n      <th>Dementia</th>\n      <th>BPCO</th>\n      <th>Cancer</th>\n      <th>ChronicKidneyDisease</th>\n      <th>RespiratoryFailure</th>\n      <th>Obesity</th>\n      <th>Position</th>\n    </tr>\n  </thead>\n  <tbody>\n    <tr>\n      <th>287</th>\n      <td>52.000000</td>\n      <td>0</td>\n      <td>1.0</td>\n      <td>38.3</td>\n      <td>2.000000</td>\n      <td>1.0</td>\n      <td>1.0</td>\n      <td>3.47</td>\n      <td>6.05</td>\n      <td>1.12</td>\n      <td>...</td>\n      <td>0.000000</td>\n      <td>0.00000</td>\n      <td>1.000000</td>\n      <td>0.000000</td>\n      <td>0.000000</td>\n      <td>0.000</td>\n      <td>0.000000</td>\n      <td>0.000000</td>\n      <td>0.000000</td>\n      <td>1.000000</td>\n    </tr>\n    <tr>\n      <th>738</th>\n      <td>78.000000</td>\n      <td>0</td>\n      <td>1.0</td>\n      <td>38.1</td>\n      <td>4.000000</td>\n      <td>0.0</td>\n      <td>0.0</td>\n      <td>5.00</td>\n      <td>3.87</td>\n      <td>13.21</td>\n      <td>...</td>\n      <td>0.000000</td>\n      <td>1.00000</td>\n      <td>0.000000</td>\n      <td>0.000000</td>\n      <td>0.000000</td>\n      <td>0.000</td>\n      <td>0.000000</td>\n      <td>0.000000</td>\n      <td>0.000000</td>\n      <td>1.000000</td>\n    </tr>\n    <tr>\n      <th>440</th>\n      <td>89.000000</td>\n      <td>1</td>\n      <td>0.0</td>\n      <td>38.5</td>\n      <td>1.000000</td>\n      <td>0.0</td>\n      <td>1.0</td>\n      <td>26.63</td>\n      <td>2.90</td>\n      <td>344.50</td>\n      <td>...</td>\n      <td>0.000000</td>\n      <td>1.00000</td>\n      <td>1.000000</td>\n      <td>0.000000</td>\n      <td>1.000000</td>\n      <td>0.000</td>\n      <td>0.000000</td>\n      <td>57.230606</td>\n      <td>60.487931</td>\n      <td>1.000000</td>\n    </tr>\n    <tr>\n      <th>197</th>\n      <td>71.466119</td>\n      <td>1</td>\n      <td>1.0</td>\n      <td>36.8</td>\n      <td>306.044615</td>\n      <td>0.0</td>\n      <td>1.0</td>\n      <td>8.67</td>\n      <td>3.49</td>\n      <td>0.57</td>\n      <td>...</td>\n      <td>31.224687</td>\n      <td>114.20875</td>\n      <td>12.686154</td>\n      <td>17.005172</td>\n      <td>18.227692</td>\n      <td>7.655</td>\n      <td>45.266667</td>\n      <td>57.230606</td>\n      <td>60.487931</td>\n      <td>18.104828</td>\n    </tr>\n    <tr>\n      <th>263</th>\n      <td>79.392197</td>\n      <td>0</td>\n      <td>1.0</td>\n      <td>37.9</td>\n      <td>306.044615</td>\n      <td>0.0</td>\n      <td>1.0</td>\n      <td>9.96</td>\n      <td>5.58</td>\n      <td>15.60</td>\n      <td>...</td>\n      <td>31.224687</td>\n      <td>114.20875</td>\n      <td>12.686154</td>\n      <td>17.005172</td>\n      <td>18.227692</td>\n      <td>7.655</td>\n      <td>45.266667</td>\n      <td>57.230606</td>\n      <td>60.487931</td>\n      <td>18.104828</td>\n    </tr>\n  </tbody>\n</table>\n<p>5 rows × 35 columns</p>\n</div>"
     },
     "execution_count": 29,
     "metadata": {},
     "output_type": "execute_result"
    }
   ],
   "source": [
    "X_test.head(5)"
   ],
   "metadata": {
    "collapsed": false,
    "pycharm": {
     "name": "#%%\n"
    }
   }
  },
  {
   "cell_type": "code",
   "execution_count": null,
   "outputs": [],
   "source": [],
   "metadata": {
    "collapsed": false,
    "pycharm": {
     "name": "#%%\n"
    }
   }
  },
  {
   "cell_type": "code",
   "execution_count": 26,
   "outputs": [
    {
     "data": {
      "text/plain": "(111,)"
     },
     "execution_count": 26,
     "metadata": {},
     "output_type": "execute_result"
    }
   ],
   "source": [
    "img_pred_class = X_test.pred_class\n",
    "img_pred_class.shape"
   ],
   "metadata": {
    "collapsed": false,
    "pycharm": {
     "name": "#%%\n"
    }
   }
  },
  {
   "cell_type": "code",
   "execution_count": 27,
   "outputs": [],
   "source": [
    "X_test.drop(['pred_class'], axis=1 , inplace=True)\n",
    "X_train.drop(['pred_class'], axis=1 , inplace=True)"
   ],
   "metadata": {
    "collapsed": false,
    "pycharm": {
     "name": "#%%\n"
    }
   }
  },
  {
   "cell_type": "markdown",
   "source": [
    "### primo albero"
   ],
   "metadata": {
    "collapsed": false
   }
  },
  {
   "cell_type": "code",
   "execution_count": 30,
   "outputs": [
    {
     "name": "stdout",
     "output_type": "stream",
     "text": [
      "test:  0.6126126126126126\n"
     ]
    }
   ],
   "source": [
    "dt= DecisionTreeClassifier()\n",
    "dt.fit(X_train, y_train)\n",
    "\n",
    "pred_test= dt.predict(X_test)\n",
    "print('test: ', accuracy_score(y_test, pred_test) )"
   ],
   "metadata": {
    "collapsed": false,
    "pycharm": {
     "name": "#%%\n"
    }
   }
  },
  {
   "cell_type": "code",
   "execution_count": null,
   "outputs": [],
   "source": [],
   "metadata": {
    "collapsed": false,
    "pycharm": {
     "name": "#%%\n"
    }
   }
  },
  {
   "cell_type": "code",
   "execution_count": 31,
   "outputs": [
    {
     "data": {
      "text/plain": "   image_pred  dt_pred\n0           1        1\n1           1        1\n2           0        1\n3           0        1\n4           1        1",
      "text/html": "<div>\n<style scoped>\n    .dataframe tbody tr th:only-of-type {\n        vertical-align: middle;\n    }\n\n    .dataframe tbody tr th {\n        vertical-align: top;\n    }\n\n    .dataframe thead th {\n        text-align: right;\n    }\n</style>\n<table border=\"1\" class=\"dataframe\">\n  <thead>\n    <tr style=\"text-align: right;\">\n      <th></th>\n      <th>image_pred</th>\n      <th>dt_pred</th>\n    </tr>\n  </thead>\n  <tbody>\n    <tr>\n      <th>0</th>\n      <td>1</td>\n      <td>1</td>\n    </tr>\n    <tr>\n      <th>1</th>\n      <td>1</td>\n      <td>1</td>\n    </tr>\n    <tr>\n      <th>2</th>\n      <td>0</td>\n      <td>1</td>\n    </tr>\n    <tr>\n      <th>3</th>\n      <td>0</td>\n      <td>1</td>\n    </tr>\n    <tr>\n      <th>4</th>\n      <td>1</td>\n      <td>1</td>\n    </tr>\n  </tbody>\n</table>\n</div>"
     },
     "execution_count": 31,
     "metadata": {},
     "output_type": "execute_result"
    }
   ],
   "source": [
    "df_final = pd.DataFrame(list(zip(img_pred_class, pred_test)), columns=['image_pred', 'dt_pred'])\n",
    "df_final.head()"
   ],
   "metadata": {
    "collapsed": false,
    "pycharm": {
     "name": "#%%\n"
    }
   }
  },
  {
   "cell_type": "code",
   "execution_count": 33,
   "outputs": [],
   "source": [
    "X_train_f, X_test_f, y_train_f, y_test_f = train_test_split(df_final, y_test,\n",
    "                                                            test_size=0.2, random_state=2,\n",
    "                                                            shuffle=False)"
   ],
   "metadata": {
    "collapsed": false,
    "pycharm": {
     "name": "#%%\n"
    }
   }
  },
  {
   "cell_type": "code",
   "execution_count": 34,
   "outputs": [
    {
     "name": "stdout",
     "output_type": "stream",
     "text": [
      "test:  1.0\n"
     ]
    }
   ],
   "source": [
    "dt= DecisionTreeClassifier()\n",
    "dt.fit(X_train_f, y_train_f)\n",
    "\n",
    "pred_test= dt.predict(X_test_f)\n",
    "print('test: ', accuracy_score(y_test_f, pred_test) )"
   ],
   "metadata": {
    "collapsed": false,
    "pycharm": {
     "name": "#%%\n"
    }
   }
  },
  {
   "cell_type": "code",
   "execution_count": null,
   "outputs": [],
   "source": [],
   "metadata": {
    "collapsed": false,
    "pycharm": {
     "name": "#%%\n"
    }
   }
  },
  {
   "cell_type": "code",
   "execution_count": 35,
   "outputs": [
    {
     "name": "stdout",
     "output_type": "stream",
     "text": [
      "test:  0.7837837837837838\n"
     ]
    }
   ],
   "source": [
    "randomforest= RandomForestClassifier(n_estimators=1000)\n",
    "randomforest.fit(X_train, y_train)\n",
    "\n",
    "pred_test= randomforest.predict(X_test)\n",
    "print('test: ', accuracy_score(y_test, pred_test) )"
   ],
   "metadata": {
    "collapsed": false,
    "pycharm": {
     "name": "#%%\n"
    }
   }
  },
  {
   "cell_type": "code",
   "execution_count": 36,
   "outputs": [],
   "source": [
    "df_final = pd.DataFrame(list(zip(img_pred_class, pred_test)), columns=['image_pred', 'dt_pred'])"
   ],
   "metadata": {
    "collapsed": false,
    "pycharm": {
     "name": "#%%\n"
    }
   }
  },
  {
   "cell_type": "code",
   "execution_count": 37,
   "outputs": [],
   "source": [
    "X_train_f, X_test_f, y_train_f, y_test_f = train_test_split(df_final, y_test,\n",
    "                                                            test_size=0.2, random_state=2,\n",
    "                                                            shuffle=False)"
   ],
   "metadata": {
    "collapsed": false,
    "pycharm": {
     "name": "#%%\n"
    }
   }
  },
  {
   "cell_type": "code",
   "execution_count": 38,
   "outputs": [
    {
     "name": "stdout",
     "output_type": "stream",
     "text": [
      "test:  1.0\n"
     ]
    }
   ],
   "source": [
    "randomforest= RandomForestClassifier(n_estimators=1000)\n",
    "randomforest.fit(X_train_f, y_train_f)\n",
    "\n",
    "pred_test= randomforest.predict(X_test_f)\n",
    "print('test: ', accuracy_score(y_test_f, pred_test) )"
   ],
   "metadata": {
    "collapsed": false,
    "pycharm": {
     "name": "#%%\n"
    }
   }
  },
  {
   "cell_type": "code",
   "execution_count": 39,
   "outputs": [
    {
     "data": {
      "text/plain": "array([1, 0, 0, 0, 0, 0, 0, 1, 1, 1, 1, 1, 0, 0, 0, 1, 0, 0, 0, 1, 0, 1,\n       0])"
     },
     "execution_count": 39,
     "metadata": {},
     "output_type": "execute_result"
    }
   ],
   "source": [
    "pred_test"
   ],
   "metadata": {
    "collapsed": false,
    "pycharm": {
     "name": "#%%\n"
    }
   }
  },
  {
   "cell_type": "code",
   "execution_count": null,
   "outputs": [],
   "source": [],
   "metadata": {
    "collapsed": false,
    "pycharm": {
     "name": "#%%\n"
    }
   }
  }
 ],
 "metadata": {
  "kernelspec": {
   "display_name": "Python 3 (ipykernel)",
   "language": "python",
   "name": "python3"
  },
  "language_info": {
   "codemirror_mode": {
    "name": "ipython",
    "version": 3
   },
   "file_extension": ".py",
   "mimetype": "text/x-python",
   "name": "python",
   "nbconvert_exporter": "python",
   "pygments_lexer": "ipython3",
   "version": "3.8.12"
  }
 },
 "nbformat": 4,
 "nbformat_minor": 1
}