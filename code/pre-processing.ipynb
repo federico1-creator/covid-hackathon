{
 "cells": [
  {
   "cell_type": "markdown",
   "metadata": {},
   "source": [
    "Data analysis of the data"
   ]
  },
  {
   "cell_type": "markdown",
   "metadata": {},
   "source": [
    "### prognosis\n",
    "\n",
    "lieve=mild\n",
    "\n",
    "death no in the test set"
   ]
  },
  {
   "cell_type": "markdown",
   "metadata": {},
   "source": [
    "[intro video](https://covidcxr-hackathon.slack.com/files/U03010UC79D/F031AKQC3EJ/hackathon_presentation_v2.mp4) "
   ]
  },
  {
   "cell_type": "markdown",
   "metadata": {},
   "source": [
    "ensemble.AdaBoostClassifier\n",
    "\n",
    "ensemble.BaggingClassifier\n",
    "\n",
    "ensemble.RandomForestClassifier"
   ]
  },
  {
   "cell_type": "code",
   "execution_count": 1,
   "metadata": {},
   "outputs": [],
   "source": [
    "import pandas as pd\n",
    "import numpy as np\n",
    "from PIL import Image\n",
    "import os\n",
    "from sklearn import preprocessing"
   ]
  },
  {
   "cell_type": "markdown",
   "metadata": {},
   "source": [
    "## Clinical data"
   ]
  },
  {
   "cell_type": "code",
   "execution_count": 2,
   "metadata": {},
   "outputs": [
    {
     "name": "stdout",
     "output_type": "stream",
     "text": [
      "(1103, 40)\n"
     ]
    },
    {
     "data": {
      "text/html": [
       "<div>\n",
       "<style scoped>\n",
       "    .dataframe tbody tr th:only-of-type {\n",
       "        vertical-align: middle;\n",
       "    }\n",
       "\n",
       "    .dataframe tbody tr th {\n",
       "        vertical-align: top;\n",
       "    }\n",
       "\n",
       "    .dataframe thead th {\n",
       "        text-align: right;\n",
       "    }\n",
       "</style>\n",
       "<table border=\"1\" class=\"dataframe\">\n",
       "  <thead>\n",
       "    <tr style=\"text-align: right;\">\n",
       "      <th></th>\n",
       "      <th>Row_number</th>\n",
       "      <th>ImageFile</th>\n",
       "      <th>Hospital</th>\n",
       "      <th>Age</th>\n",
       "      <th>Sex</th>\n",
       "      <th>PositivityAtAdmission</th>\n",
       "      <th>Temp_C</th>\n",
       "      <th>DaysFever</th>\n",
       "      <th>Cough</th>\n",
       "      <th>DifficultyInBreathing</th>\n",
       "      <th>...</th>\n",
       "      <th>Diabetes</th>\n",
       "      <th>Dementia</th>\n",
       "      <th>BPCO</th>\n",
       "      <th>Cancer</th>\n",
       "      <th>ChronicKidneyDisease</th>\n",
       "      <th>RespiratoryFailure</th>\n",
       "      <th>Obesity</th>\n",
       "      <th>Position</th>\n",
       "      <th>Prognosis</th>\n",
       "      <th>Death</th>\n",
       "    </tr>\n",
       "  </thead>\n",
       "  <tbody>\n",
       "    <tr>\n",
       "      <th>0</th>\n",
       "      <td>82</td>\n",
       "      <td>P_102.png</td>\n",
       "      <td>A</td>\n",
       "      <td>72.000000</td>\n",
       "      <td>1</td>\n",
       "      <td>1.0</td>\n",
       "      <td>37.3</td>\n",
       "      <td>3.0</td>\n",
       "      <td>1.0</td>\n",
       "      <td>0.0</td>\n",
       "      <td>...</td>\n",
       "      <td>0.0</td>\n",
       "      <td>0.0</td>\n",
       "      <td>0.0</td>\n",
       "      <td>1.0</td>\n",
       "      <td>0.0</td>\n",
       "      <td>0.0</td>\n",
       "      <td>0.0</td>\n",
       "      <td>0.0</td>\n",
       "      <td>SEVERE</td>\n",
       "      <td>0</td>\n",
       "    </tr>\n",
       "    <tr>\n",
       "      <th>1</th>\n",
       "      <td>228</td>\n",
       "      <td>P_131.png</td>\n",
       "      <td>D</td>\n",
       "      <td>35.913889</td>\n",
       "      <td>0</td>\n",
       "      <td>1.0</td>\n",
       "      <td>39.3</td>\n",
       "      <td>3.0</td>\n",
       "      <td>1.0</td>\n",
       "      <td>0.0</td>\n",
       "      <td>...</td>\n",
       "      <td>0.0</td>\n",
       "      <td>0.0</td>\n",
       "      <td>0.0</td>\n",
       "      <td>0.0</td>\n",
       "      <td>0.0</td>\n",
       "      <td>NaN</td>\n",
       "      <td>1.0</td>\n",
       "      <td>0.0</td>\n",
       "      <td>MILD</td>\n",
       "      <td>0</td>\n",
       "    </tr>\n",
       "    <tr>\n",
       "      <th>2</th>\n",
       "      <td>229</td>\n",
       "      <td>P_132.png</td>\n",
       "      <td>D</td>\n",
       "      <td>57.266667</td>\n",
       "      <td>0</td>\n",
       "      <td>1.0</td>\n",
       "      <td>37.0</td>\n",
       "      <td>3.0</td>\n",
       "      <td>0.0</td>\n",
       "      <td>0.0</td>\n",
       "      <td>...</td>\n",
       "      <td>0.0</td>\n",
       "      <td>0.0</td>\n",
       "      <td>0.0</td>\n",
       "      <td>0.0</td>\n",
       "      <td>0.0</td>\n",
       "      <td>NaN</td>\n",
       "      <td>NaN</td>\n",
       "      <td>0.0</td>\n",
       "      <td>MILD</td>\n",
       "      <td>0</td>\n",
       "    </tr>\n",
       "    <tr>\n",
       "      <th>3</th>\n",
       "      <td>96</td>\n",
       "      <td>P_117.png</td>\n",
       "      <td>A</td>\n",
       "      <td>39.000000</td>\n",
       "      <td>1</td>\n",
       "      <td>1.0</td>\n",
       "      <td>37.2</td>\n",
       "      <td>2.0</td>\n",
       "      <td>1.0</td>\n",
       "      <td>0.0</td>\n",
       "      <td>...</td>\n",
       "      <td>0.0</td>\n",
       "      <td>0.0</td>\n",
       "      <td>0.0</td>\n",
       "      <td>0.0</td>\n",
       "      <td>0.0</td>\n",
       "      <td>0.0</td>\n",
       "      <td>0.0</td>\n",
       "      <td>1.0</td>\n",
       "      <td>MILD</td>\n",
       "      <td>0</td>\n",
       "    </tr>\n",
       "    <tr>\n",
       "      <th>4</th>\n",
       "      <td>112</td>\n",
       "      <td>P_16.png</td>\n",
       "      <td>A</td>\n",
       "      <td>44.000000</td>\n",
       "      <td>0</td>\n",
       "      <td>1.0</td>\n",
       "      <td>38.0</td>\n",
       "      <td>3.0</td>\n",
       "      <td>1.0</td>\n",
       "      <td>0.0</td>\n",
       "      <td>...</td>\n",
       "      <td>0.0</td>\n",
       "      <td>0.0</td>\n",
       "      <td>0.0</td>\n",
       "      <td>0.0</td>\n",
       "      <td>0.0</td>\n",
       "      <td>0.0</td>\n",
       "      <td>0.0</td>\n",
       "      <td>0.0</td>\n",
       "      <td>SEVERE</td>\n",
       "      <td>0</td>\n",
       "    </tr>\n",
       "  </tbody>\n",
       "</table>\n",
       "<p>5 rows × 40 columns</p>\n",
       "</div>"
      ],
      "text/plain": [
       "   Row_number  ImageFile Hospital        Age  Sex  PositivityAtAdmission  \\\n",
       "0          82  P_102.png        A  72.000000    1                    1.0   \n",
       "1         228  P_131.png        D  35.913889    0                    1.0   \n",
       "2         229  P_132.png        D  57.266667    0                    1.0   \n",
       "3          96  P_117.png        A  39.000000    1                    1.0   \n",
       "4         112   P_16.png        A  44.000000    0                    1.0   \n",
       "\n",
       "   Temp_C  DaysFever  Cough  DifficultyInBreathing  ...  Diabetes  Dementia  \\\n",
       "0    37.3        3.0    1.0                    0.0  ...       0.0       0.0   \n",
       "1    39.3        3.0    1.0                    0.0  ...       0.0       0.0   \n",
       "2    37.0        3.0    0.0                    0.0  ...       0.0       0.0   \n",
       "3    37.2        2.0    1.0                    0.0  ...       0.0       0.0   \n",
       "4    38.0        3.0    1.0                    0.0  ...       0.0       0.0   \n",
       "\n",
       "   BPCO  Cancer  ChronicKidneyDisease  RespiratoryFailure  Obesity  Position  \\\n",
       "0   0.0     1.0                   0.0                 0.0      0.0       0.0   \n",
       "1   0.0     0.0                   0.0                 NaN      1.0       0.0   \n",
       "2   0.0     0.0                   0.0                 NaN      NaN       0.0   \n",
       "3   0.0     0.0                   0.0                 0.0      0.0       1.0   \n",
       "4   0.0     0.0                   0.0                 0.0      0.0       0.0   \n",
       "\n",
       "   Prognosis  Death  \n",
       "0     SEVERE      0  \n",
       "1       MILD      0  \n",
       "2       MILD      0  \n",
       "3       MILD      0  \n",
       "4     SEVERE      0  \n",
       "\n",
       "[5 rows x 40 columns]"
      ]
     },
     "execution_count": 2,
     "metadata": {},
     "output_type": "execute_result"
    }
   ],
   "source": [
    "data_path= r'TrainSet/trainClinData.xls'\n",
    "df= pd.read_excel(data_path)\n",
    "print(df.shape)\n",
    "df.head()"
   ]
  },
  {
   "cell_type": "markdown",
   "metadata": {},
   "source": [
    "## Break"
   ]
  },
  {
   "cell_type": "code",
   "execution_count": null,
   "metadata": {},
   "outputs": [],
   "source": [
    "df.select_dtypes(\"int64\")\n",
    "df.select_dtypes(\"float\")"
   ]
  },
  {
   "cell_type": "code",
   "execution_count": 43,
   "metadata": {},
   "outputs": [
    {
     "data": {
      "text/html": [
       "<div>\n",
       "<style scoped>\n",
       "    .dataframe tbody tr th:only-of-type {\n",
       "        vertical-align: middle;\n",
       "    }\n",
       "\n",
       "    .dataframe tbody tr th {\n",
       "        vertical-align: top;\n",
       "    }\n",
       "\n",
       "    .dataframe thead th {\n",
       "        text-align: right;\n",
       "    }\n",
       "</style>\n",
       "<table border=\"1\" class=\"dataframe\">\n",
       "  <thead>\n",
       "    <tr style=\"text-align: right;\">\n",
       "      <th></th>\n",
       "      <th>Age</th>\n",
       "      <th>PositivityAtAdmission</th>\n",
       "      <th>Temp_C</th>\n",
       "      <th>DaysFever</th>\n",
       "      <th>Cough</th>\n",
       "      <th>DifficultyInBreathing</th>\n",
       "      <th>WBC</th>\n",
       "      <th>RBC</th>\n",
       "      <th>CRP</th>\n",
       "      <th>Fibrinogen</th>\n",
       "      <th>...</th>\n",
       "      <th>HighBloodPressure</th>\n",
       "      <th>Diabetes</th>\n",
       "      <th>Dementia</th>\n",
       "      <th>BPCO</th>\n",
       "      <th>Cancer</th>\n",
       "      <th>ChronicKidneyDisease</th>\n",
       "      <th>RespiratoryFailure</th>\n",
       "      <th>Obesity</th>\n",
       "      <th>Position</th>\n",
       "      <th>Sex</th>\n",
       "    </tr>\n",
       "  </thead>\n",
       "  <tbody>\n",
       "    <tr>\n",
       "      <th>0</th>\n",
       "      <td>72.000000</td>\n",
       "      <td>1.0</td>\n",
       "      <td>37.3</td>\n",
       "      <td>3.0</td>\n",
       "      <td>1.0</td>\n",
       "      <td>0.0</td>\n",
       "      <td>5.37</td>\n",
       "      <td>4.58</td>\n",
       "      <td>3.96</td>\n",
       "      <td>NaN</td>\n",
       "      <td>...</td>\n",
       "      <td>0.0</td>\n",
       "      <td>0.0</td>\n",
       "      <td>0.0</td>\n",
       "      <td>0.0</td>\n",
       "      <td>1.0</td>\n",
       "      <td>0.0</td>\n",
       "      <td>0.0</td>\n",
       "      <td>0.0</td>\n",
       "      <td>0.0</td>\n",
       "      <td>1</td>\n",
       "    </tr>\n",
       "    <tr>\n",
       "      <th>1</th>\n",
       "      <td>35.913889</td>\n",
       "      <td>1.0</td>\n",
       "      <td>39.3</td>\n",
       "      <td>3.0</td>\n",
       "      <td>1.0</td>\n",
       "      <td>0.0</td>\n",
       "      <td>5.76</td>\n",
       "      <td>5.24</td>\n",
       "      <td>43.40</td>\n",
       "      <td>651.0</td>\n",
       "      <td>...</td>\n",
       "      <td>1.0</td>\n",
       "      <td>0.0</td>\n",
       "      <td>0.0</td>\n",
       "      <td>0.0</td>\n",
       "      <td>0.0</td>\n",
       "      <td>0.0</td>\n",
       "      <td>NaN</td>\n",
       "      <td>1.0</td>\n",
       "      <td>0.0</td>\n",
       "      <td>0</td>\n",
       "    </tr>\n",
       "    <tr>\n",
       "      <th>2</th>\n",
       "      <td>57.266667</td>\n",
       "      <td>1.0</td>\n",
       "      <td>37.0</td>\n",
       "      <td>3.0</td>\n",
       "      <td>0.0</td>\n",
       "      <td>0.0</td>\n",
       "      <td>11.48</td>\n",
       "      <td>5.71</td>\n",
       "      <td>64.00</td>\n",
       "      <td>700.0</td>\n",
       "      <td>...</td>\n",
       "      <td>0.0</td>\n",
       "      <td>0.0</td>\n",
       "      <td>0.0</td>\n",
       "      <td>0.0</td>\n",
       "      <td>0.0</td>\n",
       "      <td>0.0</td>\n",
       "      <td>NaN</td>\n",
       "      <td>NaN</td>\n",
       "      <td>0.0</td>\n",
       "      <td>0</td>\n",
       "    </tr>\n",
       "    <tr>\n",
       "      <th>3</th>\n",
       "      <td>39.000000</td>\n",
       "      <td>1.0</td>\n",
       "      <td>37.2</td>\n",
       "      <td>2.0</td>\n",
       "      <td>1.0</td>\n",
       "      <td>0.0</td>\n",
       "      <td>10.17</td>\n",
       "      <td>3.45</td>\n",
       "      <td>0.75</td>\n",
       "      <td>NaN</td>\n",
       "      <td>...</td>\n",
       "      <td>0.0</td>\n",
       "      <td>0.0</td>\n",
       "      <td>0.0</td>\n",
       "      <td>0.0</td>\n",
       "      <td>0.0</td>\n",
       "      <td>0.0</td>\n",
       "      <td>0.0</td>\n",
       "      <td>0.0</td>\n",
       "      <td>1.0</td>\n",
       "      <td>1</td>\n",
       "    </tr>\n",
       "    <tr>\n",
       "      <th>4</th>\n",
       "      <td>44.000000</td>\n",
       "      <td>1.0</td>\n",
       "      <td>38.0</td>\n",
       "      <td>3.0</td>\n",
       "      <td>1.0</td>\n",
       "      <td>0.0</td>\n",
       "      <td>6.64</td>\n",
       "      <td>5.55</td>\n",
       "      <td>5.20</td>\n",
       "      <td>NaN</td>\n",
       "      <td>...</td>\n",
       "      <td>0.0</td>\n",
       "      <td>0.0</td>\n",
       "      <td>0.0</td>\n",
       "      <td>0.0</td>\n",
       "      <td>0.0</td>\n",
       "      <td>0.0</td>\n",
       "      <td>0.0</td>\n",
       "      <td>0.0</td>\n",
       "      <td>0.0</td>\n",
       "      <td>0</td>\n",
       "    </tr>\n",
       "    <tr>\n",
       "      <th>...</th>\n",
       "      <td>...</td>\n",
       "      <td>...</td>\n",
       "      <td>...</td>\n",
       "      <td>...</td>\n",
       "      <td>...</td>\n",
       "      <td>...</td>\n",
       "      <td>...</td>\n",
       "      <td>...</td>\n",
       "      <td>...</td>\n",
       "      <td>...</td>\n",
       "      <td>...</td>\n",
       "      <td>...</td>\n",
       "      <td>...</td>\n",
       "      <td>...</td>\n",
       "      <td>...</td>\n",
       "      <td>...</td>\n",
       "      <td>...</td>\n",
       "      <td>...</td>\n",
       "      <td>...</td>\n",
       "      <td>...</td>\n",
       "      <td>...</td>\n",
       "    </tr>\n",
       "    <tr>\n",
       "      <th>1098</th>\n",
       "      <td>71.731691</td>\n",
       "      <td>1.0</td>\n",
       "      <td>38.0</td>\n",
       "      <td>NaN</td>\n",
       "      <td>1.0</td>\n",
       "      <td>1.0</td>\n",
       "      <td>0.47</td>\n",
       "      <td>3.43</td>\n",
       "      <td>26.50</td>\n",
       "      <td>NaN</td>\n",
       "      <td>...</td>\n",
       "      <td>NaN</td>\n",
       "      <td>NaN</td>\n",
       "      <td>NaN</td>\n",
       "      <td>NaN</td>\n",
       "      <td>NaN</td>\n",
       "      <td>NaN</td>\n",
       "      <td>NaN</td>\n",
       "      <td>NaN</td>\n",
       "      <td>NaN</td>\n",
       "      <td>0</td>\n",
       "    </tr>\n",
       "    <tr>\n",
       "      <th>1099</th>\n",
       "      <td>89.106092</td>\n",
       "      <td>1.0</td>\n",
       "      <td>36.0</td>\n",
       "      <td>NaN</td>\n",
       "      <td>1.0</td>\n",
       "      <td>1.0</td>\n",
       "      <td>8.10</td>\n",
       "      <td>4.00</td>\n",
       "      <td>7.96</td>\n",
       "      <td>NaN</td>\n",
       "      <td>...</td>\n",
       "      <td>NaN</td>\n",
       "      <td>NaN</td>\n",
       "      <td>NaN</td>\n",
       "      <td>NaN</td>\n",
       "      <td>NaN</td>\n",
       "      <td>NaN</td>\n",
       "      <td>NaN</td>\n",
       "      <td>NaN</td>\n",
       "      <td>NaN</td>\n",
       "      <td>0</td>\n",
       "    </tr>\n",
       "    <tr>\n",
       "      <th>1100</th>\n",
       "      <td>70.042437</td>\n",
       "      <td>1.0</td>\n",
       "      <td>37.2</td>\n",
       "      <td>NaN</td>\n",
       "      <td>1.0</td>\n",
       "      <td>1.0</td>\n",
       "      <td>5.13</td>\n",
       "      <td>4.90</td>\n",
       "      <td>10.10</td>\n",
       "      <td>NaN</td>\n",
       "      <td>...</td>\n",
       "      <td>NaN</td>\n",
       "      <td>NaN</td>\n",
       "      <td>NaN</td>\n",
       "      <td>NaN</td>\n",
       "      <td>NaN</td>\n",
       "      <td>NaN</td>\n",
       "      <td>NaN</td>\n",
       "      <td>NaN</td>\n",
       "      <td>NaN</td>\n",
       "      <td>1</td>\n",
       "    </tr>\n",
       "    <tr>\n",
       "      <th>1101</th>\n",
       "      <td>78.253251</td>\n",
       "      <td>1.0</td>\n",
       "      <td>37.0</td>\n",
       "      <td>NaN</td>\n",
       "      <td>1.0</td>\n",
       "      <td>0.0</td>\n",
       "      <td>7.14</td>\n",
       "      <td>5.14</td>\n",
       "      <td>NaN</td>\n",
       "      <td>NaN</td>\n",
       "      <td>...</td>\n",
       "      <td>NaN</td>\n",
       "      <td>NaN</td>\n",
       "      <td>NaN</td>\n",
       "      <td>NaN</td>\n",
       "      <td>NaN</td>\n",
       "      <td>NaN</td>\n",
       "      <td>NaN</td>\n",
       "      <td>NaN</td>\n",
       "      <td>NaN</td>\n",
       "      <td>1</td>\n",
       "    </tr>\n",
       "    <tr>\n",
       "      <th>1102</th>\n",
       "      <td>85.935661</td>\n",
       "      <td>1.0</td>\n",
       "      <td>38.0</td>\n",
       "      <td>NaN</td>\n",
       "      <td>1.0</td>\n",
       "      <td>0.0</td>\n",
       "      <td>NaN</td>\n",
       "      <td>NaN</td>\n",
       "      <td>NaN</td>\n",
       "      <td>NaN</td>\n",
       "      <td>...</td>\n",
       "      <td>NaN</td>\n",
       "      <td>NaN</td>\n",
       "      <td>NaN</td>\n",
       "      <td>NaN</td>\n",
       "      <td>NaN</td>\n",
       "      <td>NaN</td>\n",
       "      <td>NaN</td>\n",
       "      <td>NaN</td>\n",
       "      <td>NaN</td>\n",
       "      <td>0</td>\n",
       "    </tr>\n",
       "  </tbody>\n",
       "</table>\n",
       "<p>1103 rows × 35 columns</p>\n",
       "</div>"
      ],
      "text/plain": [
       "            Age  PositivityAtAdmission  Temp_C  DaysFever  Cough  \\\n",
       "0     72.000000                    1.0    37.3        3.0    1.0   \n",
       "1     35.913889                    1.0    39.3        3.0    1.0   \n",
       "2     57.266667                    1.0    37.0        3.0    0.0   \n",
       "3     39.000000                    1.0    37.2        2.0    1.0   \n",
       "4     44.000000                    1.0    38.0        3.0    1.0   \n",
       "...         ...                    ...     ...        ...    ...   \n",
       "1098  71.731691                    1.0    38.0        NaN    1.0   \n",
       "1099  89.106092                    1.0    36.0        NaN    1.0   \n",
       "1100  70.042437                    1.0    37.2        NaN    1.0   \n",
       "1101  78.253251                    1.0    37.0        NaN    1.0   \n",
       "1102  85.935661                    1.0    38.0        NaN    1.0   \n",
       "\n",
       "      DifficultyInBreathing    WBC   RBC    CRP  Fibrinogen  ...  \\\n",
       "0                       0.0   5.37  4.58   3.96         NaN  ...   \n",
       "1                       0.0   5.76  5.24  43.40       651.0  ...   \n",
       "2                       0.0  11.48  5.71  64.00       700.0  ...   \n",
       "3                       0.0  10.17  3.45   0.75         NaN  ...   \n",
       "4                       0.0   6.64  5.55   5.20         NaN  ...   \n",
       "...                     ...    ...   ...    ...         ...  ...   \n",
       "1098                    1.0   0.47  3.43  26.50         NaN  ...   \n",
       "1099                    1.0   8.10  4.00   7.96         NaN  ...   \n",
       "1100                    1.0   5.13  4.90  10.10         NaN  ...   \n",
       "1101                    0.0   7.14  5.14    NaN         NaN  ...   \n",
       "1102                    0.0    NaN   NaN    NaN         NaN  ...   \n",
       "\n",
       "      HighBloodPressure  Diabetes  Dementia  BPCO  Cancer  \\\n",
       "0                   0.0       0.0       0.0   0.0     1.0   \n",
       "1                   1.0       0.0       0.0   0.0     0.0   \n",
       "2                   0.0       0.0       0.0   0.0     0.0   \n",
       "3                   0.0       0.0       0.0   0.0     0.0   \n",
       "4                   0.0       0.0       0.0   0.0     0.0   \n",
       "...                 ...       ...       ...   ...     ...   \n",
       "1098                NaN       NaN       NaN   NaN     NaN   \n",
       "1099                NaN       NaN       NaN   NaN     NaN   \n",
       "1100                NaN       NaN       NaN   NaN     NaN   \n",
       "1101                NaN       NaN       NaN   NaN     NaN   \n",
       "1102                NaN       NaN       NaN   NaN     NaN   \n",
       "\n",
       "      ChronicKidneyDisease  RespiratoryFailure  Obesity  Position  Sex  \n",
       "0                      0.0                 0.0      0.0       0.0    1  \n",
       "1                      0.0                 NaN      1.0       0.0    0  \n",
       "2                      0.0                 NaN      NaN       0.0    0  \n",
       "3                      0.0                 0.0      0.0       1.0    1  \n",
       "4                      0.0                 0.0      0.0       0.0    0  \n",
       "...                    ...                 ...      ...       ...  ...  \n",
       "1098                   NaN                 NaN      NaN       NaN    0  \n",
       "1099                   NaN                 NaN      NaN       NaN    0  \n",
       "1100                   NaN                 NaN      NaN       NaN    1  \n",
       "1101                   NaN                 NaN      NaN       NaN    1  \n",
       "1102                   NaN                 NaN      NaN       NaN    0  \n",
       "\n",
       "[1103 rows x 35 columns]"
      ]
     },
     "execution_count": 43,
     "metadata": {},
     "output_type": "execute_result"
    }
   ],
   "source": [
    "df_cat= df.select_dtypes('float')\n",
    "df_cat['Sex']= df['Sex']\n",
    "df_cat"
   ]
  },
  {
   "cell_type": "code",
   "execution_count": null,
   "metadata": {},
   "outputs": [],
   "source": [
    "lista_malati= df['Prognosis']=='SEVERE'\n",
    "lista_sani= df['Prognosis']=='MILD'\n",
    "'''\n",
    "for i in range(df_cat.shape[1]):\n",
    "    #mean_malati= df_cat.iloc[i][lista_malati].mean()\n",
    "    #mean_sani= df_cat.iloc[i][lista_sani].mean()\n",
    "    #print(i)\n",
    "    df_cat.iloc[i][0]\n",
    "'''"
   ]
  },
  {
   "cell_type": "code",
   "execution_count": 39,
   "metadata": {},
   "outputs": [
    {
     "data": {
      "text/plain": [
       "1103"
      ]
     },
     "execution_count": 39,
     "metadata": {},
     "output_type": "execute_result"
    }
   ],
   "source": [
    "lista_malati= df['Prognosis']=='SEVERE'\n",
    "lista_sani= df['Prognosis']=='MILD'\n",
    "\n",
    "lista_malati.sum() + lista_sani.sum()"
   ]
  },
  {
   "cell_type": "code",
   "execution_count": 45,
   "metadata": {},
   "outputs": [],
   "source": [
    "mean_malati= df_cat['Age'][lista_malati].mean()\n",
    "mean_sani= df_cat['Age'][lista_sani].mean()"
   ]
  },
  {
   "cell_type": "code",
   "execution_count": 31,
   "metadata": {},
   "outputs": [],
   "source": [
    "el_nan= list(df_cat.loc[pd.isna(df_cat[\"Age\"]), :].index)"
   ]
  },
  {
   "cell_type": "code",
   "execution_count": 34,
   "metadata": {},
   "outputs": [
    {
     "name": "stderr",
     "output_type": "stream",
     "text": [
      "C:\\Users\\Federico Cocchi\\AppData\\Local\\Temp\\ipykernel_31224\\4252860380.py:3: SettingWithCopyWarning: \n",
      "A value is trying to be set on a copy of a slice from a DataFrame\n",
      "\n",
      "See the caveats in the documentation: https://pandas.pydata.org/pandas-docs/stable/user_guide/indexing.html#returning-a-view-versus-a-copy\n",
      "  df_cat['Age'][el_nan[k]] = mean_malati\n"
     ]
    }
   ],
   "source": [
    "for k in range(len(el_nan)):\n",
    "    if df['Prognosis'][el_nan[k]] == 'SEVERE':\n",
    "        df_cat['Age'][el_nan[k]] = mean_malati\n",
    "    else:\n",
    "        df_cat['Age'][el_nan[k]] = mean_sani"
   ]
  },
  {
   "cell_type": "code",
   "execution_count": null,
   "metadata": {},
   "outputs": [],
   "source": []
  },
  {
   "cell_type": "code",
   "execution_count": 53,
   "metadata": {},
   "outputs": [],
   "source": [
    "# new approach\n",
    "mean_value= []\n",
    "for i in range(df_cat.shape[1]):\n",
    "    mean= df_cat.iloc[i].mean()\n",
    "    mean_value.append(mean)"
   ]
  },
  {
   "cell_type": "code",
   "execution_count": 57,
   "metadata": {},
   "outputs": [
    {
     "name": "stdout",
     "output_type": "stream",
     "text": [
      "{'Age': 16.763225806451615, 'PositivityAtAdmission': 52.84199588477367, 'Temp_C': 71.00022222222223, 'DaysFever': 16.002903225806453, 'Cough': 17.561999999999998, 'DifficultyInBreathing': 17.92413793103448, 'WBC': 68.15712962962964, 'RBC': 54.57896551724138, 'CRP': 21.442866666666667, 'Fibrinogen': 65.17515325670499, 'Glucose': 9.824561403508772, 'PCT': 128.18374999999997, 'LDH': 47.398782051282055, 'INR': 97.46513409961686, 'D_dimer': 88.13425925925927, 'Ox_percentage': 52.581149425287364, 'PaO2': 105.94619883040934, 'SaO2': 77.38116858237547, 'PaCO2': 123.69457777777778, 'pH': 35.45691570881226, 'CardiovascularDisease': 52.440440613026816, 'IschemicHeartDisease': 93.35366666666665, 'AtrialFibrillation': 51.62659003831418, 'HeartFailure': 45.042, 'Ictus': 31.755769230769236, 'HighBloodPressure': 10.70545893719807, 'Diabetes': 55.724427777777784, 'Dementia': 16.37064516129032, 'BPCO': 33.377584541062795, 'Cancer': 18.820967741935487, 'ChronicKidneyDisease': 24.701612903225808, 'RespiratoryFailure': 21.683928571428574, 'Obesity': 25.241935483870968, 'Position': 30.20516129032258, 'Sex': 26.948387096774198}\n"
     ]
    }
   ],
   "source": [
    "values= {}\n",
    "\n",
    "for counter, value in enumerate(df_cat.keys()):\n",
    "    values[value] = mean_value[counter]\n",
    "print(values)"
   ]
  },
  {
   "cell_type": "code",
   "execution_count": 58,
   "metadata": {},
   "outputs": [
    {
     "data": {
      "text/html": [
       "<div>\n",
       "<style scoped>\n",
       "    .dataframe tbody tr th:only-of-type {\n",
       "        vertical-align: middle;\n",
       "    }\n",
       "\n",
       "    .dataframe tbody tr th {\n",
       "        vertical-align: top;\n",
       "    }\n",
       "\n",
       "    .dataframe thead th {\n",
       "        text-align: right;\n",
       "    }\n",
       "</style>\n",
       "<table border=\"1\" class=\"dataframe\">\n",
       "  <thead>\n",
       "    <tr style=\"text-align: right;\">\n",
       "      <th></th>\n",
       "      <th>Age</th>\n",
       "      <th>PositivityAtAdmission</th>\n",
       "      <th>Temp_C</th>\n",
       "      <th>DaysFever</th>\n",
       "      <th>Cough</th>\n",
       "      <th>DifficultyInBreathing</th>\n",
       "      <th>WBC</th>\n",
       "      <th>RBC</th>\n",
       "      <th>CRP</th>\n",
       "      <th>Fibrinogen</th>\n",
       "      <th>...</th>\n",
       "      <th>HighBloodPressure</th>\n",
       "      <th>Diabetes</th>\n",
       "      <th>Dementia</th>\n",
       "      <th>BPCO</th>\n",
       "      <th>Cancer</th>\n",
       "      <th>ChronicKidneyDisease</th>\n",
       "      <th>RespiratoryFailure</th>\n",
       "      <th>Obesity</th>\n",
       "      <th>Position</th>\n",
       "      <th>Sex</th>\n",
       "    </tr>\n",
       "  </thead>\n",
       "  <tbody>\n",
       "    <tr>\n",
       "      <th>0</th>\n",
       "      <td>72.000000</td>\n",
       "      <td>1.0</td>\n",
       "      <td>37.3</td>\n",
       "      <td>3.000000</td>\n",
       "      <td>1.0</td>\n",
       "      <td>0.0</td>\n",
       "      <td>5.37000</td>\n",
       "      <td>4.580000</td>\n",
       "      <td>3.960000</td>\n",
       "      <td>65.175153</td>\n",
       "      <td>...</td>\n",
       "      <td>0.000000</td>\n",
       "      <td>0.000000</td>\n",
       "      <td>0.000000</td>\n",
       "      <td>0.000000</td>\n",
       "      <td>1.000000</td>\n",
       "      <td>0.000000</td>\n",
       "      <td>0.000000</td>\n",
       "      <td>0.000000</td>\n",
       "      <td>0.000000</td>\n",
       "      <td>1</td>\n",
       "    </tr>\n",
       "    <tr>\n",
       "      <th>1</th>\n",
       "      <td>35.913889</td>\n",
       "      <td>1.0</td>\n",
       "      <td>39.3</td>\n",
       "      <td>3.000000</td>\n",
       "      <td>1.0</td>\n",
       "      <td>0.0</td>\n",
       "      <td>5.76000</td>\n",
       "      <td>5.240000</td>\n",
       "      <td>43.400000</td>\n",
       "      <td>651.000000</td>\n",
       "      <td>...</td>\n",
       "      <td>1.000000</td>\n",
       "      <td>0.000000</td>\n",
       "      <td>0.000000</td>\n",
       "      <td>0.000000</td>\n",
       "      <td>0.000000</td>\n",
       "      <td>0.000000</td>\n",
       "      <td>21.683929</td>\n",
       "      <td>1.000000</td>\n",
       "      <td>0.000000</td>\n",
       "      <td>0</td>\n",
       "    </tr>\n",
       "    <tr>\n",
       "      <th>2</th>\n",
       "      <td>57.266667</td>\n",
       "      <td>1.0</td>\n",
       "      <td>37.0</td>\n",
       "      <td>3.000000</td>\n",
       "      <td>0.0</td>\n",
       "      <td>0.0</td>\n",
       "      <td>11.48000</td>\n",
       "      <td>5.710000</td>\n",
       "      <td>64.000000</td>\n",
       "      <td>700.000000</td>\n",
       "      <td>...</td>\n",
       "      <td>0.000000</td>\n",
       "      <td>0.000000</td>\n",
       "      <td>0.000000</td>\n",
       "      <td>0.000000</td>\n",
       "      <td>0.000000</td>\n",
       "      <td>0.000000</td>\n",
       "      <td>21.683929</td>\n",
       "      <td>25.241935</td>\n",
       "      <td>0.000000</td>\n",
       "      <td>0</td>\n",
       "    </tr>\n",
       "    <tr>\n",
       "      <th>3</th>\n",
       "      <td>39.000000</td>\n",
       "      <td>1.0</td>\n",
       "      <td>37.2</td>\n",
       "      <td>2.000000</td>\n",
       "      <td>1.0</td>\n",
       "      <td>0.0</td>\n",
       "      <td>10.17000</td>\n",
       "      <td>3.450000</td>\n",
       "      <td>0.750000</td>\n",
       "      <td>65.175153</td>\n",
       "      <td>...</td>\n",
       "      <td>0.000000</td>\n",
       "      <td>0.000000</td>\n",
       "      <td>0.000000</td>\n",
       "      <td>0.000000</td>\n",
       "      <td>0.000000</td>\n",
       "      <td>0.000000</td>\n",
       "      <td>0.000000</td>\n",
       "      <td>0.000000</td>\n",
       "      <td>1.000000</td>\n",
       "      <td>1</td>\n",
       "    </tr>\n",
       "    <tr>\n",
       "      <th>4</th>\n",
       "      <td>44.000000</td>\n",
       "      <td>1.0</td>\n",
       "      <td>38.0</td>\n",
       "      <td>3.000000</td>\n",
       "      <td>1.0</td>\n",
       "      <td>0.0</td>\n",
       "      <td>6.64000</td>\n",
       "      <td>5.550000</td>\n",
       "      <td>5.200000</td>\n",
       "      <td>65.175153</td>\n",
       "      <td>...</td>\n",
       "      <td>0.000000</td>\n",
       "      <td>0.000000</td>\n",
       "      <td>0.000000</td>\n",
       "      <td>0.000000</td>\n",
       "      <td>0.000000</td>\n",
       "      <td>0.000000</td>\n",
       "      <td>0.000000</td>\n",
       "      <td>0.000000</td>\n",
       "      <td>0.000000</td>\n",
       "      <td>0</td>\n",
       "    </tr>\n",
       "    <tr>\n",
       "      <th>...</th>\n",
       "      <td>...</td>\n",
       "      <td>...</td>\n",
       "      <td>...</td>\n",
       "      <td>...</td>\n",
       "      <td>...</td>\n",
       "      <td>...</td>\n",
       "      <td>...</td>\n",
       "      <td>...</td>\n",
       "      <td>...</td>\n",
       "      <td>...</td>\n",
       "      <td>...</td>\n",
       "      <td>...</td>\n",
       "      <td>...</td>\n",
       "      <td>...</td>\n",
       "      <td>...</td>\n",
       "      <td>...</td>\n",
       "      <td>...</td>\n",
       "      <td>...</td>\n",
       "      <td>...</td>\n",
       "      <td>...</td>\n",
       "      <td>...</td>\n",
       "    </tr>\n",
       "    <tr>\n",
       "      <th>1098</th>\n",
       "      <td>71.731691</td>\n",
       "      <td>1.0</td>\n",
       "      <td>38.0</td>\n",
       "      <td>16.002903</td>\n",
       "      <td>1.0</td>\n",
       "      <td>1.0</td>\n",
       "      <td>0.47000</td>\n",
       "      <td>3.430000</td>\n",
       "      <td>26.500000</td>\n",
       "      <td>65.175153</td>\n",
       "      <td>...</td>\n",
       "      <td>10.705459</td>\n",
       "      <td>55.724428</td>\n",
       "      <td>16.370645</td>\n",
       "      <td>33.377585</td>\n",
       "      <td>18.820968</td>\n",
       "      <td>24.701613</td>\n",
       "      <td>21.683929</td>\n",
       "      <td>25.241935</td>\n",
       "      <td>30.205161</td>\n",
       "      <td>0</td>\n",
       "    </tr>\n",
       "    <tr>\n",
       "      <th>1099</th>\n",
       "      <td>89.106092</td>\n",
       "      <td>1.0</td>\n",
       "      <td>36.0</td>\n",
       "      <td>16.002903</td>\n",
       "      <td>1.0</td>\n",
       "      <td>1.0</td>\n",
       "      <td>8.10000</td>\n",
       "      <td>4.000000</td>\n",
       "      <td>7.960000</td>\n",
       "      <td>65.175153</td>\n",
       "      <td>...</td>\n",
       "      <td>10.705459</td>\n",
       "      <td>55.724428</td>\n",
       "      <td>16.370645</td>\n",
       "      <td>33.377585</td>\n",
       "      <td>18.820968</td>\n",
       "      <td>24.701613</td>\n",
       "      <td>21.683929</td>\n",
       "      <td>25.241935</td>\n",
       "      <td>30.205161</td>\n",
       "      <td>0</td>\n",
       "    </tr>\n",
       "    <tr>\n",
       "      <th>1100</th>\n",
       "      <td>70.042437</td>\n",
       "      <td>1.0</td>\n",
       "      <td>37.2</td>\n",
       "      <td>16.002903</td>\n",
       "      <td>1.0</td>\n",
       "      <td>1.0</td>\n",
       "      <td>5.13000</td>\n",
       "      <td>4.900000</td>\n",
       "      <td>10.100000</td>\n",
       "      <td>65.175153</td>\n",
       "      <td>...</td>\n",
       "      <td>10.705459</td>\n",
       "      <td>55.724428</td>\n",
       "      <td>16.370645</td>\n",
       "      <td>33.377585</td>\n",
       "      <td>18.820968</td>\n",
       "      <td>24.701613</td>\n",
       "      <td>21.683929</td>\n",
       "      <td>25.241935</td>\n",
       "      <td>30.205161</td>\n",
       "      <td>1</td>\n",
       "    </tr>\n",
       "    <tr>\n",
       "      <th>1101</th>\n",
       "      <td>78.253251</td>\n",
       "      <td>1.0</td>\n",
       "      <td>37.0</td>\n",
       "      <td>16.002903</td>\n",
       "      <td>1.0</td>\n",
       "      <td>0.0</td>\n",
       "      <td>7.14000</td>\n",
       "      <td>5.140000</td>\n",
       "      <td>21.442867</td>\n",
       "      <td>65.175153</td>\n",
       "      <td>...</td>\n",
       "      <td>10.705459</td>\n",
       "      <td>55.724428</td>\n",
       "      <td>16.370645</td>\n",
       "      <td>33.377585</td>\n",
       "      <td>18.820968</td>\n",
       "      <td>24.701613</td>\n",
       "      <td>21.683929</td>\n",
       "      <td>25.241935</td>\n",
       "      <td>30.205161</td>\n",
       "      <td>1</td>\n",
       "    </tr>\n",
       "    <tr>\n",
       "      <th>1102</th>\n",
       "      <td>85.935661</td>\n",
       "      <td>1.0</td>\n",
       "      <td>38.0</td>\n",
       "      <td>16.002903</td>\n",
       "      <td>1.0</td>\n",
       "      <td>0.0</td>\n",
       "      <td>68.15713</td>\n",
       "      <td>54.578966</td>\n",
       "      <td>21.442867</td>\n",
       "      <td>65.175153</td>\n",
       "      <td>...</td>\n",
       "      <td>10.705459</td>\n",
       "      <td>55.724428</td>\n",
       "      <td>16.370645</td>\n",
       "      <td>33.377585</td>\n",
       "      <td>18.820968</td>\n",
       "      <td>24.701613</td>\n",
       "      <td>21.683929</td>\n",
       "      <td>25.241935</td>\n",
       "      <td>30.205161</td>\n",
       "      <td>0</td>\n",
       "    </tr>\n",
       "  </tbody>\n",
       "</table>\n",
       "<p>1103 rows × 35 columns</p>\n",
       "</div>"
      ],
      "text/plain": [
       "            Age  PositivityAtAdmission  Temp_C  DaysFever  Cough  \\\n",
       "0     72.000000                    1.0    37.3   3.000000    1.0   \n",
       "1     35.913889                    1.0    39.3   3.000000    1.0   \n",
       "2     57.266667                    1.0    37.0   3.000000    0.0   \n",
       "3     39.000000                    1.0    37.2   2.000000    1.0   \n",
       "4     44.000000                    1.0    38.0   3.000000    1.0   \n",
       "...         ...                    ...     ...        ...    ...   \n",
       "1098  71.731691                    1.0    38.0  16.002903    1.0   \n",
       "1099  89.106092                    1.0    36.0  16.002903    1.0   \n",
       "1100  70.042437                    1.0    37.2  16.002903    1.0   \n",
       "1101  78.253251                    1.0    37.0  16.002903    1.0   \n",
       "1102  85.935661                    1.0    38.0  16.002903    1.0   \n",
       "\n",
       "      DifficultyInBreathing       WBC        RBC        CRP  Fibrinogen  ...  \\\n",
       "0                       0.0   5.37000   4.580000   3.960000   65.175153  ...   \n",
       "1                       0.0   5.76000   5.240000  43.400000  651.000000  ...   \n",
       "2                       0.0  11.48000   5.710000  64.000000  700.000000  ...   \n",
       "3                       0.0  10.17000   3.450000   0.750000   65.175153  ...   \n",
       "4                       0.0   6.64000   5.550000   5.200000   65.175153  ...   \n",
       "...                     ...       ...        ...        ...         ...  ...   \n",
       "1098                    1.0   0.47000   3.430000  26.500000   65.175153  ...   \n",
       "1099                    1.0   8.10000   4.000000   7.960000   65.175153  ...   \n",
       "1100                    1.0   5.13000   4.900000  10.100000   65.175153  ...   \n",
       "1101                    0.0   7.14000   5.140000  21.442867   65.175153  ...   \n",
       "1102                    0.0  68.15713  54.578966  21.442867   65.175153  ...   \n",
       "\n",
       "      HighBloodPressure   Diabetes   Dementia       BPCO     Cancer  \\\n",
       "0              0.000000   0.000000   0.000000   0.000000   1.000000   \n",
       "1              1.000000   0.000000   0.000000   0.000000   0.000000   \n",
       "2              0.000000   0.000000   0.000000   0.000000   0.000000   \n",
       "3              0.000000   0.000000   0.000000   0.000000   0.000000   \n",
       "4              0.000000   0.000000   0.000000   0.000000   0.000000   \n",
       "...                 ...        ...        ...        ...        ...   \n",
       "1098          10.705459  55.724428  16.370645  33.377585  18.820968   \n",
       "1099          10.705459  55.724428  16.370645  33.377585  18.820968   \n",
       "1100          10.705459  55.724428  16.370645  33.377585  18.820968   \n",
       "1101          10.705459  55.724428  16.370645  33.377585  18.820968   \n",
       "1102          10.705459  55.724428  16.370645  33.377585  18.820968   \n",
       "\n",
       "      ChronicKidneyDisease  RespiratoryFailure    Obesity   Position  Sex  \n",
       "0                 0.000000            0.000000   0.000000   0.000000    1  \n",
       "1                 0.000000           21.683929   1.000000   0.000000    0  \n",
       "2                 0.000000           21.683929  25.241935   0.000000    0  \n",
       "3                 0.000000            0.000000   0.000000   1.000000    1  \n",
       "4                 0.000000            0.000000   0.000000   0.000000    0  \n",
       "...                    ...                 ...        ...        ...  ...  \n",
       "1098             24.701613           21.683929  25.241935  30.205161    0  \n",
       "1099             24.701613           21.683929  25.241935  30.205161    0  \n",
       "1100             24.701613           21.683929  25.241935  30.205161    1  \n",
       "1101             24.701613           21.683929  25.241935  30.205161    1  \n",
       "1102             24.701613           21.683929  25.241935  30.205161    0  \n",
       "\n",
       "[1103 rows x 35 columns]"
      ]
     },
     "execution_count": 58,
     "metadata": {},
     "output_type": "execute_result"
    }
   ],
   "source": [
    "df_final= df_cat.fillna(value=values)\n",
    "df_final"
   ]
  },
  {
   "cell_type": "code",
   "execution_count": null,
   "metadata": {},
   "outputs": [],
   "source": [
    "df_final.info()"
   ]
  },
  {
   "cell_type": "code",
   "execution_count": null,
   "metadata": {},
   "outputs": [],
   "source": []
  },
  {
   "cell_type": "code",
   "execution_count": null,
   "metadata": {},
   "outputs": [],
   "source": [
    "for i in range(df_cat.shape[1]):\n",
    "    o= df_cat.iloc[i]\n",
    "    print(o)"
   ]
  },
  {
   "cell_type": "markdown",
   "metadata": {},
   "source": [
    "## Continue"
   ]
  },
  {
   "cell_type": "code",
   "execution_count": 3,
   "metadata": {},
   "outputs": [
    {
     "name": "stdout",
     "output_type": "stream",
     "text": [
      "<class 'pandas.core.frame.DataFrame'>\n",
      "RangeIndex: 1103 entries, 0 to 1102\n",
      "Data columns (total 40 columns):\n",
      " #   Column                 Non-Null Count  Dtype  \n",
      "---  ------                 --------------  -----  \n",
      " 0   Row_number             1103 non-null   int64  \n",
      " 1   ImageFile              1103 non-null   object \n",
      " 2   Hospital               1103 non-null   object \n",
      " 3   Age                    1102 non-null   float64\n",
      " 4   Sex                    1103 non-null   int64  \n",
      " 5   PositivityAtAdmission  1064 non-null   float64\n",
      " 6   Temp_C                 943 non-null    float64\n",
      " 7   DaysFever              859 non-null    float64\n",
      " 8   Cough                  1098 non-null   float64\n",
      " 9   DifficultyInBreathing  1099 non-null   float64\n",
      " 10  WBC                    1083 non-null   float64\n",
      " 11  RBC                    1057 non-null   float64\n",
      " 12  CRP                    1059 non-null   float64\n",
      " 13  Fibrinogen             272 non-null    float64\n",
      " 14  Glucose                903 non-null    float64\n",
      " 15  PCT                    448 non-null    float64\n",
      " 16  LDH                    845 non-null    float64\n",
      " 17  INR                    817 non-null    float64\n",
      " 18  D_dimer                316 non-null    float64\n",
      " 19  Ox_percentage          739 non-null    float64\n",
      " 20  PaO2                   833 non-null    float64\n",
      " 21  SaO2                   430 non-null    float64\n",
      " 22  PaCO2                  812 non-null    float64\n",
      " 23  pH                     776 non-null    float64\n",
      " 24  CardiovascularDisease  964 non-null    float64\n",
      " 25  IschemicHeartDisease   829 non-null    float64\n",
      " 26  AtrialFibrillation     961 non-null    float64\n",
      " 27  HeartFailure           960 non-null    float64\n",
      " 28  Ictus                  960 non-null    float64\n",
      " 29  HighBloodPressure      966 non-null    float64\n",
      " 30  Diabetes               966 non-null    float64\n",
      " 31  Dementia               963 non-null    float64\n",
      " 32  BPCO                   966 non-null    float64\n",
      " 33  Cancer                 966 non-null    float64\n",
      " 34  ChronicKidneyDisease   966 non-null    float64\n",
      " 35  RespiratoryFailure     824 non-null    float64\n",
      " 36  Obesity                544 non-null    float64\n",
      " 37  Position               983 non-null    float64\n",
      " 38  Prognosis              1103 non-null   object \n",
      " 39  Death                  1103 non-null   int64  \n",
      "dtypes: float64(34), int64(3), object(3)\n",
      "memory usage: 344.8+ KB\n"
     ]
    }
   ],
   "source": [
    "df.info()"
   ]
  },
  {
   "cell_type": "code",
   "execution_count": null,
   "metadata": {},
   "outputs": [],
   "source": [
    "df.CRP.isnull().values.any()"
   ]
  },
  {
   "cell_type": "code",
   "execution_count": null,
   "metadata": {},
   "outputs": [],
   "source": [
    "df.CRP.isnull().sum()"
   ]
  },
  {
   "cell_type": "code",
   "execution_count": 23,
   "metadata": {},
   "outputs": [
    {
     "data": {
      "text/plain": [
       "(array([ 0.,  1., nan]), array([524, 574,   5], dtype=int64))"
      ]
     },
     "execution_count": 23,
     "metadata": {},
     "output_type": "execute_result"
    }
   ],
   "source": [
    "np.unique(df.Cough, return_counts=True)"
   ]
  },
  {
   "cell_type": "markdown",
   "metadata": {},
   "source": [
    "- Row_number: metto in ordine le righe (per cosa mi serve?)\n",
    "- ImageFile: nome dell'immagine\n",
    "- Hospital: 1-6 diversi ospedali --> non serve per la predizione \n",
    "- Age: lasciarla così --> 1 nan\n",
    "- Sex: 0 – male, 1 – female\n",
    "- PositivityAtAdmission: 0: negativo,1: positivo --> nan\n",
    "- Temp_C: 160 nan\n",
    "- DaysFever: 244 nan\n",
    "- Cough: 5 nan\n",
    "- DifficultyInBreathing: 4 nan\n",
    "- WBC: 20 nan\n",
    "- RBC: 46 nan\n",
    "- CRP: 44 nan"
   ]
  },
  {
   "cell_type": "code",
   "execution_count": 7,
   "metadata": {},
   "outputs": [
    {
     "data": {
      "text/plain": [
       "(array([0, 1], dtype=int64), array([910, 193], dtype=int64))"
      ]
     },
     "execution_count": 7,
     "metadata": {},
     "output_type": "execute_result"
    }
   ],
   "source": [
    "np.unique(df.Death, return_counts=True)"
   ]
  },
  {
   "cell_type": "code",
   "execution_count": 6,
   "metadata": {},
   "outputs": [
    {
     "data": {
      "text/plain": [
       "(array(['MILD', 'SEVERE'], dtype=object), array([535, 568], dtype=int64))"
      ]
     },
     "execution_count": 6,
     "metadata": {},
     "output_type": "execute_result"
    }
   ],
   "source": [
    "# balanced dataset on the object class\n",
    "np.unique(df.Prognosis, return_counts=True)"
   ]
  },
  {
   "cell_type": "code",
   "execution_count": 13,
   "metadata": {},
   "outputs": [
    {
     "data": {
      "text/plain": [
       "array(['MILD', 'SEVERE'], dtype=object)"
      ]
     },
     "execution_count": 13,
     "metadata": {},
     "output_type": "execute_result"
    }
   ],
   "source": [
    "le = preprocessing.LabelEncoder()\n",
    "binarial_Prognosis=le.fit_transform(df.Prognosis)\n",
    "le.classes_"
   ]
  },
  {
   "cell_type": "code",
   "execution_count": 12,
   "metadata": {},
   "outputs": [
    {
     "data": {
      "text/html": [
       "<div>\n",
       "<style scoped>\n",
       "    .dataframe tbody tr th:only-of-type {\n",
       "        vertical-align: middle;\n",
       "    }\n",
       "\n",
       "    .dataframe tbody tr th {\n",
       "        vertical-align: top;\n",
       "    }\n",
       "\n",
       "    .dataframe thead th {\n",
       "        text-align: right;\n",
       "    }\n",
       "</style>\n",
       "<table border=\"1\" class=\"dataframe\">\n",
       "  <thead>\n",
       "    <tr style=\"text-align: right;\">\n",
       "      <th></th>\n",
       "      <th>Row_number</th>\n",
       "      <th>ImageFile</th>\n",
       "      <th>Hospital</th>\n",
       "      <th>Age</th>\n",
       "      <th>Sex</th>\n",
       "      <th>PositivityAtAdmission</th>\n",
       "      <th>Temp_C</th>\n",
       "      <th>DaysFever</th>\n",
       "      <th>Cough</th>\n",
       "      <th>DifficultyInBreathing</th>\n",
       "      <th>...</th>\n",
       "      <th>Diabetes</th>\n",
       "      <th>Dementia</th>\n",
       "      <th>BPCO</th>\n",
       "      <th>Cancer</th>\n",
       "      <th>ChronicKidneyDisease</th>\n",
       "      <th>RespiratoryFailure</th>\n",
       "      <th>Obesity</th>\n",
       "      <th>Position</th>\n",
       "      <th>Prognosis</th>\n",
       "      <th>Death</th>\n",
       "    </tr>\n",
       "  </thead>\n",
       "  <tbody>\n",
       "    <tr>\n",
       "      <th>286</th>\n",
       "      <td>1</td>\n",
       "      <td>P_1.png</td>\n",
       "      <td>A</td>\n",
       "      <td>38.000000</td>\n",
       "      <td>0</td>\n",
       "      <td>1.0</td>\n",
       "      <td>36.0</td>\n",
       "      <td>4.0</td>\n",
       "      <td>1.0</td>\n",
       "      <td>0.0</td>\n",
       "      <td>...</td>\n",
       "      <td>0.0</td>\n",
       "      <td>0.0</td>\n",
       "      <td>0.0</td>\n",
       "      <td>0.0</td>\n",
       "      <td>0.0</td>\n",
       "      <td>0.0</td>\n",
       "      <td>0.0</td>\n",
       "      <td>1.0</td>\n",
       "      <td>MILD</td>\n",
       "      <td>0</td>\n",
       "    </tr>\n",
       "    <tr>\n",
       "      <th>879</th>\n",
       "      <td>2</td>\n",
       "      <td>P_33.png</td>\n",
       "      <td>A</td>\n",
       "      <td>49.000000</td>\n",
       "      <td>0</td>\n",
       "      <td>1.0</td>\n",
       "      <td>37.5</td>\n",
       "      <td>2.0</td>\n",
       "      <td>1.0</td>\n",
       "      <td>1.0</td>\n",
       "      <td>...</td>\n",
       "      <td>0.0</td>\n",
       "      <td>0.0</td>\n",
       "      <td>0.0</td>\n",
       "      <td>0.0</td>\n",
       "      <td>0.0</td>\n",
       "      <td>0.0</td>\n",
       "      <td>0.0</td>\n",
       "      <td>1.0</td>\n",
       "      <td>SEVERE</td>\n",
       "      <td>0</td>\n",
       "    </tr>\n",
       "    <tr>\n",
       "      <th>343</th>\n",
       "      <td>3</td>\n",
       "      <td>P_44.png</td>\n",
       "      <td>A</td>\n",
       "      <td>41.000000</td>\n",
       "      <td>0</td>\n",
       "      <td>1.0</td>\n",
       "      <td>36.0</td>\n",
       "      <td>3.0</td>\n",
       "      <td>1.0</td>\n",
       "      <td>0.0</td>\n",
       "      <td>...</td>\n",
       "      <td>0.0</td>\n",
       "      <td>0.0</td>\n",
       "      <td>0.0</td>\n",
       "      <td>0.0</td>\n",
       "      <td>0.0</td>\n",
       "      <td>0.0</td>\n",
       "      <td>0.0</td>\n",
       "      <td>1.0</td>\n",
       "      <td>MILD</td>\n",
       "      <td>0</td>\n",
       "    </tr>\n",
       "    <tr>\n",
       "      <th>105</th>\n",
       "      <td>4</td>\n",
       "      <td>P_55.png</td>\n",
       "      <td>A</td>\n",
       "      <td>67.000000</td>\n",
       "      <td>0</td>\n",
       "      <td>1.0</td>\n",
       "      <td>36.7</td>\n",
       "      <td>2.0</td>\n",
       "      <td>1.0</td>\n",
       "      <td>1.0</td>\n",
       "      <td>...</td>\n",
       "      <td>0.0</td>\n",
       "      <td>0.0</td>\n",
       "      <td>0.0</td>\n",
       "      <td>1.0</td>\n",
       "      <td>0.0</td>\n",
       "      <td>0.0</td>\n",
       "      <td>1.0</td>\n",
       "      <td>1.0</td>\n",
       "      <td>SEVERE</td>\n",
       "      <td>0</td>\n",
       "    </tr>\n",
       "    <tr>\n",
       "      <th>428</th>\n",
       "      <td>5</td>\n",
       "      <td>P_66.png</td>\n",
       "      <td>A</td>\n",
       "      <td>39.000000</td>\n",
       "      <td>1</td>\n",
       "      <td>1.0</td>\n",
       "      <td>37.3</td>\n",
       "      <td>1.0</td>\n",
       "      <td>1.0</td>\n",
       "      <td>0.0</td>\n",
       "      <td>...</td>\n",
       "      <td>0.0</td>\n",
       "      <td>0.0</td>\n",
       "      <td>0.0</td>\n",
       "      <td>0.0</td>\n",
       "      <td>0.0</td>\n",
       "      <td>0.0</td>\n",
       "      <td>0.0</td>\n",
       "      <td>1.0</td>\n",
       "      <td>MILD</td>\n",
       "      <td>0</td>\n",
       "    </tr>\n",
       "    <tr>\n",
       "      <th>...</th>\n",
       "      <td>...</td>\n",
       "      <td>...</td>\n",
       "      <td>...</td>\n",
       "      <td>...</td>\n",
       "      <td>...</td>\n",
       "      <td>...</td>\n",
       "      <td>...</td>\n",
       "      <td>...</td>\n",
       "      <td>...</td>\n",
       "      <td>...</td>\n",
       "      <td>...</td>\n",
       "      <td>...</td>\n",
       "      <td>...</td>\n",
       "      <td>...</td>\n",
       "      <td>...</td>\n",
       "      <td>...</td>\n",
       "      <td>...</td>\n",
       "      <td>...</td>\n",
       "      <td>...</td>\n",
       "      <td>...</td>\n",
       "      <td>...</td>\n",
       "    </tr>\n",
       "    <tr>\n",
       "      <th>1088</th>\n",
       "      <td>1112</td>\n",
       "      <td>P_2_118.png</td>\n",
       "      <td>C</td>\n",
       "      <td>82.127310</td>\n",
       "      <td>1</td>\n",
       "      <td>1.0</td>\n",
       "      <td>36.8</td>\n",
       "      <td>NaN</td>\n",
       "      <td>0.0</td>\n",
       "      <td>0.0</td>\n",
       "      <td>...</td>\n",
       "      <td>NaN</td>\n",
       "      <td>NaN</td>\n",
       "      <td>NaN</td>\n",
       "      <td>NaN</td>\n",
       "      <td>NaN</td>\n",
       "      <td>NaN</td>\n",
       "      <td>NaN</td>\n",
       "      <td>NaN</td>\n",
       "      <td>SEVERE</td>\n",
       "      <td>0</td>\n",
       "    </tr>\n",
       "    <tr>\n",
       "      <th>535</th>\n",
       "      <td>1113</td>\n",
       "      <td>P_2_119.png</td>\n",
       "      <td>C</td>\n",
       "      <td>76.279261</td>\n",
       "      <td>1</td>\n",
       "      <td>1.0</td>\n",
       "      <td>36.2</td>\n",
       "      <td>NaN</td>\n",
       "      <td>1.0</td>\n",
       "      <td>1.0</td>\n",
       "      <td>...</td>\n",
       "      <td>NaN</td>\n",
       "      <td>NaN</td>\n",
       "      <td>NaN</td>\n",
       "      <td>NaN</td>\n",
       "      <td>NaN</td>\n",
       "      <td>NaN</td>\n",
       "      <td>NaN</td>\n",
       "      <td>NaN</td>\n",
       "      <td>SEVERE</td>\n",
       "      <td>1</td>\n",
       "    </tr>\n",
       "    <tr>\n",
       "      <th>1089</th>\n",
       "      <td>1114</td>\n",
       "      <td>P_2_120.png</td>\n",
       "      <td>C</td>\n",
       "      <td>58.598220</td>\n",
       "      <td>1</td>\n",
       "      <td>1.0</td>\n",
       "      <td>38.0</td>\n",
       "      <td>NaN</td>\n",
       "      <td>1.0</td>\n",
       "      <td>1.0</td>\n",
       "      <td>...</td>\n",
       "      <td>NaN</td>\n",
       "      <td>NaN</td>\n",
       "      <td>NaN</td>\n",
       "      <td>NaN</td>\n",
       "      <td>NaN</td>\n",
       "      <td>NaN</td>\n",
       "      <td>NaN</td>\n",
       "      <td>NaN</td>\n",
       "      <td>SEVERE</td>\n",
       "      <td>1</td>\n",
       "    </tr>\n",
       "    <tr>\n",
       "      <th>1095</th>\n",
       "      <td>1115</td>\n",
       "      <td>P_2_121.png</td>\n",
       "      <td>C</td>\n",
       "      <td>78.335387</td>\n",
       "      <td>0</td>\n",
       "      <td>1.0</td>\n",
       "      <td>38.0</td>\n",
       "      <td>NaN</td>\n",
       "      <td>0.0</td>\n",
       "      <td>1.0</td>\n",
       "      <td>...</td>\n",
       "      <td>NaN</td>\n",
       "      <td>NaN</td>\n",
       "      <td>NaN</td>\n",
       "      <td>NaN</td>\n",
       "      <td>NaN</td>\n",
       "      <td>NaN</td>\n",
       "      <td>NaN</td>\n",
       "      <td>NaN</td>\n",
       "      <td>SEVERE</td>\n",
       "      <td>1</td>\n",
       "    </tr>\n",
       "    <tr>\n",
       "      <th>525</th>\n",
       "      <td>1116</td>\n",
       "      <td>P_2_122.png</td>\n",
       "      <td>C</td>\n",
       "      <td>80.197125</td>\n",
       "      <td>1</td>\n",
       "      <td>1.0</td>\n",
       "      <td>36.5</td>\n",
       "      <td>NaN</td>\n",
       "      <td>0.0</td>\n",
       "      <td>1.0</td>\n",
       "      <td>...</td>\n",
       "      <td>NaN</td>\n",
       "      <td>NaN</td>\n",
       "      <td>NaN</td>\n",
       "      <td>NaN</td>\n",
       "      <td>NaN</td>\n",
       "      <td>NaN</td>\n",
       "      <td>NaN</td>\n",
       "      <td>NaN</td>\n",
       "      <td>SEVERE</td>\n",
       "      <td>1</td>\n",
       "    </tr>\n",
       "  </tbody>\n",
       "</table>\n",
       "<p>1103 rows × 40 columns</p>\n",
       "</div>"
      ],
      "text/plain": [
       "      Row_number    ImageFile Hospital        Age  Sex  PositivityAtAdmission  \\\n",
       "286            1      P_1.png        A  38.000000    0                    1.0   \n",
       "879            2     P_33.png        A  49.000000    0                    1.0   \n",
       "343            3     P_44.png        A  41.000000    0                    1.0   \n",
       "105            4     P_55.png        A  67.000000    0                    1.0   \n",
       "428            5     P_66.png        A  39.000000    1                    1.0   \n",
       "...          ...          ...      ...        ...  ...                    ...   \n",
       "1088        1112  P_2_118.png        C  82.127310    1                    1.0   \n",
       "535         1113  P_2_119.png        C  76.279261    1                    1.0   \n",
       "1089        1114  P_2_120.png        C  58.598220    1                    1.0   \n",
       "1095        1115  P_2_121.png        C  78.335387    0                    1.0   \n",
       "525         1116  P_2_122.png        C  80.197125    1                    1.0   \n",
       "\n",
       "      Temp_C  DaysFever  Cough  DifficultyInBreathing  ...  Diabetes  \\\n",
       "286     36.0        4.0    1.0                    0.0  ...       0.0   \n",
       "879     37.5        2.0    1.0                    1.0  ...       0.0   \n",
       "343     36.0        3.0    1.0                    0.0  ...       0.0   \n",
       "105     36.7        2.0    1.0                    1.0  ...       0.0   \n",
       "428     37.3        1.0    1.0                    0.0  ...       0.0   \n",
       "...      ...        ...    ...                    ...  ...       ...   \n",
       "1088    36.8        NaN    0.0                    0.0  ...       NaN   \n",
       "535     36.2        NaN    1.0                    1.0  ...       NaN   \n",
       "1089    38.0        NaN    1.0                    1.0  ...       NaN   \n",
       "1095    38.0        NaN    0.0                    1.0  ...       NaN   \n",
       "525     36.5        NaN    0.0                    1.0  ...       NaN   \n",
       "\n",
       "      Dementia  BPCO  Cancer  ChronicKidneyDisease  RespiratoryFailure  \\\n",
       "286        0.0   0.0     0.0                   0.0                 0.0   \n",
       "879        0.0   0.0     0.0                   0.0                 0.0   \n",
       "343        0.0   0.0     0.0                   0.0                 0.0   \n",
       "105        0.0   0.0     1.0                   0.0                 0.0   \n",
       "428        0.0   0.0     0.0                   0.0                 0.0   \n",
       "...        ...   ...     ...                   ...                 ...   \n",
       "1088       NaN   NaN     NaN                   NaN                 NaN   \n",
       "535        NaN   NaN     NaN                   NaN                 NaN   \n",
       "1089       NaN   NaN     NaN                   NaN                 NaN   \n",
       "1095       NaN   NaN     NaN                   NaN                 NaN   \n",
       "525        NaN   NaN     NaN                   NaN                 NaN   \n",
       "\n",
       "      Obesity  Position  Prognosis  Death  \n",
       "286       0.0       1.0       MILD      0  \n",
       "879       0.0       1.0     SEVERE      0  \n",
       "343       0.0       1.0       MILD      0  \n",
       "105       1.0       1.0     SEVERE      0  \n",
       "428       0.0       1.0       MILD      0  \n",
       "...       ...       ...        ...    ...  \n",
       "1088      NaN       NaN     SEVERE      0  \n",
       "535       NaN       NaN     SEVERE      1  \n",
       "1089      NaN       NaN     SEVERE      1  \n",
       "1095      NaN       NaN     SEVERE      1  \n",
       "525       NaN       NaN     SEVERE      1  \n",
       "\n",
       "[1103 rows x 40 columns]"
      ]
     },
     "execution_count": 12,
     "metadata": {},
     "output_type": "execute_result"
    }
   ],
   "source": [
    "df_order= df.sort_values(by=['Row_number'])\n",
    "df_order"
   ]
  },
  {
   "cell_type": "code",
   "execution_count": null,
   "metadata": {},
   "outputs": [],
   "source": [
    "df_order.reset_index(inplace=True, drop=True)"
   ]
  },
  {
   "cell_type": "code",
   "execution_count": null,
   "metadata": {},
   "outputs": [],
   "source": [
    "df_order"
   ]
  },
  {
   "cell_type": "code",
   "execution_count": 14,
   "metadata": {},
   "outputs": [
    {
     "data": {
      "text/plain": [
       "array([   1,    2,    3, ..., 1114, 1115, 1116], dtype=int64)"
      ]
     },
     "execution_count": 14,
     "metadata": {},
     "output_type": "execute_result"
    }
   ],
   "source": [
    "np.unique(df.Row_number)"
   ]
  },
  {
   "cell_type": "code",
   "execution_count": null,
   "metadata": {},
   "outputs": [],
   "source": []
  },
  {
   "cell_type": "markdown",
   "metadata": {},
   "source": [
    "## X-rays images"
   ]
  },
  {
   "cell_type": "markdown",
   "metadata": {},
   "source": [
    "open the different images and NORMALIZATION"
   ]
  },
  {
   "cell_type": "code",
   "execution_count": 3,
   "metadata": {},
   "outputs": [],
   "source": [
    "import torchvision.transforms as transforms\n",
    "import torch\n",
    "from PIL import Image\n",
    "import matplotlib.pyplot as plt"
   ]
  },
  {
   "cell_type": "code",
   "execution_count": 18,
   "metadata": {},
   "outputs": [],
   "source": [
    "tran= transforms.Compose([\n",
    "    #transforms.ToPILImage(),\n",
    "    transforms.ToTensor()\n",
    "])"
   ]
  },
  {
   "cell_type": "code",
   "execution_count": 19,
   "metadata": {},
   "outputs": [
    {
     "data": {
      "text/plain": [
       "torch.Size([1, 3520, 4280])"
      ]
     },
     "execution_count": 19,
     "metadata": {},
     "output_type": "execute_result"
    }
   ],
   "source": [
    "img= Image.open(r'TrainSet\\TrainSet\\P_1.png')\n",
    "img= tran(img).float()\n",
    "img.shape"
   ]
  },
  {
   "cell_type": "code",
   "execution_count": 22,
   "metadata": {},
   "outputs": [
    {
     "data": {
      "text/plain": [
       "tensor(1023.)"
      ]
     },
     "execution_count": 22,
     "metadata": {},
     "output_type": "execute_result"
    }
   ],
   "source": [
    "torch.max(img)"
   ]
  },
  {
   "cell_type": "code",
   "execution_count": 23,
   "metadata": {},
   "outputs": [
    {
     "data": {
      "text/plain": [
       "<matplotlib.image.AxesImage at 0x1f806288cd0>"
      ]
     },
     "execution_count": 23,
     "metadata": {},
     "output_type": "execute_result"
    },
    {
     "data": {
      "image/png": "[encoded data removed]",
      "text/plain": [
       "<Figure size 432x288 with 1 Axes>"
      ]
     },
     "metadata": {
      "needs_background": "light"
     },
     "output_type": "display_data"
    }
   ],
   "source": [
    "plt.imshow( img.permute(1, 2, 0), cmap='gray' )"
   ]
  },
  {
   "cell_type": "code",
   "execution_count": null,
   "metadata": {},
   "outputs": [],
   "source": [
    "torch.unique(img)"
   ]
  },
  {
   "cell_type": "code",
   "execution_count": 25,
   "metadata": {},
   "outputs": [
    {
     "name": "stdout",
     "output_type": "stream",
     "text": [
      "tensor(675.8432) tensor(231.7435)\n"
     ]
    }
   ],
   "source": [
    "mean= torch.mean(img)\n",
    "std= torch.std(img)\n",
    "print(mean, std)"
   ]
  },
  {
   "cell_type": "code",
   "execution_count": 26,
   "metadata": {},
   "outputs": [
    {
     "data": {
      "text/plain": [
       "tensor([[[1.3168, 1.3168, 1.3168,  ..., 1.3168, 1.3168, 1.3168],\n",
       "         [1.3168, 1.3168, 1.3168,  ..., 1.3168, 1.3168, 1.3168],\n",
       "         [1.3168, 1.3168, 1.3168,  ..., 1.3168, 1.3168, 1.3168],\n",
       "         ...,\n",
       "         [1.3168, 1.3168, 1.3168,  ..., 1.4980, 1.4937, 1.4937],\n",
       "         [1.3168, 1.3168, 1.3168,  ..., 1.4980, 1.4937, 1.4937],\n",
       "         [1.3168, 1.3168, 1.3168,  ..., 1.4980, 1.4937, 1.4937]]])"
      ]
     },
     "execution_count": 26,
     "metadata": {},
     "output_type": "execute_result"
    }
   ],
   "source": [
    "norm= transforms.Normalize(mean, std)\n",
    "img_norm= norm(img)\n",
    "img_norm"
   ]
  },
  {
   "cell_type": "code",
   "execution_count": 27,
   "metadata": {},
   "outputs": [
    {
     "name": "stdout",
     "output_type": "stream",
     "text": [
      "torch.Size([1, 3520, 4280])\n"
     ]
    },
    {
     "data": {
      "text/plain": [
       "<matplotlib.image.AxesImage at 0x1f806336250>"
      ]
     },
     "execution_count": 27,
     "metadata": {},
     "output_type": "execute_result"
    },
    {
     "data": {
      "image/png": "[encoded data removed]",
      "text/plain": [
       "<Figure size 432x288 with 1 Axes>"
      ]
     },
     "metadata": {
      "needs_background": "light"
     },
     "output_type": "display_data"
    }
   ],
   "source": [
    "print(img_norm.shape)\n",
    "plt.imshow( img_norm.permute(1, 2, 0), cmap='gray' )"
   ]
  },
  {
   "cell_type": "code",
   "execution_count": 41,
   "metadata": {},
   "outputs": [
    {
     "data": {
      "text/plain": [
       "tensor(-2.6633)"
      ]
     },
     "execution_count": 41,
     "metadata": {},
     "output_type": "execute_result"
    }
   ],
   "source": [
    "img_norm.min()"
   ]
  },
  {
   "cell_type": "code",
   "execution_count": 29,
   "metadata": {},
   "outputs": [
    {
     "data": {
      "text/plain": [
       "tensor([[[2.4513, 2.4513, 2.4513,  ..., 2.4513, 2.4513, 2.4513],\n",
       "         [2.4513, 2.4513, 2.4513,  ..., 2.4513, 2.4513, 2.4513],\n",
       "         [2.4513, 2.4513, 2.4513,  ..., 2.4513, 2.4513, 2.4513],\n",
       "         ...,\n",
       "         [2.4513, 2.4513, 2.4513,  ..., 2.5723, 2.5694, 2.5694],\n",
       "         [2.4513, 2.4513, 2.4513,  ..., 2.5723, 2.5694, 2.5694],\n",
       "         [2.4513, 2.4513, 2.4513,  ..., 2.5723, 2.5694, 2.5694]]])"
      ]
     },
     "execution_count": 29,
     "metadata": {},
     "output_type": "execute_result"
    }
   ],
   "source": [
    "data= (img_norm - img_norm.min()) / img_norm.max()\n",
    "data"
   ]
  },
  {
   "cell_type": "code",
   "execution_count": 30,
   "metadata": {},
   "outputs": [
    {
     "data": {
      "text/plain": [
       "tensor([[[0.0169, 0.0169, 0.0169,  ..., 0.0152, 0.0152, 0.0152],\n",
       "         [0.0169, 0.0169, 0.0169,  ..., 0.0152, 0.0152, 0.0152],\n",
       "         [0.0169, 0.0169, 0.0169,  ..., 0.0152, 0.0152, 0.0152],\n",
       "         ...,\n",
       "         [0.0169, 0.0169, 0.0169,  ..., 0.0173, 0.0172, 0.0172],\n",
       "         [0.0169, 0.0169, 0.0169,  ..., 0.0173, 0.0172, 0.0172],\n",
       "         [0.0169, 0.0169, 0.0169,  ..., 0.0173, 0.0172, 0.0172]]])"
      ]
     },
     "execution_count": 30,
     "metadata": {},
     "output_type": "execute_result"
    }
   ],
   "source": [
    "data= torch.nn.functional.normalize(img_norm)\n",
    "data"
   ]
  },
  {
   "cell_type": "code",
   "execution_count": 31,
   "metadata": {},
   "outputs": [
    {
     "data": {
      "text/plain": [
       "tensor(-0.0422)"
      ]
     },
     "execution_count": 31,
     "metadata": {},
     "output_type": "execute_result"
    }
   ],
   "source": [
    "data.min()"
   ]
  },
  {
   "cell_type": "markdown",
   "metadata": {},
   "source": [
    "Normalization for all the images"
   ]
  },
  {
   "cell_type": "code",
   "execution_count": null,
   "metadata": {},
   "outputs": [],
   "source": [
    "transform = transforms.Compose([\n",
    "    transforms.ToPILImage(), # non sono sicuro di questo\n",
    "    transforms.ToTensor()\n",
    "])\n",
    "\n",
    "dataset = '' # leggere/aprire i dati\n",
    "means = []\n",
    "stds = []\n",
    "for img, _ in dataset:\n",
    "    means.append(torch.mean(img))\n",
    "    stds.append(torch.std(img))\n",
    "mean= torch.mean(torch.tensor(means))\n",
    "std= torch.mean(torch.tensor(stds))\n",
    "\n",
    "print(mean, std)"
   ]
  },
  {
   "cell_type": "code",
   "execution_count": null,
   "metadata": {},
   "outputs": [],
   "source": [
    "my_trans= transforms.Compose([\n",
    "    transforms.ToTensor(),\n",
    "    transforms.Normalize(mean, std)\n",
    "])"
   ]
  },
  {
   "cell_type": "markdown",
   "metadata": {},
   "source": [
    "After that we have our dataset and we can start with training and augmentation"
   ]
  },
  {
   "cell_type": "code",
   "execution_count": null,
   "metadata": {},
   "outputs": [],
   "source": []
  },
  {
   "cell_type": "markdown",
   "metadata": {},
   "source": [
    "### Contrasto"
   ]
  },
  {
   "cell_type": "code",
   "execution_count": 8,
   "metadata": {},
   "outputs": [],
   "source": [
    "tran= transforms.Compose([\n",
    "    #transforms.ToPILImage(),\n",
    "    transforms.ToTensor()\n",
    "])"
   ]
  },
  {
   "cell_type": "code",
   "execution_count": 27,
   "metadata": {},
   "outputs": [],
   "source": [
    "img= Image.open(r'TrainSet\\TrainSet\\P_1.png')"
   ]
  },
  {
   "cell_type": "code",
   "execution_count": null,
   "metadata": {},
   "outputs": [],
   "source": [
    "img= tran(img)\n",
    "img.shape"
   ]
  },
  {
   "cell_type": "code",
   "execution_count": 13,
   "metadata": {},
   "outputs": [],
   "source": [
    "# invertire la scala di grigi\n",
    "img= img*-1 + 255"
   ]
  },
  {
   "cell_type": "code",
   "execution_count": null,
   "metadata": {},
   "outputs": [],
   "source": [
    "plt.imshow(img.permute(1, 2, 0), cmap='gray' )"
   ]
  },
  {
   "cell_type": "code",
   "execution_count": null,
   "metadata": {},
   "outputs": [],
   "source": []
  },
  {
   "cell_type": "code",
   "execution_count": 29,
   "metadata": {},
   "outputs": [
    {
     "ename": "ValueError",
     "evalue": "image has wrong mode",
     "output_type": "error",
     "traceback": [
      "\u001b[1;31m---------------------------------------------------------------------------\u001b[0m",
      "\u001b[1;31mValueError\u001b[0m                                Traceback (most recent call last)",
      "\u001b[1;32mc:\\Users\\Federico Cocchi\\UNIMORE\\3° SEMESTRE\\covid-hackathon\\pre-processing.ipynb Cell 64'\u001b[0m in \u001b[0;36m<module>\u001b[1;34m\u001b[0m\n\u001b[0;32m      <a href='vscode-notebook-cell:/c%3A/Users/Federico%20Cocchi/UNIMORE/3%C2%B0%20SEMESTRE/covid-hackathon/pre-processing.ipynb#ch0000058?line=0'>1</a>\u001b[0m contrast \u001b[39m=\u001b[39m ImageEnhance\u001b[39m.\u001b[39mContrast(img)\n\u001b[1;32m----> <a href='vscode-notebook-cell:/c%3A/Users/Federico%20Cocchi/UNIMORE/3%C2%B0%20SEMESTRE/covid-hackathon/pre-processing.ipynb#ch0000058?line=1'>2</a>\u001b[0m contrast\u001b[39m.\u001b[39;49menhance(\u001b[39m2\u001b[39;49m)\u001b[39m.\u001b[39mshow()\n",
      "File \u001b[1;32mC:\\Anaconda\\envs\\hackathon\\lib\\site-packages\\PIL\\ImageEnhance.py:36\u001b[0m, in \u001b[0;36m_Enhance.enhance\u001b[1;34m(self, factor)\u001b[0m\n\u001b[0;32m     <a href='file:///c%3A/Anaconda/envs/hackathon/lib/site-packages/PIL/ImageEnhance.py?line=24'>25</a>\u001b[0m \u001b[39mdef\u001b[39;00m \u001b[39menhance\u001b[39m(\u001b[39mself\u001b[39m, factor):\n\u001b[0;32m     <a href='file:///c%3A/Anaconda/envs/hackathon/lib/site-packages/PIL/ImageEnhance.py?line=25'>26</a>\u001b[0m     \u001b[39m\"\"\"\u001b[39;00m\n\u001b[0;32m     <a href='file:///c%3A/Anaconda/envs/hackathon/lib/site-packages/PIL/ImageEnhance.py?line=26'>27</a>\u001b[0m \u001b[39m    Returns an enhanced image.\u001b[39;00m\n\u001b[0;32m     <a href='file:///c%3A/Anaconda/envs/hackathon/lib/site-packages/PIL/ImageEnhance.py?line=27'>28</a>\u001b[0m \n\u001b[1;32m   (...)\u001b[0m\n\u001b[0;32m     <a href='file:///c%3A/Anaconda/envs/hackathon/lib/site-packages/PIL/ImageEnhance.py?line=33'>34</a>\u001b[0m \u001b[39m    :rtype: :py:class:`~PIL.Image.Image`\u001b[39;00m\n\u001b[0;32m     <a href='file:///c%3A/Anaconda/envs/hackathon/lib/site-packages/PIL/ImageEnhance.py?line=34'>35</a>\u001b[0m \u001b[39m    \"\"\"\u001b[39;00m\n\u001b[1;32m---> <a href='file:///c%3A/Anaconda/envs/hackathon/lib/site-packages/PIL/ImageEnhance.py?line=35'>36</a>\u001b[0m     \u001b[39mreturn\u001b[39;00m Image\u001b[39m.\u001b[39;49mblend(\u001b[39mself\u001b[39;49m\u001b[39m.\u001b[39;49mdegenerate, \u001b[39mself\u001b[39;49m\u001b[39m.\u001b[39;49mimage, factor)\n",
      "File \u001b[1;32mC:\\Anaconda\\envs\\hackathon\\lib\\site-packages\\PIL\\Image.py:3074\u001b[0m, in \u001b[0;36mblend\u001b[1;34m(im1, im2, alpha)\u001b[0m\n\u001b[0;32m   <a href='file:///c%3A/Anaconda/envs/hackathon/lib/site-packages/PIL/Image.py?line=3071'>3072</a>\u001b[0m im1\u001b[39m.\u001b[39mload()\n\u001b[0;32m   <a href='file:///c%3A/Anaconda/envs/hackathon/lib/site-packages/PIL/Image.py?line=3072'>3073</a>\u001b[0m im2\u001b[39m.\u001b[39mload()\n\u001b[1;32m-> <a href='file:///c%3A/Anaconda/envs/hackathon/lib/site-packages/PIL/Image.py?line=3073'>3074</a>\u001b[0m \u001b[39mreturn\u001b[39;00m im1\u001b[39m.\u001b[39m_new(core\u001b[39m.\u001b[39;49mblend(im1\u001b[39m.\u001b[39;49mim, im2\u001b[39m.\u001b[39;49mim, alpha))\n",
      "\u001b[1;31mValueError\u001b[0m: image has wrong mode"
     ]
    }
   ],
   "source": [
    "contrast = ImageEnhance.Contrast(img)\n",
    "contrast.enhance(2).show()"
   ]
  },
  {
   "cell_type": "code",
   "execution_count": 24,
   "metadata": {},
   "outputs": [
    {
     "ename": "ValueError",
     "evalue": "image has wrong mode",
     "output_type": "error",
     "traceback": [
      "\u001b[1;31m---------------------------------------------------------------------------\u001b[0m",
      "\u001b[1;31mValueError\u001b[0m                                Traceback (most recent call last)",
      "\u001b[1;32mc:\\Users\\Federico Cocchi\\UNIMORE\\3° SEMESTRE\\covid-hackathon\\pre-processing.ipynb Cell 64'\u001b[0m in \u001b[0;36m<module>\u001b[1;34m\u001b[0m\n\u001b[0;32m     <a href='vscode-notebook-cell:/c%3A/Users/Federico%20Cocchi/UNIMORE/3%C2%B0%20SEMESTRE/covid-hackathon/pre-processing.ipynb#ch0000062?line=26'>27</a>\u001b[0m plt\u001b[39m.\u001b[39mfigure(\u001b[39m1\u001b[39m, figsize\u001b[39m=\u001b[39m(\u001b[39m14\u001b[39m, \u001b[39m9\u001b[39m))\n\u001b[0;32m     <a href='vscode-notebook-cell:/c%3A/Users/Federico%20Cocchi/UNIMORE/3%C2%B0%20SEMESTRE/covid-hackathon/pre-processing.ipynb#ch0000062?line=27'>28</a>\u001b[0m plt\u001b[39m.\u001b[39msubplot(\u001b[39m3\u001b[39m, \u001b[39m4\u001b[39m, \u001b[39m1\u001b[39m), plt\u001b[39m.\u001b[39mimshow(image), plt\u001b[39m.\u001b[39mtitle(\u001b[39m'\u001b[39m\u001b[39mOriginal image\u001b[39m\u001b[39m'\u001b[39m)\n\u001b[1;32m---> <a href='vscode-notebook-cell:/c%3A/Users/Federico%20Cocchi/UNIMORE/3%C2%B0%20SEMESTRE/covid-hackathon/pre-processing.ipynb#ch0000062?line=28'>29</a>\u001b[0m plt\u001b[39m.\u001b[39msubplot(\u001b[39m3\u001b[39m, \u001b[39m4\u001b[39m, \u001b[39m2\u001b[39m), plt\u001b[39m.\u001b[39mimshow(br_enhancer\u001b[39m.\u001b[39;49menhance(factor)), plt\u001b[39m.\u001b[39mtitle(\u001b[39m'\u001b[39m\u001b[39mImageEnhance.Brightness(0.25)\u001b[39m\u001b[39m'\u001b[39m)\n\u001b[0;32m     <a href='vscode-notebook-cell:/c%3A/Users/Federico%20Cocchi/UNIMORE/3%C2%B0%20SEMESTRE/covid-hackathon/pre-processing.ipynb#ch0000062?line=29'>30</a>\u001b[0m plt\u001b[39m.\u001b[39msubplot(\u001b[39m3\u001b[39m, \u001b[39m4\u001b[39m, \u001b[39m3\u001b[39m), plt\u001b[39m.\u001b[39mimshow(cl_enhancer\u001b[39m.\u001b[39menhance(factor)), plt\u001b[39m.\u001b[39mtitle(\u001b[39m'\u001b[39m\u001b[39mImageEnhance.Color(0.25)\u001b[39m\u001b[39m'\u001b[39m)\n\u001b[0;32m     <a href='vscode-notebook-cell:/c%3A/Users/Federico%20Cocchi/UNIMORE/3%C2%B0%20SEMESTRE/covid-hackathon/pre-processing.ipynb#ch0000062?line=30'>31</a>\u001b[0m plt\u001b[39m.\u001b[39msubplot(\u001b[39m3\u001b[39m, \u001b[39m4\u001b[39m, \u001b[39m4\u001b[39m), plt\u001b[39m.\u001b[39mimshow(cn_enhancer\u001b[39m.\u001b[39menhance(factor)), plt\u001b[39m.\u001b[39mtitle(\u001b[39m'\u001b[39m\u001b[39mImageEnhance.Contrast(0.25)\u001b[39m\u001b[39m'\u001b[39m)\n",
      "File \u001b[1;32mC:\\Anaconda\\envs\\hackathon\\lib\\site-packages\\PIL\\ImageEnhance.py:36\u001b[0m, in \u001b[0;36m_Enhance.enhance\u001b[1;34m(self, factor)\u001b[0m\n\u001b[0;32m     <a href='file:///c%3A/Anaconda/envs/hackathon/lib/site-packages/PIL/ImageEnhance.py?line=24'>25</a>\u001b[0m \u001b[39mdef\u001b[39;00m \u001b[39menhance\u001b[39m(\u001b[39mself\u001b[39m, factor):\n\u001b[0;32m     <a href='file:///c%3A/Anaconda/envs/hackathon/lib/site-packages/PIL/ImageEnhance.py?line=25'>26</a>\u001b[0m     \u001b[39m\"\"\"\u001b[39;00m\n\u001b[0;32m     <a href='file:///c%3A/Anaconda/envs/hackathon/lib/site-packages/PIL/ImageEnhance.py?line=26'>27</a>\u001b[0m \u001b[39m    Returns an enhanced image.\u001b[39;00m\n\u001b[0;32m     <a href='file:///c%3A/Anaconda/envs/hackathon/lib/site-packages/PIL/ImageEnhance.py?line=27'>28</a>\u001b[0m \n\u001b[1;32m   (...)\u001b[0m\n\u001b[0;32m     <a href='file:///c%3A/Anaconda/envs/hackathon/lib/site-packages/PIL/ImageEnhance.py?line=33'>34</a>\u001b[0m \u001b[39m    :rtype: :py:class:`~PIL.Image.Image`\u001b[39;00m\n\u001b[0;32m     <a href='file:///c%3A/Anaconda/envs/hackathon/lib/site-packages/PIL/ImageEnhance.py?line=34'>35</a>\u001b[0m \u001b[39m    \"\"\"\u001b[39;00m\n\u001b[1;32m---> <a href='file:///c%3A/Anaconda/envs/hackathon/lib/site-packages/PIL/ImageEnhance.py?line=35'>36</a>\u001b[0m     \u001b[39mreturn\u001b[39;00m Image\u001b[39m.\u001b[39;49mblend(\u001b[39mself\u001b[39;49m\u001b[39m.\u001b[39;49mdegenerate, \u001b[39mself\u001b[39;49m\u001b[39m.\u001b[39;49mimage, factor)\n",
      "File \u001b[1;32mC:\\Anaconda\\envs\\hackathon\\lib\\site-packages\\PIL\\Image.py:3074\u001b[0m, in \u001b[0;36mblend\u001b[1;34m(im1, im2, alpha)\u001b[0m\n\u001b[0;32m   <a href='file:///c%3A/Anaconda/envs/hackathon/lib/site-packages/PIL/Image.py?line=3071'>3072</a>\u001b[0m im1\u001b[39m.\u001b[39mload()\n\u001b[0;32m   <a href='file:///c%3A/Anaconda/envs/hackathon/lib/site-packages/PIL/Image.py?line=3072'>3073</a>\u001b[0m im2\u001b[39m.\u001b[39mload()\n\u001b[1;32m-> <a href='file:///c%3A/Anaconda/envs/hackathon/lib/site-packages/PIL/Image.py?line=3073'>3074</a>\u001b[0m \u001b[39mreturn\u001b[39;00m im1\u001b[39m.\u001b[39m_new(core\u001b[39m.\u001b[39;49mblend(im1\u001b[39m.\u001b[39;49mim, im2\u001b[39m.\u001b[39;49mim, alpha))\n",
      "\u001b[1;31mValueError\u001b[0m: image has wrong mode"
     ]
    },
    {
     "data": {
      "image/png": "[encoded data removed]",
      "text/plain": [
       "<Figure size 1008x648 with 2 Axes>"
      ]
     },
     "metadata": {
      "needs_background": "light"
     },
     "output_type": "display_data"
    }
   ],
   "source": [
    "from matplotlib import pyplot as plt\n",
    "from PIL import Image, ImageEnhance, ImageStat\n",
    "\n",
    "# Read image, set up factor\n",
    "image = img\n",
    "factor = 0.25\n",
    "\n",
    "# ImageEnhance\n",
    "br_enhancer = ImageEnhance.Brightness(image)\n",
    "cl_enhancer = ImageEnhance.Color(image)\n",
    "cn_enhancer = ImageEnhance.Contrast(image)\n",
    "\n",
    "# Rebuild ImageEnhance.Brightness on-the-fly\n",
    "br_image_pre = Image.new(image.mode, image.size, 0)\n",
    "#br_image = Image.blend(br_image_pre, image, factor)\n",
    "\n",
    "# Rebuild ImageEnhance.Color on-the-fly\n",
    "cl_image_pre = image.convert('L').convert('RGB')\n",
    "#cl_image = Image.blend(cl_image_pre, image, factor)\n",
    "\n",
    "# Rebuild ImageEnhance.Contrast on-the-fly\n",
    "mean = int(ImageStat.Stat(image.convert('L')).mean[0] + 0.5)\n",
    "cn_image_pre = Image.new('L', image.size, mean).convert(image.mode)\n",
    "#cn_image = Image.blend(cn_image_pre, image, factor)\n",
    "\n",
    "# Visualization\n",
    "plt.figure(1, figsize=(14, 9))\n",
    "plt.subplot(3, 4, 1), plt.imshow(image), plt.title('Original image')\n",
    "plt.subplot(3, 4, 2), plt.imshow(br_enhancer.enhance(factor)), plt.title('ImageEnhance.Brightness(0.25)')\n",
    "plt.subplot(3, 4, 3), plt.imshow(cl_enhancer.enhance(factor)), plt.title('ImageEnhance.Color(0.25)')\n",
    "plt.subplot(3, 4, 4), plt.imshow(cn_enhancer.enhance(factor)), plt.title('ImageEnhance.Contrast(0.25)')\n",
    "plt.subplot(3, 4, 5), plt.imshow(image), plt.title('Original image (0.25)')\n",
    "plt.subplot(3, 4, 6), plt.imshow(br_image_pre), plt.title('+ brightness modified image (0.75)')\n",
    "plt.subplot(3, 4, 7), plt.imshow(cl_image_pre), plt.title('+ color modified image (0.75)')\n",
    "plt.subplot(3, 4, 8), plt.imshow(cn_image_pre), plt.title('+ contrast modified image (0.75)')\n",
    "#plt.subplot(3, 4, 10), plt.imshow(br_image), plt.title('= rebuilt ImageEnhance.Brightness(0.25)')\n",
    "#plt.subplot(3, 4, 11), plt.imshow(cl_image), plt.title('= rebuilt ImageEnhance.Color(0.25)')\n",
    "#plt.subplot(3, 4, 12), plt.imshow(cn_image), plt.title('= rebuilt ImageEnhance.Contrast(0.25)')\n",
    "plt.tight_layout()\n",
    "plt.show()"
   ]
  },
  {
   "cell_type": "code",
   "execution_count": null,
   "metadata": {},
   "outputs": [],
   "source": []
  }
 ],
 "metadata": {
  "interpreter": {
   "hash": "a941d2d9461696c088a7fd296234b080f9391faea819182040c9ae16fc5a5ab5"
  },
  "kernelspec": {
   "display_name": "Python 3.8.11 64-bit ('AI4A': conda)",
   "language": "python",
   "name": "python3"
  },
  "language_info": {
   "codemirror_mode": {
    "name": "ipython",
    "version": 3
   },
   "file_extension": ".py",
   "mimetype": "text/x-python",
   "name": "python",
   "nbconvert_exporter": "python",
   "pygments_lexer": "ipython3",
   "version": "3.8.12"
  },
  "orig_nbformat": 4
 },
 "nbformat": 4,
 "nbformat_minor": 2
}
